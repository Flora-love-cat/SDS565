{
 "cells": [
  {
   "attachments": {},
   "cell_type": "markdown",
   "metadata": {
    "id": "cAZv5V2sVQW5"
   },
   "source": [
    "# Python Tutorial\n"
   ]
  },
  {
   "attachments": {},
   "cell_type": "markdown",
   "metadata": {},
   "source": [
    "a short list of popular Python resources and guides here:\n",
    "* [A Byte of Python](https://python.swaroopch.com/)\n",
    "* [A collection of useful scripts, tutorials, and other Python\\-related things](https://github.com/rasbt/python_reference#a-collection-of-useful-scripts-tutorials-and-other-python-related-things)\n",
    "* [Automate the Boring Stuff with Python](http://automatetheboringstuff.com/)\n",
    "* [Google's Python Class](https://developers.google.com/edu/python/)\n",
    "* Python courses on [LinkedIn Learning](https://www.linkedin.com/learning/) (which Yale students have free access to)\n",
    "* [The Hitchhiker’s Guide to Python! — The Hitchhiker's Guide to Python](https://docs.python-guide.org/)\n",
    "* [The Python Tutorial](https://docs.python.org/3/tutorial/index.html) (from Python's own website, you can change versions at the top)\n",
    "* [Real Python](https://realpython.com/)"
   ]
  },
  {
   "attachments": {},
   "cell_type": "markdown",
   "metadata": {
    "id": "TFIYzlpOWA7I"
   },
   "source": [
    "## Colab"
   ]
  },
  {
   "attachments": {},
   "cell_type": "markdown",
   "metadata": {
    "id": "LjkDzIy0WDzZ"
   },
   "source": [
    "\n",
    "* Colab Notebooks: New notebooks will automatically save to a new top-level directory in your Google Drive called \"Colab Notebooks\"\n",
    "  * Even if you move them elsewhere in your Drive, Colab will be able to find them\n",
    "  * I suggest saving them in your Google Drive then mounting it to have easy access to them\n",
    "\n",
    "  ```python\n",
    "  from google.colab import drive\n",
    "  drive.mount('/gdrive')\n",
    "  ```\n",
    "* You can also save them to a GitHub repository\n",
    "* You don't have to be signed in to view a notebook, but you should login with a Google Account to connect to the runtime\n",
    "* Your environment resets each time you run a notebook, so variables, unsaved files, installed packages, etc. will all be lost\n",
    "* Shut down your notebook once you're done to free up resources\n",
    "  \n",
    "* Colabs has some significant differences with Jupyter, including but not limited to:\n",
    "  * Built-in Table of Contents\n",
    "  * Some useful code snippets\n",
    "  * Code execution history tab\n",
    "  * A SearchStackOverflow button that pops up for errors\n",
    "  * Slightly different Markdown formatting\n",
    "  * Access to the terminal in Colab Pro\n",
    "  * Commenting and sharing\n",
    "  * Revision history\n",
    "  * Fun features under Settings -> Miscellaneous"
   ]
  },
  {
   "cell_type": "code",
   "execution_count": null,
   "metadata": {
    "id": "jDRsBhy3WEAG"
   },
   "outputs": [],
   "source": [
    "# mounting your Google Drive\n",
    "from google.colab import drive\n",
    "drive.mount('/gdrive')\n",
    "\n",
    "# now you can see it in the Files section of the left sidebar (after authorization)\n",
    "# keep in mind this is actually your drive -> changes (e.g. deleted files) will propagate"
   ]
  },
  {
   "cell_type": "code",
   "execution_count": null,
   "metadata": {
    "id": "meh0acEtk7xK"
   },
   "outputs": [],
   "source": [
    "# Colab comes pre-installed with many useful tools (numpy, scipy, pandas, pytorch, etc.)\n",
    "!pip freeze # to see available libraries and their versions"
   ]
  },
  {
   "cell_type": "code",
   "execution_count": null,
   "metadata": {
    "id": "TZCd3dn2mFUq"
   },
   "outputs": [],
   "source": [
    "# the ! is part of IPython magic -> it lets you access the command line\n",
    "!python --version # the latest Python version released is 3.9"
   ]
  },
  {
   "cell_type": "code",
   "execution_count": null,
   "metadata": {
    "id": "VrGHHZ8Omd5v"
   },
   "outputs": [],
   "source": [
    "# if you need to install a package, run\n",
    "%pip install package_name\n",
    "\n",
    "# you could also do !apt-get install to use the Linux installer"
   ]
  },
  {
   "attachments": {},
   "cell_type": "markdown",
   "metadata": {
    "id": "YEF4qmG4VQXZ"
   },
   "source": [
    "\n",
    "## Fundamentals\n"
   ]
  },
  {
   "cell_type": "markdown",
   "metadata": {
    "id": "hTpyFHd9hU_O"
   },
   "source": [
    "### Commenting and Printing"
   ]
  },
  {
   "cell_type": "markdown",
   "metadata": {
    "id": "bY9Zdd7RhcVe"
   },
   "source": [
    "Commenting (writing text around your code) is done with a '#' in front of what you want to comment out."
   ]
  },
  {
   "cell_type": "code",
   "execution_count": null,
   "metadata": {
    "id": "U8xrFHMBVQXd"
   },
   "outputs": [],
   "source": [
    "# comment statements look like this: these green lines will not affect your code\n",
    "# commenting code is VERY IMPORTANT - it will let me, Samah, and most importantly yourself know what you're coding\n",
    "# a good comment explains what a function does, what a loop accomplishes, and so forth\n",
    "# all code for this class must be commented, so make it a habit\n",
    "\n",
    "# printing statements looks like this\n",
    "print('Hello World!')\n",
    "\n",
    "# print multiple things with commas\n",
    "print('hello', 'students') # adds spaces by default\n",
    "print('hello' + 'students') # only works for strings\n",
    "\n",
    "# you can even get fancy\n",
    "print(\"We're having {} with Python!\".format(\"fun\"))\n",
    "\n",
    "greeting = \"Howdy\"\n",
    "print(f\"{greeting}!\")"
   ]
  },
  {
   "cell_type": "markdown",
   "metadata": {
    "id": "KzQg-HeKhel6"
   },
   "source": [
    "### Pythonic Coding"
   ]
  },
  {
   "cell_type": "code",
   "execution_count": null,
   "metadata": {
    "id": "TLUd8YVmVQXk"
   },
   "outputs": [],
   "source": [
    "import this"
   ]
  },
  {
   "cell_type": "markdown",
   "metadata": {
    "id": "o0KjUEo1VQXm"
   },
   "source": [
    "___________________________________________________________________________________________________________________________\n",
    "## Data Types\n",
    "Python is a special type of object-oriented programming language. Other such languages include Java, C++, Ruby, PHP and many more."
   ]
  },
  {
   "cell_type": "markdown",
   "metadata": {
    "id": "f6J6zW470Un0"
   },
   "source": [
    "### Numbers and Strings"
   ]
  },
  {
   "cell_type": "code",
   "execution_count": null,
   "metadata": {
    "id": "h5AubrV8VQXo"
   },
   "outputs": [],
   "source": [
    "# objects are your computer's way of representing data\n",
    "# objects come in many flavors; some basic ones include:\n",
    "    # integer: int\n",
    "    # decimal: float\n",
    "    # character: char\n",
    "    # character sequence: str\n",
    "    # boolean: bool\n",
    "# initiate objects by giving them a name and assigning them a value using an '=' \n",
    "# you do not need to explicitly tell Python what type of object you are creating, it infers it!\n",
    "\n",
    "x = 4                               # numerics (int and float)\n",
    "y = -5.55\n",
    "z = 'word'                          # strings\n",
    "my_bool = False                     # boolean\n",
    "\n",
    "print(x)\n",
    "print(z)"
   ]
  },
  {
   "cell_type": "code",
   "execution_count": null,
   "metadata": {
    "id": "sS36d2IMVQXs"
   },
   "outputs": [],
   "source": [
    "# perform basic arithmetic with numbers\n",
    "    # add: +\n",
    "    # subtract: -\n",
    "    # multiply: *\n",
    "    # divide: /\n",
    "    # power: **\n",
    "    # mod: %\n",
    "    \n",
    "print(x + y)\n",
    "print(x ** y)\n",
    "print(x % 3)\n",
    "\n",
    "# doing arithmetic with different types of objects can be tricky\n",
    "# as shown above, ints and floats are compatible; they are both numeric\n",
    "# if you try to add an int to a str, you get a TypeError\n",
    "print(x + z)"
   ]
  },
  {
   "cell_type": "markdown",
   "metadata": {
    "id": "PKv75CCw03Ck"
   },
   "source": [
    "### Datetime"
   ]
  },
  {
   "cell_type": "code",
   "execution_count": null,
   "metadata": {
    "id": "95eDjoKHVQXu"
   },
   "outputs": [],
   "source": [
    "# there is also a datetime data type\n",
    "# datetime objects are great because writing code to deal with dates is actually very difficult (so many special cases)\n",
    "# for this we need to import python's datetime package\n",
    "# we will learn more about packages later\n",
    "import datetime\n",
    "\n",
    "DOB = datetime.datetime(1995, 5, 17) # there are different date layouts\n",
    "print(DOB)\n",
    "print(type(DOB))"
   ]
  },
  {
   "cell_type": "code",
   "execution_count": null,
   "metadata": {
    "id": "KaD6tm06VQXx"
   },
   "outputs": [],
   "source": [
    "# you can access any part of the datetime object as well\n",
    "print(DOB.year)\n",
    "print(DOB.month)"
   ]
  },
  {
   "cell_type": "code",
   "execution_count": null,
   "metadata": {
    "id": "Anzhw_FBVQXz"
   },
   "outputs": [],
   "source": [
    "# you can also add and subtract date times\n",
    "present = datetime.datetime.now()\n",
    "print(present-DOB)"
   ]
  },
  {
   "cell_type": "code",
   "execution_count": null,
   "metadata": {
    "id": "61uh1sDvVQX2"
   },
   "outputs": [],
   "source": [
    "# you can check the type of an object by using Python's type function\n",
    "print(type(x))\n",
    "print(type(z))"
   ]
  },
  {
   "cell_type": "markdown",
   "metadata": {
    "id": "pwK4FkAf05li"
   },
   "source": [
    "### Lists"
   ]
  },
  {
   "cell_type": "code",
   "execution_count": null,
   "metadata": {
    "id": "f07tsyAzVQX5"
   },
   "outputs": [],
   "source": [
    "# lists are objects that can hold other objects\n",
    "# lists are ordered and start at an index of 0 (not true for all languages)\n",
    "\n",
    "# create a list with an '=' again, and using square brackets '[]'\n",
    "# a list can be empty, like our example below\n",
    "empty_list = []\n",
    "my_list = [11,12,13,14]\n",
    "print(my_list)"
   ]
  },
  {
   "cell_type": "code",
   "execution_count": null,
   "metadata": {
    "id": "FNvh75H8VQX8"
   },
   "outputs": [],
   "source": [
    "# if your list is full of just numeric data types, you can easily ask some questions about it\n",
    "# like find the maximum value\n",
    "print('max:', max(my_list))\n",
    "\n",
    "# or the minimum value\n",
    "print('min:', min(my_list))\n",
    "\n",
    "# or the sum of all elements in the list\n",
    "print('sum:', sum(my_list))"
   ]
  },
  {
   "cell_type": "code",
   "execution_count": null,
   "metadata": {
    "id": "isw2Dw3tVQX-"
   },
   "outputs": [],
   "source": [
    "# a list can contain any type of Python objects\n",
    "# you can look at things in list by position, and change them\n",
    "print(my_list[0])\n",
    "my_list[0] = 'eleven'\n",
    "print(my_list)"
   ]
  },
  {
   "cell_type": "code",
   "execution_count": null,
   "metadata": {
    "id": "PjwbMA-CVQYA"
   },
   "outputs": [],
   "source": [
    "# add things to a list using .append(*thing*)\n",
    "my_list.append(False)\n",
    "print(my_list)"
   ]
  },
  {
   "cell_type": "code",
   "execution_count": null,
   "metadata": {
    "id": "tvKUN8ydVQYC"
   },
   "outputs": [],
   "source": [
    "# create lists of lists\n",
    "my_new_list = [my_list, my_list, my_list]\n",
    "print(my_new_list)"
   ]
  },
  {
   "cell_type": "code",
   "execution_count": null,
   "metadata": {
    "id": "KOSG_CdhVQYD"
   },
   "outputs": [],
   "source": [
    "# lists can be sliced, that is, you can access individual parts of the list, that then act as lists\n",
    "list1 = [5, 4, 3, 2, 1]\n",
    "sliced_list = list1[1:3]\n",
    "print(sliced_list)"
   ]
  },
  {
   "cell_type": "code",
   "execution_count": null,
   "metadata": {
    "id": "YxlW138aVQYF"
   },
   "outputs": [],
   "source": [
    "# lists can be combined\n",
    "combined_list = list1 + sliced_list\n",
    "print(combined_list)"
   ]
  },
  {
   "cell_type": "code",
   "execution_count": null,
   "metadata": {
    "id": "I6ZgHPmSVQYG"
   },
   "outputs": [],
   "source": [
    "# you can ask the length of a list with the len function: len()\n",
    "print(len(combined_list))\n",
    "\n",
    "#this will only count the contents of the list, not the contents of any lists within your list\n",
    "print(len(my_new_list))"
   ]
  },
  {
   "cell_type": "code",
   "execution_count": null,
   "metadata": {
    "id": "kxe3CTxfVQYH"
   },
   "outputs": [],
   "source": [
    "# a tuple is a list that cannot be changed\n",
    "# tuples are valuable when you don't want to accidently change an important piece of data\n",
    "# tuples are created using '()'\n",
    "our_tuple = ('one fish','two fish','red fish','blue fish')\n",
    "print(type(our_tuple))\n",
    "\n",
    "# trying to change a tuple like we did with lists results in an TypeError\n",
    "our_tuple[0] = 'no fish'"
   ]
  },
  {
   "cell_type": "markdown",
   "metadata": {
    "id": "2KXurDy61hyp"
   },
   "source": [
    "### Dictionaries"
   ]
  },
  {
   "cell_type": "code",
   "execution_count": null,
   "metadata": {
    "id": "f3a4w1e5VQYL"
   },
   "outputs": [],
   "source": [
    "# dictionaries are handy objects with keys that correspond to values.\n",
    "# dicts are UNORDERED\n",
    "# because of behind-the-scenes hashing, looking up values in dicts is very quick\n",
    "# create a dict using curly brackets '{}' with pairs of objects {key:value}\n",
    "# dictionaries can hold any objects as values\n",
    "# dictionaries can, like lists, be empty\n",
    "empty_dictionary = {}\n",
    "patient = {'first name': 'joe',\n",
    "           'last_name': 'Smo',\n",
    "           'age': 24,\n",
    "           'diagnosis': 'diabetes',\n",
    "           'perscription': ['metformin', 'insulin'],\n",
    "           'DOB': DOB\n",
    "          }"
   ]
  },
  {
   "cell_type": "code",
   "execution_count": null,
   "metadata": {
    "id": "--WrHpNOVQYQ"
   },
   "outputs": [],
   "source": [
    "# access (and change) things in a dictionary by their key\n",
    "print('unchanged:', patient['first name'])\n",
    "patient['first name'] = 'Joe'\n",
    "print('changed: {}'.format(patient['first name']))"
   ]
  },
  {
   "cell_type": "code",
   "execution_count": null,
   "metadata": {
    "id": "1aQnR147VQYS"
   },
   "outputs": [],
   "source": [
    "# you can also access the all of the keys, values, and item pairs of a dictionary using some built-in capabilities\n",
    "# here is how you access the keys -> it gives you a dict_keys object\n",
    "# I recommend casting these output objects as lists, as the dict_keys object isn't very useful\n",
    "print('1:', patient.keys())\n",
    "patient_keys = list(patient.keys())\n",
    "print('2:', patient_keys)\n",
    "\n",
    "# you can also get the values using .values()\n",
    "# they will be in the same order as the keys from .keys()\n",
    "patient_values = list(patient.values())\n",
    "print('3:', patient_values)\n",
    "\n",
    "# finally, you can retrieve the (key, value) pairs as tuples using .items()\n",
    "patient_pairs = list(patient.items())\n",
    "print('4:', patient_pairs)"
   ]
  },
  {
   "cell_type": "code",
   "execution_count": null,
   "metadata": {
    "id": "tRAq15mIVQYU"
   },
   "outputs": [],
   "source": [
    "# you can ask the length of a dict with the len function: len()\n",
    "print(len(patient))"
   ]
  },
  {
   "cell_type": "markdown",
   "metadata": {
    "id": "3W434Vaf091Q"
   },
   "source": [
    "### Changing Types"
   ]
  },
  {
   "cell_type": "code",
   "execution_count": null,
   "metadata": {
    "id": "ODUPc7UfVQYJ"
   },
   "outputs": [],
   "source": [
    "# casting objects to different types\n",
    "    # int -> float: just adds a .0 on to it\n",
    "    # float -> int: takes the floor of the value\n",
    "    # anything (including lists, dicts, tuples etc.) -> string: whatever print(*thing*), would output, that's your new thing\n",
    "    # string -> int/float, but not one that makes sense (its not an integer or decimal): gives you a TYPE ERROR\n",
    "    # tuple -> list and vice versa: exactly how it sounds\n",
    "\n",
    "x = 5\n",
    "print(x, type(x))\n",
    "\n",
    "x = float(x)\n",
    "print(x, type(x))\n",
    "\n",
    "x = str(x)\n",
    "print(x, type(x))\n",
    "\n",
    "# casting objects can sometimes give you a TypeError\n",
    "# here is a str of numerals\n",
    "a = '88'\n",
    "# we can cast it as an int, because all the characters in it are numerals\n",
    "print(int(a))\n",
    "# here is a string with numerals and an alphabet character\n",
    "b = '88z'\n",
    "# casting this as an int gives us an TypeError message\n",
    "print(int(b))"
   ]
  },
  {
   "cell_type": "markdown",
   "metadata": {
    "id": "1WQQCvEnVQYW"
   },
   "source": [
    "___________________________________________________________________________________________________________________________\n",
    "## Basic Coding\n",
    "These basic coding concepts, in some form or another, are found across all common programming languages."
   ]
  },
  {
   "cell_type": "markdown",
   "metadata": {
    "id": "e5lcbbk12YEf"
   },
   "source": [
    "### If/Then and Else Statements"
   ]
  },
  {
   "cell_type": "code",
   "execution_count": null,
   "metadata": {
    "id": "yeIwJNlQVQYh"
   },
   "outputs": [],
   "source": [
    "# IF THEN statements allows the computer to ask a question and make a decision\n",
    "# semantically, it sounds like \"if this is true, then do this thing\"\n",
    "# logically, it uses conditionals like \n",
    "    # =='  equal to\n",
    "    # >    less than\n",
    "    # <    greater than\n",
    "    # >=   less than or equal to\n",
    "    # <=   greater than or equal to\n",
    "    # !=   not equal to\n",
    "    # and a few other things\n",
    "# in Python, the THEN is implied after a ':' (and a newline and tab)\n",
    "\n",
    "a = 5\n",
    "b = 4\n",
    "if a > b:\n",
    "    print(a, 'is greater than', b)"
   ]
  },
  {
   "cell_type": "code",
   "execution_count": null,
   "metadata": {
    "id": "RgQ3x0KfVQYj"
   },
   "outputs": [],
   "source": [
    "# ELSE statement is added after an if statement, and will trigger when the condition is not met\n",
    "c = 'dog'\n",
    "d = 'cat'\n",
    "if c == b:\n",
    "    print(c, 'equals', d)\n",
    "else:\n",
    "    print(c, 'does not equal', d)"
   ]
  },
  {
   "cell_type": "code",
   "execution_count": null,
   "metadata": {
    "id": "zevgf_vuVQYk"
   },
   "outputs": [],
   "source": [
    "# any code can go within the action of the loop\n",
    "# make a IF statement that checks if something is not equal to 10, and if it is not, sets it equal to 10\n",
    "\n",
    "if a != 10:\n",
    "    a = 10\n",
    "    print(a)"
   ]
  },
  {
   "cell_type": "code",
   "execution_count": null,
   "metadata": {
    "id": "vd0BSnGPVQYm"
   },
   "outputs": [],
   "source": [
    "# if statements work well with lists\n",
    "our_list = ['hello','my','good','friends']\n",
    "# we can use IN to ask if there is something in our list\n",
    "if 'good' in our_list:\n",
    "    print(\"we have 'good' in our list\")"
   ]
  },
  {
   "cell_type": "code",
   "execution_count": null,
   "metadata": {
    "id": "EeIByD15VQYn"
   },
   "outputs": [],
   "source": [
    "# we can add logical statements to make our conditions a little more flexible\n",
    "# combine conditions with AND, this requires both conditions to be met\n",
    "if ('hello' in our_list) and ('goodbye' in our_list):\n",
    "    print('passed')\n",
    "else:\n",
    "    print(\"failed\")\n",
    "\n",
    "# combine conditions with OR, this requires only one condition to be met\n",
    "if ('hello' in our_list) or ('goodbye' in our_list):\n",
    "    print('passed')\n",
    "else:\n",
    "    print(\"failed\")"
   ]
  },
  {
   "cell_type": "code",
   "execution_count": null,
   "metadata": {
    "id": "kAHPwSioVQYo"
   },
   "outputs": [],
   "source": [
    "# negate conditions with NOT, this requires the condition to be FALSE to pass\n",
    "if not 'goodbye' in our_list:\n",
    "    print('passed')\n",
    "else:\n",
    "    print(\"failed\")"
   ]
  },
  {
   "cell_type": "markdown",
   "metadata": {
    "id": "9NgZ_yzX2dqg"
   },
   "source": [
    "### While Loops"
   ]
  },
  {
   "cell_type": "code",
   "execution_count": null,
   "metadata": {
    "id": "HpuTb9k_VQYp"
   },
   "outputs": [],
   "source": [
    "# a WHILE loop executes over and over again until the condition is met\n",
    "# these can be dangerous, as they can make INFINITE loops\n",
    "    # infinite loops happen when the variables will never change such that the condition is no longer true\n",
    "    # and Python will not do anything about it, it will just keep running until you stop it manually\n",
    "\n",
    "# example problem: your 6 year old really wants a dog, but you do not (for some terrible reason)\n",
    "# you tell them they have to wait until they are 12 to get a dog\n",
    "# we can represent this programatically.\n",
    "childs_age = 8\n",
    "while childs_age < 12:\n",
    "    childs_age = childs_age + 1 # forgettting this line will cause an infinite loop\n",
    "    print('Happy', str(childs_age) + 'th birthday!')\n",
    "print('You made it, here is your dog')\n",
    "\n",
    "# what would happen if your child is Benjamin Button, that is, they age backwards?"
   ]
  },
  {
   "cell_type": "markdown",
   "metadata": {
    "id": "6n4ux8Jy2gfi"
   },
   "source": [
    "### For Loops"
   ]
  },
  {
   "cell_type": "code",
   "execution_count": null,
   "metadata": {
    "id": "VORDlDVbVQYq"
   },
   "outputs": [],
   "source": [
    "# to avoid infinite WHILE loops, FOR loops were invented\n",
    "# FOR loops iterate over everything in a list\n",
    "\n",
    "our_list = ['this','is','a','sentence','.']\n",
    "for word in our_list:\n",
    "    print(word)"
   ]
  },
  {
   "cell_type": "code",
   "execution_count": null,
   "metadata": {
    "id": "CiuFVAHFVQYr"
   },
   "outputs": [],
   "source": [
    "# you can also loop over dictionary items using .items()\n",
    "patient = {'first name': 'joe',\n",
    "           'last_name': 'Smo',\n",
    "           'age': 24,\n",
    "           'diagnosis': 'diabetes',\n",
    "           'perscription': ['metformin','insulin'],\n",
    "           'DOB': DOB\n",
    "          }\n",
    "for pair in patient.items():\n",
    "    print(pair)"
   ]
  },
  {
   "cell_type": "markdown",
   "metadata": {
    "id": "GTiA91Ie2yyD"
   },
   "source": [
    "#### Range"
   ]
  },
  {
   "cell_type": "code",
   "execution_count": null,
   "metadata": {
    "id": "2jYcBY_aVQYs"
   },
   "outputs": [],
   "source": [
    "# RANGE is a nice way of getting a range of numbers\n",
    "print(range(5))\n",
    "for i in range(5):\n",
    "    print(i)\n",
    "\n",
    "# RANGE does not have to start at zero\n",
    "print(range(5, 10))\n",
    "for i in range(5, 10):\n",
    "    print(i)\n",
    "    \n",
    "# RANGE can skip numbers as well\n",
    "print(range(0, 50, 10))\n",
    "for i in range(0, 50, 10):\n",
    "    print(i)"
   ]
  },
  {
   "cell_type": "code",
   "execution_count": null,
   "metadata": {
    "id": "pg7Bp7HoVQYt"
   },
   "outputs": [],
   "source": [
    "# you can do anything in a FOR loop\n",
    "# convey you are super stoked about frogs, \n",
    "# write a FOR loop that adds 10 '!'s to the end of the word 'frogs', one at a time\n",
    "word = 'frogs'\n",
    "for i in range(10):\n",
    "    word += '!' # += is an alternative to writing word = word + ...\n",
    "    print(word)"
   ]
  },
  {
   "cell_type": "code",
   "execution_count": null,
   "metadata": {
    "id": "ZCLYUkaIVQYu"
   },
   "outputs": [],
   "source": [
    "# you can nest loops of any kind as well\n",
    "# for this, we again will think of a nice toy example\n",
    "# you have a rigorous indoor plant water schedule to keep your plants healthy and happy\n",
    "    # you water the schefflera every 3rd day but only if it is also sunny\n",
    "    # you water the fig leaf 3 times every 4nd day\n",
    "# have the computer tell you each day for two weeks when to water a plant\n",
    "forecast = ['sunny','sunny','sunny','cloudy','cloudy','sunny','sunny',\n",
    "            'cloudy','sunny','sunny','cloudy','cloudy','sunny','sunny']\n",
    "\n",
    "for day in range(14):\n",
    "    if day % 3 == 0:\n",
    "        if forecast[day] == 'sunny':\n",
    "            print(f\"Day {day}: water schefflera\")\n",
    "    if day % 4 == 0:\n",
    "        for i in range(3):\n",
    "             print(f\"Day {day}: water fig leaf\")"
   ]
  },
  {
   "cell_type": "markdown",
   "metadata": {
    "id": "Ns8CHQhn21Hu"
   },
   "source": [
    "#### Enumerate"
   ]
  },
  {
   "cell_type": "code",
   "execution_count": null,
   "metadata": {
    "id": "EB8TAUqcVQYv"
   },
   "outputs": [],
   "source": [
    "# ENUMERATE allows you to keep track of FOR loops\n",
    "# ENUMERATE gives you both the items you are looping over, and their index\n",
    "animals = ['dog','cat','fish','gibbon','ox','donkey','ibis']\n",
    "for i, animal in enumerate(animals):\n",
    "    print(i, animal)"
   ]
  },
  {
   "cell_type": "markdown",
   "metadata": {
    "id": "Fw4WqwK7Zg0_"
   },
   "source": [
    "### Defining Functions"
   ]
  },
  {
   "cell_type": "code",
   "execution_count": null,
   "metadata": {
    "id": "zzaMJxKZVQYw"
   },
   "outputs": [],
   "source": [
    "# functions are nice containers for code\n",
    "# functions usually have an input and RETURN an output, though they do not have to have either\n",
    "# Python has preset functions like print(): print does not return anything, but does have an input\n",
    "# new functions are created in python using DEF, followed by the function name and '(*input*):'\n",
    "# functions are later called using the defined function name followed by function's input in '()'\n",
    "\n",
    "def hello_world():\n",
    "    print('hello world!')\n",
    "\n",
    "hello_world()"
   ]
  },
  {
   "cell_type": "code",
   "execution_count": null,
   "metadata": {
    "id": "tojHeV0aVQYx"
   },
   "outputs": [],
   "source": [
    "# you can fill a function with anything\n",
    "# write a function that calculates both solutions to the quadratic formula\n",
    "# this is the quadratic formula: (-b +/- (b**2 - 4*a*c)**.5)/2*a\n",
    "\n",
    "def quadratic_function(a,b,c):\n",
    "    first_solution = (-b + (b**2 - 4*a*c)**.5)/2*a\n",
    "    second_solution = (-b - (b**2 - 4*a*c)**.5)/2*a\n",
    "    \n",
    "    return first_solution, second_solution\n",
    "\n",
    "# check the solutions for [2,-11,5] and [1,-3,4]\n",
    "s1, s2 = quadratic_function(2,-11,5) # real solutions\n",
    "print(s1, s2)\n",
    "\n",
    "s1, s2 = quadratic_function(1,-3,4)  # complex solutions\n",
    "print(s1, s2)"
   ]
  },
  {
   "cell_type": "markdown",
   "metadata": {
    "id": "FeAyDVLxVQYy"
   },
   "source": [
    "___________________________________________________________________________________________________________________________\n",
    "## Intermediate Coding\n",
    "Here are a few things that you can get through a Python course without knowing, but I wouldn't recommend it"
   ]
  },
  {
   "cell_type": "markdown",
   "metadata": {
    "id": "J74HfEXQ24ZH"
   },
   "source": [
    "### String Manipulations"
   ]
  },
  {
   "cell_type": "code",
   "execution_count": null,
   "metadata": {
    "id": "MwUSs4H7VQYz"
   },
   "outputs": [],
   "source": [
    "# strings can be added and subtracted\n",
    "string_1 = 'hello'\n",
    "string_2 = 'there'\n",
    "print(string_1 + string_2)"
   ]
  },
  {
   "cell_type": "code",
   "execution_count": null,
   "metadata": {
    "id": "OV0NYRnOVQY0"
   },
   "outputs": [],
   "source": [
    "# we can get the length of strings easily\n",
    "print(len(string_1))"
   ]
  },
  {
   "cell_type": "code",
   "execution_count": null,
   "metadata": {
    "id": "bUAhNF9bVQY1"
   },
   "outputs": [],
   "source": [
    "# unwanted characters can be easily removed from the ends (whitespace is removed if no input in function)\n",
    "string_3 = 'friend*'\n",
    "print(string_3.strip('*'))"
   ]
  },
  {
   "cell_type": "code",
   "execution_count": null,
   "metadata": {
    "id": "Ne8ADqF2VQY2"
   },
   "outputs": [],
   "source": [
    "# strings can be split up by a given character, and tossed into a list\n",
    "string_4 = 'hello there friend'\n",
    "print(string_4.split(' '))"
   ]
  },
  {
   "cell_type": "markdown",
   "metadata": {
    "id": "IXfbdL2i3Qbk"
   },
   "source": [
    "### List Comprehensions"
   ]
  },
  {
   "cell_type": "code",
   "execution_count": null,
   "metadata": {
    "id": "QycaQoGUVQY3"
   },
   "outputs": [],
   "source": [
    "# list comprehensions is a great way of making your code more clean, crisp, and PYTHONIC\n",
    "# it essentially combines lists and for loops together\n",
    "\n",
    "# there are other ways of making FOR loop code pythonic, like itertools\n",
    "# feel free to follow the zen of python anyway you want, here is just one example\n",
    "\n",
    "# EXAMPLE 1: say you have a list of numbers, but want a list with those numbers each with 5 added to it\n",
    "our_list = [2, 3, 8, 22, 100]\n",
    "\n",
    "# we could make a FOR loop to do this (old method)\n",
    "new_list = []\n",
    "for x in our_list:\n",
    "    new_list.append(x + 5)\n",
    "print(new_list)\n",
    "\n",
    "# or we could use a list comprehension to turn 3 lines of code into 1 \n",
    "new_list = [x + 5 for x in our_list]\n",
    "print(new_list)"
   ]
  },
  {
   "cell_type": "code",
   "execution_count": null,
   "metadata": {
    "id": "mWRxYfcLVQY4"
   },
   "outputs": [],
   "source": [
    "# EXAMPLE 2: they can be used to make sequences of numbers easily, like the first 10 square numbers\n",
    "squares = [x**2 for x in range(10)]\n",
    "print(squares)"
   ]
  },
  {
   "cell_type": "code",
   "execution_count": null,
   "metadata": {
    "id": "dpgNDJ6RVQY5"
   },
   "outputs": [],
   "source": [
    "# Example 3 (a bit of a story)\n",
    "\n",
    "# list comprehensions can be embedded as well, just as you can embed for loops\n",
    "# to show this, let's phrase this as a problem\n",
    "# say you have some important words from a few electronic health records\n",
    "# we have a list of 3 EHRs, each as a list of words\n",
    "EHRs = [['fell','tylenol','disease','height','april','emergency','hydrocodone','bruising'],\n",
    "        ['lung','diabetes','drug','smoking','warfarin'],\n",
    "        ['tylenol','disease','height','april','acetaminophen']\n",
    "       ]\n",
    "\n",
    "# from these 3 EHRs, you wish to pull out all of the instances of words that exist within a list of drugs\n",
    "drugs = ['metformin','asprin','ibuprofin','hydrocodone','acetaminophen','warfarin','tylenol']\n",
    "\n",
    "# but, you actually want the drug codes for each drug, not the name, and this is found in a drug codes dict\n",
    "drug_codes = {\n",
    "    'metformin':'MET',\n",
    "    'asprin':'ASP',\n",
    "    'ibuprofin':'IBU',\n",
    "    'warfarin':'WAR',\n",
    "    'acetaminophen':'ACE',\n",
    "    'hydrocodone':'HYD',\n",
    "    'tylenol':'TYL'\n",
    "}\n",
    "\n",
    "# you do not care which EHR the drug came from, just the counts\n",
    "\n",
    "# to do this, you first need to collapse the EHRs into one list of words\n",
    "# you can do this with a FOR loop like so\n",
    "EHR_words_1 = []\n",
    "for EHR in EHRs:\n",
    "    for word in EHR:\n",
    "        EHR_words_1.append(word)\n",
    "print('len EHR_words_1:',len(EHR_words_1))\n",
    "\n",
    "# you an also do this with a list comprehension\n",
    "EHR_words_2 = [word for EHR in EHRs for word in EHR]\n",
    "print('len EHR_words_2:',len(EHR_words_2))\n",
    "\n",
    "# lets see if they are identical\n",
    "print('collapsed lists are the same?', EHR_words_1 == EHR_words_2)\n",
    "print(EHR_words_1)\n",
    "\n",
    "# this may seem like a jumbled mess, but if you break it down it begins to makes sense\n",
    "# it is precisely the nested FOR loops we made earlier, even in order\n",
    "# we are trying to get the 'word' within the inner most loop\n",
    "# so we do 'word' for...\n",
    "# then we spell out the 2 loops provides us that word\n",
    "    # first loop: for EHR in EHRs\n",
    "    # second loop: for word in EHR\n",
    "# we put it all together and get [word for EHR in EHRs for word in EHR]"
   ]
  },
  {
   "cell_type": "code",
   "execution_count": null,
   "metadata": {
    "id": "dmRXWm2nVQY7"
   },
   "outputs": [],
   "source": [
    "# now that we have collapsed our EHRs into one list, we need to, for each word, assess if it is a drug\n",
    "# we can do this with a FOR loop like so\n",
    "drug_words_1 = []\n",
    "for word in EHR_words_2:\n",
    "    if word in drugs:\n",
    "        drug_words_1.append(word)\n",
    "print('len drug_words_1:',len(drug_words_1))\n",
    "\n",
    "# we can also be slick, cool, pythoners and do this with list comprehension\n",
    "# here we find that the IF statement found its way into our list\n",
    "# ...\n",
    "drug_words_2 = [word for word in EHR_words_2 if word in drugs]\n",
    "print('len drug_words_2:',len(drug_words_2))\n",
    "\n",
    "# let's look if these are the same\n",
    "print('drug words lists are the same?', drug_words_1 == drug_words_2)"
   ]
  },
  {
   "cell_type": "code",
   "execution_count": null,
   "metadata": {
    "id": "StO9Vi4BVQY8"
   },
   "outputs": [],
   "source": [
    "# now before we do the same thing as before and compare a FOR loop to a list comprehension,\n",
    "# let's be clever\n",
    "# we can get the codes we want within the same list comprehension above\n",
    "drug_codes_2 = [drug_codes[word] for word in EHR_words_2 if word in drugs]\n",
    "\n",
    "# let's compare what we did here to the previous iteration\n",
    "print(drug_words_2)\n",
    "print(drug_codes_2)"
   ]
  },
  {
   "cell_type": "code",
   "execution_count": null,
   "metadata": {
    "id": "yq4cw1GTVQY-"
   },
   "outputs": [],
   "source": [
    "# so we were able to turn a bunch of FOR loops into 2 list comprehensions like so\n",
    "EHR_words_2 = [word for EHR in EHRs for word in EHR]\n",
    "drug_words_2 = [word for word in EHR_words_2 if word in drugs]\n",
    "\n",
    "# we can be proud of ourselves for living the zen of python life\n",
    "\n",
    "# ... but wait, the python guru looks down upon us and says \"ugh, 2 lines? I'd do that in one\"\n",
    "drug_words_3 = [word for word in [word for EHR in EHRs for word in EHR] if word in drugs]\n",
    "drug_words_4 = [word for EHR in EHRs for word in EHR if word in drugs]\n",
    "print('drug_words_2:', drug_words_2)\n",
    "print('drug_words_3:', drug_words_3)\n",
    "print('drug_words_4:', drug_words_4)\n",
    "\n",
    "# and that is when list comprehensions went too far"
   ]
  },
  {
   "cell_type": "markdown",
   "metadata": {
    "id": "aPl1qjTZ3VSh"
   },
   "source": [
    "### Reading and Writing Files"
   ]
  },
  {
   "cell_type": "code",
   "execution_count": null,
   "metadata": {
    "id": "Wl8D0HhIVQY-"
   },
   "outputs": [],
   "source": [
    "# there are multiple ways to read and write files within Python\n",
    "# different methods are designed for different needs: some methods work better with really long files\n",
    "\n",
    "# one very simple example is as follows\n",
    "# we can create a file object using OPEN()\n",
    "# the input to this object is 1) the file name, and 2) what we want the object to do\n",
    "# \"w\" in the file object means we are writing to the file\n",
    "\n",
    "fout = open('testfile.txt','w')\n",
    "\n",
    "# fout.write(*text*) adds the input text to the end of the file WITHOUT a new line, \n",
    "# new lines must be added with a '\\n'\n",
    "fout.write('0,') \n",
    "fout.write('cat\\n')\n",
    "fout.write('1,dog\\n2,pig')\n",
    "\n",
    "# close the file object after you are done with it each time\n",
    "fout.close()\n",
    "\n",
    "# check to see that the file was made"
   ]
  },
  {
   "cell_type": "code",
   "execution_count": null,
   "metadata": {
    "id": "TyLa8WzoVQY_"
   },
   "outputs": [],
   "source": [
    "# this is often done within a WITH loop, don't be alarmed, it is just another way to write it\n",
    "with open('testfile.txt', 'w') as fout:\n",
    "    fout.write('0,') \n",
    "    fout.write('cat\\n')\n",
    "    fout.write('1,dog\\n2,pig')\n",
    "    \n",
    "# this will create the same file as the last cell\n",
    "# and will automatically close the file for you"
   ]
  },
  {
   "cell_type": "code",
   "execution_count": null,
   "metadata": {
    "id": "Bz5tbR_tVQZA"
   },
   "outputs": [],
   "source": [
    "# a file object will read a file when it is passed an \"r\" instead of a \"w\"\n",
    "fin = open('testfile.txt', 'r') \n",
    "print(fin.read())\n",
    "fin.close()"
   ]
  },
  {
   "cell_type": "code",
   "execution_count": null,
   "metadata": {
    "id": "Is1VHIxlVQZC"
   },
   "outputs": [],
   "source": [
    "# you can easily write lists to file using a loop\n",
    "animals = ['dog', 'cat', 'fish', 'gibbon', 'ox', 'donkey', 'ibis']\n",
    "# write this list to a file called 'animals.csv'\n",
    "\n",
    "fout = open('animals.csv','w')\n",
    "\n",
    "for i, animal in enumerate(animals):\n",
    "    fout.write(str(i)+','+animal+'\\n') \n",
    "fout.close() \n",
    "\n",
    "# let's read the file to see what it output\n",
    "fin = open('animals.csv', 'r') \n",
    "print(fin.read()) \n",
    "fin.close()"
   ]
  },
  {
   "cell_type": "markdown",
   "metadata": {
    "id": "6jo58Fxx3Yem"
   },
   "source": [
    "### Error Messages"
   ]
  },
  {
   "cell_type": "code",
   "execution_count": null,
   "metadata": {
    "id": "35LhANHPVQZD"
   },
   "outputs": [],
   "source": [
    "# there are a few types of error messages that may pop up when Python gets mad at you\n",
    "# here we will go over a few\n",
    "\n",
    "# we have seen a common one: the TypeError\n",
    "# this happens when you make objects of different types interact, but those types do not play nicely together\n",
    "print(8 + 'hello')\n",
    "\n",
    "# Python usually does a good job telling you what went wrong, and these are usually easy to fix with casting"
   ]
  },
  {
   "cell_type": "code",
   "execution_count": null,
   "metadata": {
    "id": "L465MqL2VQZE"
   },
   "outputs": [],
   "source": [
    "# another type of error is a SyntaxError\n",
    "# these happen when your code is wrong (not wrong as in ugly or non-pythonic, wrong as in incorrect)\n",
    "# a common source for these errors is forgetting the ':' after a conditional or loop\n",
    "for x in range(3)\n",
    "    print(x)"
   ]
  },
  {
   "cell_type": "code",
   "execution_count": null,
   "metadata": {
    "id": "IAwVMVklVQZF"
   },
   "outputs": [],
   "source": [
    "# we also can be given an IndentationError\n",
    "# this is a type of SyntaxError that occurs when you don't indent properly in your loops and conditionals\n",
    "for x in range(3):\n",
    "print(x)\n",
    "\n",
    "# for these last 2 error messages, you don't need to reevaluate your coding logic, just look for typos"
   ]
  },
  {
   "cell_type": "code",
   "execution_count": null,
   "metadata": {
    "id": "YGkegen8VQZG"
   },
   "outputs": [],
   "source": [
    "# NameError occurs when you try to use a variable you have not defined yet\n",
    "# these are often caused by typos, or can become an issue if your project contains many parts that interact\n",
    "# here we see the variable named \"variable\" is not yet defined\n",
    "print(variable)"
   ]
  },
  {
   "cell_type": "code",
   "execution_count": null,
   "metadata": {
    "id": "AfhpiOo9VQZH"
   },
   "outputs": [],
   "source": [
    "# ZeroDivisionError occurs when you divide by zero\n",
    "print(1/0)"
   ]
  },
  {
   "cell_type": "markdown",
   "metadata": {
    "id": "hYIVIDfl3eIs"
   },
   "source": [
    "Try/Except"
   ]
  },
  {
   "cell_type": "code",
   "execution_count": null,
   "metadata": {
    "id": "-Tg4M6yVVQZJ"
   },
   "outputs": [],
   "source": [
    "# you can deal with errors with a TRY EXCEPT\n",
    "# the TRY attempts to do everything within, \n",
    "# but if an error is thrown, it does everything within the EXCEPT instead\n",
    "try:\n",
    "    print(1/0)\n",
    "except:\n",
    "    print('naw')"
   ]
  },
  {
   "cell_type": "code",
   "execution_count": null,
   "metadata": {
    "id": "92Ith64xVQZK"
   },
   "outputs": [],
   "source": [
    "# you can also add in a pass within the EXCEPT if you want the EXCEPT to do nothing\n",
    "try:\n",
    "    print(1/0)\n",
    "except:\n",
    "    pass"
   ]
  },
  {
   "cell_type": "code",
   "execution_count": null,
   "metadata": {
    "id": "j3aZj1OXVQZL"
   },
   "outputs": [],
   "source": [
    "# errors don't always have to break your code, sometimes you can use them if you expect them\n",
    "# say you want to sum values up, but some of the values are missing as 'NaN'\n",
    "nums = [2,4,2,8,7,'NaN',5,5,10,34,'NaN']\n",
    "\n",
    "# you could check each value to see if it is numeric, and if it is add it to the total\n",
    "total = 0\n",
    "for num in nums:\n",
    "    if num != 'NaN':\n",
    "        total = total + num\n",
    "print(total)\n",
    "# but the extra check in each step takes up time, \n",
    "# (not enough to matter for small cases but enough to care for bigger cases)"
   ]
  },
  {
   "cell_type": "code",
   "execution_count": null,
   "metadata": {
    "id": "DGDktZ5nVQZM"
   },
   "outputs": [],
   "source": [
    "# instead, we could expect the error, pass over it with a TRY EXCEPT, and move on\n",
    "total = 0\n",
    "for num in nums:\n",
    "    try:\n",
    "        total = total + num\n",
    "    except:\n",
    "        print('found NaN, but who cares')\n",
    "print(total)\n",
    "\n",
    "# despite have slightly more code, this will run faster in if nums is significantly large ****"
   ]
  },
  {
   "cell_type": "markdown",
   "metadata": {
    "id": "vOfFcvfDVQZN"
   },
   "source": [
    "___________________________________________________________________________________________________________________________\n",
    "## Packages\n",
    "Installed packages can be imported using ```import *package*```\n",
    "\n",
    "This allows you to use software not native to vanilla python.\n",
    "Some packages like pandas and NumPy come shipped with most installs of Python.\n",
    "Other packages like sklearn may not, and have to be installed using pip or conda.\n",
    "You will not have to worry about installing packages in this class, only importing them."
   ]
  },
  {
   "cell_type": "markdown",
   "metadata": {
    "id": "-KadKVSG3iqm"
   },
   "source": [
    "### JSON"
   ]
  },
  {
   "cell_type": "code",
   "execution_count": null,
   "metadata": {
    "id": "Jn7B8QuSVQZN"
   },
   "outputs": [],
   "source": [
    "# JSON (JavaScript Object Notation) is a very handy data format for multi-type data\n",
    "# JSON is a very effective format for medical data\n",
    "# JSON often exists as a file type, a .json file, but can exist within Python as well\n",
    "# JSON most closely resembles a dictionary in Python\n",
    "# with this package, we make JSON objects from dictionaries or lists of dictionaries using json.dumps\n",
    "import json\n",
    "\n",
    "# here is some patient information as dictionary\n",
    "# they are enumerated with patient IDs, each corresponding to some information\n",
    "patients = {0:{\"first name\": \"John\",\n",
    "               \"last name\": 'Shmo',\n",
    "               \"age\": 24,\n",
    "               \"city\": \"New York\",\n",
    "               \"diagnosis\": \"diabetes\"\n",
    "              },\n",
    "            1:{\"first name\": \"Deborah\",\n",
    "               \"last name\": 'Doe',\n",
    "               \"age\": 30,\n",
    "               \"city\": \"New Haven\"\n",
    "              },\n",
    "           }\n",
    "# notice that the fields are not 100% the same, json allows data fields for objects to be different\n",
    "\n",
    "# convert our dict into a JSON:\n",
    "patients_json = json.dumps(patients)\n",
    "print(patients_json) "
   ]
  },
  {
   "cell_type": "code",
   "execution_count": null,
   "metadata": {
    "id": "Ha0gF3nPVQZO"
   },
   "outputs": [],
   "source": [
    "# you can print our json object a little prettier using an indent\n",
    "print(json.dumps(patients, indent=2))"
   ]
  },
  {
   "cell_type": "code",
   "execution_count": null,
   "metadata": {
    "id": "tVwG5uIZVQZP"
   },
   "outputs": [],
   "source": [
    "# we can write our json objects to a file just like before\n",
    "with open('patient.json', 'w') as fout:\n",
    "    json.dump(patients, fout)"
   ]
  },
  {
   "cell_type": "code",
   "execution_count": null,
   "metadata": {
    "id": "LmhAwyhcVQZQ"
   },
   "outputs": [],
   "source": [
    "# we can load a json file using json.load\n",
    "with open('patient.json') as json_file:\n",
    "    data = json.load(json_file)\n",
    "\n",
    "print(data)\n",
    "\n",
    "import pprint # this is a handy package\n",
    "pprint.pprint(data)"
   ]
  },
  {
   "cell_type": "markdown",
   "metadata": {
    "id": "86Q9utoY3lD1"
   },
   "source": [
    "### Random"
   ]
  },
  {
   "cell_type": "code",
   "execution_count": null,
   "metadata": {
    "id": "ljry5Wg1VQZR"
   },
   "outputs": [],
   "source": [
    "# random number generators are very useful in coding\n",
    "# a popular one in Python is the package random\n",
    "import random\n",
    "# it is important to state that this, and really all random number generators, are actually pseudo-random\n",
    "# this will not matter for most things you use it for, but is important for security things\n",
    "\n",
    "# random can be used to give a random integer in a range with RANDINT\n",
    "# here are 10 random throws of a die\n",
    "for throws in range(10):\n",
    "    print( random.randint(1,6))\n",
    "# IMPORTANT: oddly enough, unlike RANGE, RANDINT is inclusive\n",
    "    # e.g. 6 is included in randint(1,6) where 6 is not included in range(1,6)"
   ]
  },
  {
   "cell_type": "code",
   "execution_count": null,
   "metadata": {
    "id": "UaeCgAt5VQZT"
   },
   "outputs": [],
   "source": [
    "for i in range(1,6):\n",
    "    print(i)"
   ]
  },
  {
   "cell_type": "code",
   "execution_count": null,
   "metadata": {
    "id": "F_7362nCVQZU"
   },
   "outputs": [],
   "source": [
    "# random.random() will give you a random float with lots of precision between 0 and 1\n",
    "for throws in range(10):\n",
    "    print(random.random())"
   ]
  },
  {
   "cell_type": "code",
   "execution_count": null,
   "metadata": {
    "id": "YWZzEQedVQZV"
   },
   "outputs": [],
   "source": [
    "# random.choice() will randomly choose something from a list that you give it\n",
    "choices = ['red','blue','green']\n",
    "for throws in range(10):\n",
    "    print(random.choice(choices))"
   ]
  },
  {
   "cell_type": "code",
   "execution_count": null,
   "metadata": {
    "id": "4ek9kFszVQZW"
   },
   "outputs": [],
   "source": [
    "# random.shuffle() will shuffle the contents of a list that you give it\n",
    "# it does not return a list though, it actually shuffles the instance of the list it gives you\n",
    "    # so make sure you have a copy of a list you shuffle if the order matters somewhere else\n",
    "our_list = [0,1,2,3,4,5,6,7,8,9]\n",
    "for throws in range(10):\n",
    "    random.shuffle(our_list)\n",
    "    print(our_list)"
   ]
  },
  {
   "cell_type": "markdown",
   "metadata": {
    "id": "DNCBpjTl38DJ"
   },
   "source": [
    "### Matplotlib PyPlot"
   ]
  },
  {
   "cell_type": "code",
   "execution_count": null,
   "metadata": {
    "id": "PCe9xBxJVQZX"
   },
   "outputs": [],
   "source": [
    "# matplotlib's PyPlot is probably the easiest plotting package in Python\n",
    "# this is not me promoting PyPlot (plot9 is very good) but rather showing it because it is easy\n",
    "# this is also not a comprehensive guide to PyPlot, but rather just some case uses\n",
    "import matplotlib.pyplot as plt # you can change what you want to call imported packages\n",
    "\n",
    "# plotting a scatter plot with PyPlot\n",
    "# let's create some random 2d data\n",
    "import random\n",
    "\n",
    "x = [random.random() for i in range(100)]\n",
    "y = [random.random() for i in range(100)]\n",
    "\n",
    "plt.scatter(x,y)\n",
    "\n",
    "plt.show()\n",
    "\n",
    "# there are many many things you can do to change this plot, like change the colors of the points, \n",
    "# but I will let you figure that out with the matplotlib documentation"
   ]
  },
  {
   "cell_type": "markdown",
   "metadata": {
    "id": "Ju1y4U7j4ZTj"
   },
   "source": [
    "### NumPy"
   ]
  },
  {
   "cell_type": "code",
   "execution_count": null,
   "metadata": {
    "id": "ochHhxp4VQZZ"
   },
   "outputs": [],
   "source": [
    "# NumPy is a package that works with vectors and matrices of numbers. \n",
    "# It is essential to data analysis in Python,\n",
    "# and is the core to many other data oriented packages like sklearn and tensorflow\n",
    "import numpy as np\n",
    "\n",
    "# you can initiate an array of all zeros with the np.zeros function, with the size of the array as input\n",
    "array = np.zeros([5,6])\n",
    "print(array)\n",
    "\n",
    "# look at the shape (tuple of # rows, # columns) of an array with .shape\n",
    "print(array.shape)"
   ]
  },
  {
   "cell_type": "code",
   "execution_count": null,
   "metadata": {
    "id": "P8W_UCkZVQZa"
   },
   "outputs": [],
   "source": [
    "# or you can define an array with np.array() with a list as input\n",
    "# a list of lists will make a 2d array\n",
    "array_2d = np.array([[1, 2, 3], [4, 5, 6], [7, 8, 9]])\n",
    "print(array_2d)"
   ]
  },
  {
   "cell_type": "code",
   "execution_count": null,
   "metadata": {
    "id": "Psg6lre2VQZb"
   },
   "outputs": [],
   "source": [
    "# a list of lists of lists will make a 3d array\n",
    "array_3d = np.array([[[1, 2, 3], [4, 5, 6], [7, 8, 9]],\n",
    "                     [[11, 12, 13], [14, 15, 16], [17, 18, 19]],\n",
    "                     [[101, 102, 103], [104, 105, 106], [107, 108, 109]]\n",
    "                    ])\n",
    "print(array_3d)\n",
    "print(array_3d.shape)\n",
    "# a 3d matrix doesnt look very pretty on a 2d screen\n",
    "# but we can think of this 3x3x3 matrix as like a Rubik's cube"
   ]
  },
  {
   "cell_type": "code",
   "execution_count": null,
   "metadata": {
    "id": "s216tTs_VQZc"
   },
   "outputs": [],
   "source": [
    "# you can slice arrays like lists\n",
    "print('1st slice:\\n',array_3d[1]) # imagine this is the middle cross section of a Rubik's cube\n",
    "print('2nd slice:\\n',array_3d[1,1]) # imagine this is a middle column of a Rubik's cube\n",
    "print('3rd slice:\\n',array_3d[1,1,1]) # imagine this is the core of a Rubik's cube"
   ]
  },
  {
   "cell_type": "code",
   "execution_count": null,
   "metadata": {
    "id": "-b6CDniQVQZd"
   },
   "outputs": [],
   "source": [
    "# NumPy is great for linear algebra\n",
    "\n",
    "# we will not be learning linear algebra in this course, but it is very important for data science\n",
    "# however, here are a few matrix manipulations to get you familiar with some NumPy functionality\n",
    "\n",
    "# first, lets make 2 toy matrices with some shapes\n",
    "# the first matrix will be all zeros except for a square of circles in the middle\n",
    "mat1 = np.zeros((100,100)) # to do this, we start with a matrix of zeros\n",
    "mat1[25:75,25:75] = 1 # then we set the slice of the inner square equal to 1\n",
    "\n",
    "# now we can visualize our matrix with imshow\n",
    "import matplotlib.pyplot as plt\n",
    "\n",
    "plt.imshow(mat1)\n",
    "plt.title('mat1')\n",
    "plt.colorbar()\n",
    "plt.show()\n",
    "# here, dark purple corresponds to the lowest value: 0, and yellow corresponds to the highest value: 1"
   ]
  },
  {
   "cell_type": "code",
   "execution_count": null,
   "metadata": {
    "id": "2tUjsRMZVQZf"
   },
   "outputs": [],
   "source": [
    "# our second toy matrix can be made the same way as the first, but we will have it look like a plus sign\n",
    "mat2 = np.zeros((100,100))\n",
    "mat2[33:66] = 1\n",
    "mat2[:,33:66] = 1\n",
    "\n",
    "# let's see what our second toy matrix looks like\n",
    "plt.imshow(mat2)\n",
    "plt.title('mat2')\n",
    "plt.colorbar()\n",
    "plt.show()"
   ]
  },
  {
   "cell_type": "code",
   "execution_count": null,
   "metadata": {
    "id": "gKBSqDNSVQZf"
   },
   "outputs": [],
   "source": [
    "# matrix addition (it is always element-wise)\n",
    "mat_3 = mat1 + mat2\n",
    "\n",
    "plt.imshow(mat_3)\n",
    "plt.title('matrix addition')\n",
    "plt.colorbar()\n",
    "plt.show()\n",
    "# we can see that adding the matrices stacked them, \n",
    "    # now yellow corresponds to 2\n",
    "    # teal corresponds to 1\n",
    "    # and dark purple corresponds to 0"
   ]
  },
  {
   "cell_type": "code",
   "execution_count": null,
   "metadata": {
    "id": "2Q-vgo5HVQZg"
   },
   "outputs": [],
   "source": [
    "# matrix multiplication (element-wise)\n",
    "mat_3 = mat1 * mat2\n",
    "\n",
    "plt.imshow(mat_3)\n",
    "plt.title('matrix elementwise multiplication')\n",
    "plt.colorbar()\n",
    "plt.show()\n",
    "# we see the same yellow shape as matrix addition, but without the teal sections\n",
    "# this is because only the positions where both mats were 1 are nonzero as multiplying by 0 gives you 0"
   ]
  },
  {
   "cell_type": "code",
   "execution_count": null,
   "metadata": {
    "id": "L9xn4wFlVQZh"
   },
   "outputs": [],
   "source": [
    "# matrix multiplication (dot)\n",
    "mat_3 = mat1 @ mat2\n",
    "\n",
    "plt.imshow(mat_3)\n",
    "plt.title('matrix multiplication')\n",
    "plt.colorbar()\n",
    "plt.show()\n",
    "# the @ operation in np gives us the matrix product of mat1 and mat2. \n",
    "# without more detail, know that this type of matrix multiplication is crucial to data science\n",
    "# I would recommend looking into what this means if you are unfamiliar (it is honestly not very complicated)"
   ]
  },
  {
   "cell_type": "code",
   "execution_count": null,
   "metadata": {
    "id": "kOZ6JU8xVQZi"
   },
   "outputs": [],
   "source": [
    "# matrix multiplication (dot) again\n",
    "mat_3 = mat2 @ mat1\n",
    "\n",
    "plt.imshow(mat_3)\n",
    "plt.title('matrix multiplication')\n",
    "plt.colorbar()\n",
    "plt.show()\n",
    "# notice, matrix multiplication is not commutative like regular multiplication\n",
    "# also, notice what happened with the scales, interesting huh"
   ]
  },
  {
   "cell_type": "markdown",
   "metadata": {
    "id": "A2bh5aq94uUC"
   },
   "source": [
    "### Pandas"
   ]
  },
  {
   "cell_type": "code",
   "execution_count": null,
   "metadata": {
    "id": "M_Mh78EfVQZj"
   },
   "outputs": [],
   "source": [
    "# if you code in R, you may like pandas\n",
    "# it creates dataframes, that may contain more than just numbers (like in NumPy), similar to dataframes in R\n",
    "# pandas dataframes are not as lightweight as NumPy matrices, but they are certainly prettier\n",
    "import pandas as pd\n",
    "import numpy as np\n",
    "\n",
    "# you can use a dictionary to make a pandas dataframe\n",
    "d = {'trees': ['conifer', 'aspen','pine','eucalyptus'], \n",
    "     'dogs': ['brittany', 'boxer','chihuahua','border collie'],\n",
    "     'vegetables': ['cucumber','carrot','pea','legume']\n",
    "    }\n",
    "df = pd.DataFrame(data=d)\n",
    "\n",
    "# show a preview of the dataframe using .head() as printing pandas dataframes doesn't look too good\n",
    "df.head()"
   ]
  },
  {
   "cell_type": "code",
   "execution_count": null,
   "metadata": {
    "id": "02zChlRCVQZk"
   },
   "outputs": [],
   "source": [
    "# give the .head() method an integer for parameter 'n' to tell it how many rows to display\n",
    "df.head(n=2)"
   ]
  },
  {
   "cell_type": "code",
   "execution_count": null,
   "metadata": {
    "id": "S3xW9axdVQZl"
   },
   "outputs": [],
   "source": [
    "# pandas and NumPy can work together\n",
    "# turn your 2d NumPy array into a pandas dataframe\n",
    "array = np.zeros((5,6))\n",
    "\n",
    "df2 = pd.DataFrame(array)\n",
    "df2.head()"
   ]
  },
  {
   "cell_type": "code",
   "execution_count": null,
   "metadata": {
    "id": "0gdAAM9WVQZm"
   },
   "outputs": [],
   "source": [
    "# pandas can be used to load files like .csv easily using pd.read_csv()\n",
    "# pd.read_csv() will take the first line as the header if you do not specify one\n",
    "# lets load our animals.csv we made earlier\n",
    "\n",
    "animals_df = pd.read_csv('animals.csv')\n",
    "animals_df.head()"
   ]
  },
  {
   "cell_type": "code",
   "execution_count": null,
   "metadata": {
    "id": "A4Nnuv5LVQZn"
   },
   "outputs": [],
   "source": [
    "# header can be ignored by passing in the pandas 'header' parameter as None\n",
    "animals_df = pd.read_csv('animals.csv', header=None)\n",
    "animals_df.head()"
   ]
  },
  {
   "cell_type": "code",
   "execution_count": null,
   "metadata": {
    "id": "gAupS-XAVQZn"
   },
   "outputs": [],
   "source": [
    "# or you can specify the header of our animals dataframe with the pandas 'names' parameter\n",
    "animals_df = pd.read_csv('animals.csv', names = ['count', 'animal'])\n",
    "animals_df.head()"
   ]
  },
  {
   "cell_type": "code",
   "execution_count": null,
   "metadata": {
    "id": "IHRJnDIsVQZo"
   },
   "outputs": [],
   "source": [
    "# pandas can also accept json files, by using the pd.read_json()\n",
    "# lets load the json file we made earlier\n",
    "patient_df = pd.read_json('patient.json')\n",
    "patient_df.head()\n",
    "\n",
    "# notice what happens when a field is missing"
   ]
  },
  {
   "cell_type": "code",
   "execution_count": null,
   "metadata": {
    "id": "keHVWxI9VQZp"
   },
   "outputs": [],
   "source": [
    "# missing data points is common in medical data\n",
    "# in pandas, you can ask if something is missing with pd.isna()\n",
    "# this returns a df with boolean values of True for any missing data\n",
    "pd.isna(patient_df)"
   ]
  },
  {
   "cell_type": "code",
   "execution_count": null,
   "metadata": {
    "id": "xFMgeanMVQZp"
   },
   "outputs": [],
   "source": [
    "# you can easily transpose your data with the .T method\n",
    "patient_df.T.head()"
   ]
  },
  {
   "cell_type": "code",
   "execution_count": null,
   "metadata": {
    "id": "St4JlcdUVQZq"
   },
   "outputs": [],
   "source": [
    "# for the next few methods, lets create a dataframe of a mock drug trial\n",
    "\n",
    "# we will start with a random numpy array\n",
    "ran = np.random.rand(10,5)\n",
    "df = pd.DataFrame(ran)\n",
    "\n",
    "# change the names of columns to be some trials\n",
    "df.columns = ['trial_1','trial_2','trial_3','trial_4','trial_5']\n",
    "\n",
    "# and change the dataframe's index (the row names) to some drugs I made up\n",
    "    # please don't make fun of my lack of medical knowledge :)\n",
    "df.index = ['interferon A','interferon B','interferon C','interferon D','interferon E',\n",
    "            'inhibitor A','inhibitor B','inhibitor C','inhibitor D','inhibitor E',\n",
    "           ]\n",
    "\n",
    "df.head(n=10)"
   ]
  },
  {
   "cell_type": "code",
   "execution_count": null,
   "metadata": {
    "id": "AR-k99FNVQZr"
   },
   "outputs": [],
   "source": [
    "# you can sort a dataframe by a column\n",
    "df = df.sort_values(by='trial_2')\n",
    "df.head(n=10)"
   ]
  },
  {
   "cell_type": "code",
   "execution_count": null,
   "metadata": {
    "id": "wxJxcggWVQZs"
   },
   "outputs": [],
   "source": [
    "# selecting data from dataframe\n",
    "\n",
    "# selecting data from dataframes can be confusing, because there are many ways to do it\n",
    "# getting a column is easy though, as you can just call it by name\n",
    "print(df['trial_3'])"
   ]
  },
  {
   "cell_type": "code",
   "execution_count": null,
   "metadata": {
    "id": "MilQ894pVQZt"
   },
   "outputs": [],
   "source": [
    "# you can select slices of rows similarly to how it is done in NumPy\n",
    "# however unlike NumPy, this can only be used to isolate rows and NOT COLUMNS\n",
    "# other methods (.loc and .iloc) must be used for this\n",
    "print(df[1:3])"
   ]
  },
  {
   "cell_type": "code",
   "execution_count": null,
   "metadata": {
    "id": "XpIN02K3VQZu"
   },
   "outputs": [],
   "source": [
    "# selection by label\n",
    "# this is done with the .loc() method\n",
    "# you can use it to select by row or column, or both by label\n",
    "df.loc['interferon A', 'trial_2']"
   ]
  },
  {
   "cell_type": "code",
   "execution_count": null,
   "metadata": {
    "id": "8lWJbiv_VQZv"
   },
   "outputs": [],
   "source": [
    "# .loc() can also be used to get multiple columns or rows with a list, or a slice\n",
    "# both list and slice shown below\n",
    "df.loc['interferon D':'interferon A',['trial_1','trial_5']]"
   ]
  },
  {
   "cell_type": "code",
   "execution_count": null,
   "metadata": {
    "id": "Iyrgu-mqVQZv"
   },
   "outputs": [],
   "source": [
    "# selection by position\n",
    "# this is done with the .iloc() method\n",
    "# like .loc() this can be used to get row or column, or both\n",
    "df.iloc[1,1]"
   ]
  },
  {
   "cell_type": "code",
   "execution_count": null,
   "metadata": {
    "id": "mA_CZTvxVQZw"
   },
   "outputs": [],
   "source": [
    "# like .loc(), .iloc() can get slices and lists\n",
    "df.iloc[[1,2,4],0:3]"
   ]
  },
  {
   "cell_type": "code",
   "execution_count": null,
   "metadata": {
    "id": "wMSG4pMVVQZx"
   },
   "outputs": [],
   "source": [
    "# iterate over a dataframe\n",
    "\n",
    "# this essentially does a FOR loop over all of the rows\n",
    "# iterating over the rows is performed using the .iterrows() method\n",
    "for index, row in df.iterrows():\n",
    "    print('trial_1:',row['trial_1'],'\\ttrial_2:',row['trial_2'])"
   ]
  },
  {
   "cell_type": "code",
   "execution_count": null,
   "metadata": {
    "id": "kA3oIL6XVQZy"
   },
   "outputs": [],
   "source": [
    "# iterating over columns uses the .iteritems method\n",
    "for col_name, col in df.iteritems():\n",
    "    print(col_name)\n",
    "    print(col,'\\n')"
   ]
  }
 ],
 "metadata": {
  "colab": {
   "name": "python_tutorial.ipynb",
   "provenance": [],
   "toc_visible": true
  },
  "hide_input": false,
  "kernelspec": {
   "display_name": "Python 3",
   "language": "python",
   "name": "python3"
  },
  "language_info": {
   "codemirror_mode": {
    "name": "ipython",
    "version": 3
   },
   "file_extension": ".py",
   "mimetype": "text/x-python",
   "name": "python",
   "nbconvert_exporter": "python",
   "pygments_lexer": "ipython3",
   "version": "3.8.3"
  },
  "toc": {
   "base_numbering": 1,
   "nav_menu": {},
   "number_sections": true,
   "sideBar": true,
   "skip_h1_title": false,
   "title_cell": "Table of Contents",
   "title_sidebar": "Contents",
   "toc_cell": false,
   "toc_position": {},
   "toc_section_display": true,
   "toc_window_display": true
  },
  "varInspector": {
   "cols": {
    "lenName": 16,
    "lenType": 16,
    "lenVar": 40
   },
   "kernels_config": {
    "python": {
     "delete_cmd_postfix": "",
     "delete_cmd_prefix": "del ",
     "library": "var_list.py",
     "varRefreshCmd": "print(var_dic_list())"
    },
    "r": {
     "delete_cmd_postfix": ") ",
     "delete_cmd_prefix": "rm(",
     "library": "var_list.r",
     "varRefreshCmd": "cat(var_dic_list()) "
    }
   },
   "types_to_exclude": [
    "module",
    "function",
    "builtin_function_or_method",
    "instance",
    "_Feature"
   ],
   "window_display": false
  }
 },
 "nbformat": 4,
 "nbformat_minor": 1
}
