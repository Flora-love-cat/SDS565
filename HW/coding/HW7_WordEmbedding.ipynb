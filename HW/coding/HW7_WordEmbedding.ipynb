{
 "cells": [
  {
   "attachments": {},
   "cell_type": "markdown",
   "metadata": {
    "id": "5brVGIY-t8ft"
   },
   "source": [
    "# Assignment 7"
   ]
  },
  {
   "attachments": {},
   "cell_type": "markdown",
   "metadata": {},
   "source": [
    "- word embedding: word2vec, GloVe\n",
    "\n",
    "- t-SNE"
   ]
  },
  {
   "cell_type": "code",
   "execution_count": 27,
   "metadata": {},
   "outputs": [],
   "source": [
    "from gensim.models import word2vec\n",
    "import numpy as np \n",
    "import pandas as pd\n",
    "import numpy as np\n",
    "import scipy\n",
    "from sklearn.manifold import TSNE\n",
    "from random import sample\n",
    "import matplotlib.pyplot as plt \n",
    "from matplotlib.lines import Line2D\n",
    "from tqdm import tqdm"
   ]
  },
  {
   "cell_type": "markdown",
   "metadata": {
    "id": "prdMYMTkt8gC"
   },
   "source": [
    "# Using gensim for word2vec and glove"
   ]
  },
  {
   "cell_type": "code",
   "execution_count": 2,
   "metadata": {
    "ExecuteTime": {
     "end_time": "2021-05-12T12:25:36.079248Z",
     "start_time": "2021-05-12T12:20:24.832296Z"
    },
    "id": "UVXMzDI5t8gC"
   },
   "outputs": [],
   "source": [
    "# Download the text8 dataset from http://mattmahoney.net/dc/text8.zip\n",
    "# Iterate over sentences from the “text8” corpus\n",
    "sentences = word2vec.Text8Corpus('/Users/wenxinxu/Desktop/SDS565/data/text8')\n",
    "\n",
    "# vector_size: Dimensionality of the word vectors. window : Maximum distance between the current and predicted word within a sentence.\n",
    "# min_count: Ignores all words with total frequency lower than this.\n",
    "model = word2vec.Word2Vec(sentences, vector_size=100, window=10, min_count=10)"
   ]
  },
  {
   "cell_type": "markdown",
   "metadata": {
    "id": "sF-v_5Amt8gD"
   },
   "source": [
    "## Exploring linear relationships between word embeddings"
   ]
  },
  {
   "cell_type": "markdown",
   "metadata": {
    "id": "Bt2zmj6Ot8gD"
   },
   "source": [
    "Suppose I want to see what the model thinks about the pairing of words \"English\" and \"river.\"\n",
    "\n",
    "We can add their embeddings together and find the closest words."
   ]
  },
  {
   "cell_type": "code",
   "execution_count": 3,
   "metadata": {
    "id": "i62ON3Jzt8gE",
    "outputId": "a20b5d92-0c51-4a82-8a7a-cc4e9f274929"
   },
   "outputs": [
    {
     "data": {
      "text/plain": [
       "[('river', 0.7925704717636108),\n",
       " ('english', 0.695111095905304),\n",
       " ('estuary', 0.6663466095924377),\n",
       " ('strait', 0.656229555606842),\n",
       " ('thames', 0.6304806470870972),\n",
       " ('meuse', 0.6290670037269592),\n",
       " ('rivers', 0.6288830041885376),\n",
       " ('elbe', 0.6206637620925903),\n",
       " ('peninsula', 0.6016146540641785),\n",
       " ('danube', 0.5940157771110535)]"
      ]
     },
     "execution_count": 3,
     "metadata": {},
     "output_type": "execute_result"
    }
   ],
   "source": [
    "target = model.wv['english']+model.wv['river']\n",
    "\n",
    "# Find the top-N most similar keys. computes cosine similarity between given embedding and each embedding in model\n",
    "model.wv.most_similar([target],topn=10)"
   ]
  },
  {
   "cell_type": "markdown",
   "metadata": {
    "id": "CICjRenkt8gF"
   },
   "source": [
    "We can also simply use the `most_similar` function by specifying the words."
   ]
  },
  {
   "cell_type": "code",
   "execution_count": 4,
   "metadata": {
    "id": "FVjL2MGAt8gG",
    "outputId": "d2fa7c58-ce8c-4267-f53e-2c72fd705334"
   },
   "outputs": [
    {
     "data": {
      "text/plain": [
       "[('estuary', 0.635121762752533),\n",
       " ('strait', 0.6286590695381165),\n",
       " ('thames', 0.6033148765563965),\n",
       " ('meuse', 0.5999554991722107),\n",
       " ('elbe', 0.5928106307983398),\n",
       " ('rivers', 0.5904154181480408),\n",
       " ('welsh', 0.588110089302063),\n",
       " ('peninsula', 0.5789723992347717),\n",
       " ('scots', 0.5644308924674988),\n",
       " ('rhine', 0.5642333626747131)]"
      ]
     },
     "execution_count": 4,
     "metadata": {},
     "output_type": "execute_result"
    }
   ],
   "source": [
    "# Find the top-N most similar keys. Positive keys contribute positively towards the similarity, negative keys negatively.\n",
    "model.wv.most_similar(positive=['river','english'])"
   ]
  },
  {
   "attachments": {},
   "cell_type": "markdown",
   "metadata": {
    "id": "Uhk67M2jt8gG"
   },
   "source": [
    "# Words similarity"
   ]
  },
  {
   "attachments": {},
   "cell_type": "markdown",
   "metadata": {},
   "source": [
    "Explore three other relationships below and discuss your findings."
   ]
  },
  {
   "cell_type": "markdown",
   "metadata": {
    "id": "ZjfN1GU0t8gH"
   },
   "source": [
    "**Answer here**"
   ]
  },
  {
   "cell_type": "markdown",
   "metadata": {},
   "source": [
    "1. First relationship: country and its drink, the result of France is more accurate than that of Japan\n",
    "\n",
    "\n",
    "2.  Second relationship: country and its universities, the result of America is more accurate than that of China, the latter is similar to country and its cities.\n",
    "\n",
    "\n",
    "3. Third relationship: country and its artists, all the results of Holland, France and Japan are not very accurate."
   ]
  },
  {
   "cell_type": "code",
   "execution_count": 15,
   "metadata": {},
   "outputs": [
    {
     "data": {
      "text/html": [
       "<div>\n",
       "<style scoped>\n",
       "    .dataframe tbody tr th:only-of-type {\n",
       "        vertical-align: middle;\n",
       "    }\n",
       "\n",
       "    .dataframe tbody tr th {\n",
       "        vertical-align: top;\n",
       "    }\n",
       "\n",
       "    .dataframe thead th {\n",
       "        text-align: right;\n",
       "    }\n",
       "</style>\n",
       "<table border=\"1\" class=\"dataframe\">\n",
       "  <thead>\n",
       "    <tr style=\"text-align: right;\">\n",
       "      <th></th>\n",
       "      <th>0</th>\n",
       "      <th>1</th>\n",
       "      <th>2</th>\n",
       "      <th>3</th>\n",
       "      <th>4</th>\n",
       "      <th>5</th>\n",
       "      <th>6</th>\n",
       "      <th>7</th>\n",
       "      <th>8</th>\n",
       "      <th>9</th>\n",
       "    </tr>\n",
       "  </thead>\n",
       "  <tbody>\n",
       "    <tr>\n",
       "      <th>france_drink</th>\n",
       "      <td>meat</td>\n",
       "      <td>tea</td>\n",
       "      <td>wine</td>\n",
       "      <td>beer</td>\n",
       "      <td>drinks</td>\n",
       "      <td>vodka</td>\n",
       "      <td>beef</td>\n",
       "      <td>absinthe</td>\n",
       "      <td>rum</td>\n",
       "      <td>brewed</td>\n",
       "    </tr>\n",
       "    <tr>\n",
       "      <th>japan_drink</th>\n",
       "      <td>tea</td>\n",
       "      <td>miso</td>\n",
       "      <td>spicy</td>\n",
       "      <td>beverage</td>\n",
       "      <td>beef</td>\n",
       "      <td>drinks</td>\n",
       "      <td>beer</td>\n",
       "      <td>dish</td>\n",
       "      <td>meat</td>\n",
       "      <td>vodka</td>\n",
       "    </tr>\n",
       "    <tr>\n",
       "      <th>university_china</th>\n",
       "      <td>singapore</td>\n",
       "      <td>shanghai</td>\n",
       "      <td>tokyo</td>\n",
       "      <td>thailand</td>\n",
       "      <td>india</td>\n",
       "      <td>wuhan</td>\n",
       "      <td>taiwan</td>\n",
       "      <td>tibet</td>\n",
       "      <td>malaysia</td>\n",
       "      <td>taipei</td>\n",
       "    </tr>\n",
       "    <tr>\n",
       "      <th>university_america</th>\n",
       "      <td>univ</td>\n",
       "      <td>carolina</td>\n",
       "      <td>college</td>\n",
       "      <td>institute</td>\n",
       "      <td>dartmouth</td>\n",
       "      <td>yale</td>\n",
       "      <td>dakota</td>\n",
       "      <td>harvard</td>\n",
       "      <td>ucla</td>\n",
       "      <td>cornell</td>\n",
       "    </tr>\n",
       "    <tr>\n",
       "      <th>artist_holland</th>\n",
       "      <td>auguste</td>\n",
       "      <td>anton</td>\n",
       "      <td>cartoonist</td>\n",
       "      <td>playwright</td>\n",
       "      <td>painter</td>\n",
       "      <td>ole</td>\n",
       "      <td>sculptor</td>\n",
       "      <td>balanchine</td>\n",
       "      <td>innovator</td>\n",
       "      <td>angelo</td>\n",
       "    </tr>\n",
       "    <tr>\n",
       "      <th>artist_france</th>\n",
       "      <td>auguste</td>\n",
       "      <td>opera</td>\n",
       "      <td>painter</td>\n",
       "      <td>picasso</td>\n",
       "      <td>ballet</td>\n",
       "      <td>jacques</td>\n",
       "      <td>manet</td>\n",
       "      <td>belgian</td>\n",
       "      <td>georges</td>\n",
       "      <td>pierre</td>\n",
       "    </tr>\n",
       "  </tbody>\n",
       "</table>\n",
       "</div>"
      ],
      "text/plain": [
       "                            0         1           2           3          4  \\\n",
       "france_drink             meat       tea        wine        beer     drinks   \n",
       "japan_drink               tea      miso       spicy    beverage       beef   \n",
       "university_china    singapore  shanghai       tokyo    thailand      india   \n",
       "university_america       univ  carolina     college   institute  dartmouth   \n",
       "artist_holland        auguste     anton  cartoonist  playwright    painter   \n",
       "artist_france         auguste     opera     painter     picasso     ballet   \n",
       "\n",
       "                          5         6           7          8        9  \n",
       "france_drink          vodka      beef    absinthe        rum   brewed  \n",
       "japan_drink          drinks      beer        dish       meat    vodka  \n",
       "university_china      wuhan    taiwan       tibet   malaysia   taipei  \n",
       "university_america     yale    dakota     harvard       ucla  cornell  \n",
       "artist_holland          ole  sculptor  balanchine  innovator   angelo  \n",
       "artist_france       jacques     manet     belgian    georges   pierre  "
      ]
     },
     "execution_count": 15,
     "metadata": {},
     "output_type": "execute_result"
    }
   ],
   "source": [
    "pos_words = [['france', 'drink'], ['japan', 'drink'],\n",
    "       ['university','china'], ['university','america'],\n",
    "       ['artist','holland'], ['artist','france']]\n",
    "\n",
    "words = [[item[0] for item in model.wv.most_similar(positive=word)] for word in pos_words]\n",
    "\n",
    "pd.DataFrame(data=words, index=[words[0] + '_' + words[1] for words in pos_words])"
   ]
  },
  {
   "cell_type": "markdown",
   "metadata": {
    "id": "opgZPhArt8gH"
   },
   "source": [
    "## Analogies\n",
    "Another striking phenomena is the ability to identify analogies using linear algebra relationships"
   ]
  },
  {
   "attachments": {},
   "cell_type": "markdown",
   "metadata": {
    "id": "TeOLS0b6t8gH"
   },
   "source": [
    "Man is to King as What is to Queen?\n",
    "In class we saw that one way to model this is by subtraction!\n",
    "\n",
    "$$\\phi(Man) - \\phi(King) \\approx \\phi(What) - \\phi(Queen)$$"
   ]
  },
  {
   "cell_type": "code",
   "execution_count": null,
   "metadata": {
    "id": "5QZVTNv0t8gI",
    "outputId": "f9c3cbd5-6f4d-49fa-ea0d-3c14fe287779"
   },
   "outputs": [
    {
     "data": {
      "text/plain": [
       "[('woman', 0.7295663356781006),\n",
       " ('girl', 0.6638750433921814),\n",
       " ('lady', 0.6609997749328613),\n",
       " ('bride', 0.5972762703895569),\n",
       " ('maid', 0.5867975950241089),\n",
       " ('blonde', 0.578168511390686),\n",
       " ('baby', 0.5767822265625),\n",
       " ('lovely', 0.5542733669281006),\n",
       " ('wonder', 0.5457874536514282),\n",
       " ('miss', 0.5427759885787964)]"
      ]
     },
     "execution_count": 56,
     "metadata": {
      "tags": []
     },
     "output_type": "execute_result"
    }
   ],
   "source": [
    "model.wv.most_similar(positive=['man','queen'],negative=['king'])"
   ]
  },
  {
   "cell_type": "markdown",
   "metadata": {
    "id": "cwzhi2u3t8gI"
   },
   "source": [
    "good is to yale as what is to harvard"
   ]
  },
  {
   "attachments": {},
   "cell_type": "markdown",
   "metadata": {
    "id": "vTLF2HDwt8gI"
   },
   "source": [
    "$$\\phi(good) - \\phi(yale) \\approx \\phi(what) - \\phi(harvard)$$"
   ]
  },
  {
   "cell_type": "code",
   "execution_count": null,
   "metadata": {
    "id": "7j5aGSkPt8gI",
    "outputId": "0ed53565-e119-45b5-a759-f89bdf925f74"
   },
   "outputs": [
    {
     "data": {
      "text/plain": [
       "[('bad', 0.6291990280151367),\n",
       " ('poor', 0.5821027755737305),\n",
       " ('reasonable', 0.5245106220245361),\n",
       " ('pleasure', 0.5229665040969849),\n",
       " ('comfortable', 0.5145583152770996),\n",
       " ('practical', 0.5107746720314026),\n",
       " ('easy', 0.49849483370780945),\n",
       " ('simple', 0.49517983198165894),\n",
       " ('desirable', 0.49171724915504456),\n",
       " ('happiness', 0.485836923122406)]"
      ]
     },
     "execution_count": 76,
     "metadata": {
      "tags": []
     },
     "output_type": "execute_result"
    }
   ],
   "source": [
    "model.wv.most_similar(positive=['good','harvard'],negative=['yale'])"
   ]
  },
  {
   "cell_type": "markdown",
   "metadata": {
    "id": "lyj7Iy6et8gJ"
   },
   "source": [
    "Before you find the above one too amusing just see what happens if you switch harvard and yale"
   ]
  },
  {
   "cell_type": "code",
   "execution_count": null,
   "metadata": {
    "ExecuteTime": {
     "end_time": "2021-05-05T11:55:31.137856Z",
     "start_time": "2021-05-05T11:55:31.106437Z"
    },
    "id": "JYky6KpSt8gJ",
    "outputId": "92dbe899-0e5c-45b2-e7ba-fa9c83fd6306"
   },
   "outputs": [
    {
     "data": {
      "text/plain": [
       "[('bad', 0.6980096697807312),\n",
       " ('luck', 0.6243534088134766),\n",
       " ('happy', 0.5880774259567261),\n",
       " ('nobody', 0.5405392646789551),\n",
       " ('everybody', 0.5391825437545776),\n",
       " ('yourself', 0.5371073484420776),\n",
       " ('courage', 0.5317493081092834),\n",
       " ('pretty', 0.5305766463279724),\n",
       " ('fun', 0.5188425183296204),\n",
       " ('hope', 0.5149434208869934)]"
      ]
     },
     "execution_count": 3,
     "metadata": {
      "tags": []
     },
     "output_type": "execute_result"
    }
   ],
   "source": [
    "model.wv.most_similar(positive=['good','yale'],negative=['harvard'])"
   ]
  },
  {
   "cell_type": "code",
   "execution_count": null,
   "metadata": {
    "id": "uiNH3xeZt8gJ",
    "outputId": "5015edc4-4667-4e39-bfa7-05370e4b475c"
   },
   "outputs": [
    {
     "data": {
      "text/plain": [
       "[('luck', 0.7257006168365479),\n",
       " ('good', 0.7186274528503418),\n",
       " ('feeling', 0.6545383334159851),\n",
       " ('unpleasant', 0.6205524206161499),\n",
       " ('everybody', 0.6203740835189819),\n",
       " ('pretty', 0.6137819886207581),\n",
       " ('fear', 0.6101529598236084),\n",
       " ('ugly', 0.6079035997390747),\n",
       " ('foolish', 0.6070326566696167),\n",
       " ('shy', 0.6049719452857971)]"
      ]
     },
     "execution_count": 73,
     "metadata": {
      "tags": []
     },
     "output_type": "execute_result"
    }
   ],
   "source": [
    "## Apparently the word closest to bad is luck, but the second closest is good?\n",
    "model.wv.most_similar(positive=['bad'])"
   ]
  },
  {
   "attachments": {},
   "cell_type": "markdown",
   "metadata": {
    "id": "-X0pZ0zyt8gK"
   },
   "source": [
    "\n",
    "Explain why it might make sense that on a small dataset 'bad' and 'good' are similar words."
   ]
  },
  {
   "cell_type": "markdown",
   "metadata": {
    "id": "oa9qS54-t8gK"
   },
   "source": [
    "**Answer here:**\n",
    "\n",
    "Because \"bad\" and \"good\" may occur at close position when evaluating a thing, while other words, such as \"everybody\", \"fear\", \"ugly\", \"foolish\", \"shy\" are more unrelated with \"bad\" than \"good\""
   ]
  },
  {
   "attachments": {},
   "cell_type": "markdown",
   "metadata": {
    "id": "eiKcMDQbt8gK"
   },
   "source": [
    "\n",
    "Explore three more analogies and report your findings below"
   ]
  },
  {
   "cell_type": "code",
   "execution_count": null,
   "metadata": {},
   "outputs": [
    {
     "data": {
      "text/html": [
       "<div>\n",
       "<style scoped>\n",
       "    .dataframe tbody tr th:only-of-type {\n",
       "        vertical-align: middle;\n",
       "    }\n",
       "\n",
       "    .dataframe tbody tr th {\n",
       "        vertical-align: top;\n",
       "    }\n",
       "\n",
       "    .dataframe thead th {\n",
       "        text-align: right;\n",
       "    }\n",
       "</style>\n",
       "<table border=\"1\" class=\"dataframe\">\n",
       "  <thead>\n",
       "    <tr style=\"text-align: right;\">\n",
       "      <th></th>\n",
       "      <th>0</th>\n",
       "      <th>1</th>\n",
       "      <th>2</th>\n",
       "      <th>3</th>\n",
       "      <th>4</th>\n",
       "      <th>5</th>\n",
       "      <th>6</th>\n",
       "      <th>7</th>\n",
       "      <th>8</th>\n",
       "      <th>9</th>\n",
       "    </tr>\n",
       "  </thead>\n",
       "  <tbody>\n",
       "    <tr>\n",
       "      <th>paris-france+thailand</th>\n",
       "      <td>shanghai</td>\n",
       "      <td>tokyo</td>\n",
       "      <td>baku</td>\n",
       "      <td>bangkok</td>\n",
       "      <td>dar</td>\n",
       "      <td>salaam</td>\n",
       "      <td>taipei</td>\n",
       "      <td>kobe</td>\n",
       "      <td>chongqing</td>\n",
       "      <td>dubai</td>\n",
       "    </tr>\n",
       "    <tr>\n",
       "      <th>panda-china+australia</th>\n",
       "      <td>kangaroo</td>\n",
       "      <td>bird</td>\n",
       "      <td>wild</td>\n",
       "      <td>koala</td>\n",
       "      <td>kangaroos</td>\n",
       "      <td>bee</td>\n",
       "      <td>kiwi</td>\n",
       "      <td>orca</td>\n",
       "      <td>mammal</td>\n",
       "      <td>marsupials</td>\n",
       "    </tr>\n",
       "    <tr>\n",
       "      <th>sushi-japan+italy</th>\n",
       "      <td>margherita</td>\n",
       "      <td>chianti</td>\n",
       "      <td>marche</td>\n",
       "      <td>spada</td>\n",
       "      <td>vecchio</td>\n",
       "      <td>firenze</td>\n",
       "      <td>montmartre</td>\n",
       "      <td>mozzarella</td>\n",
       "      <td>auvergne</td>\n",
       "      <td>whipped</td>\n",
       "    </tr>\n",
       "  </tbody>\n",
       "</table>\n",
       "</div>"
      ],
      "text/plain": [
       "                                0        1       2        3          4  \\\n",
       "paris-france+thailand    shanghai    tokyo    baku  bangkok        dar   \n",
       "panda-china+australia    kangaroo     bird    wild    koala  kangaroos   \n",
       "sushi-japan+italy      margherita  chianti  marche    spada    vecchio   \n",
       "\n",
       "                             5           6           7          8           9  \n",
       "paris-france+thailand   salaam      taipei        kobe  chongqing       dubai  \n",
       "panda-china+australia      bee        kiwi        orca     mammal  marsupials  \n",
       "sushi-japan+italy      firenze  montmartre  mozzarella   auvergne     whipped  "
      ]
     },
     "metadata": {},
     "output_type": "display_data"
    }
   ],
   "source": [
    "prompts = [[['paris','thailand'], ['france']], \n",
    "           [['panda','australia'],['china']],\n",
    "           [['sushi','italy'],['japan']]]\n",
    "\n",
    "words = [[item[0] for item in model.wv.most_similar(positive=prompt[0],negative=prompt[1])] for prompt in prompts] \n",
    "\n",
    "pd.DataFrame(data=(words), index=[prompt[0][0] + '-' + prompt[1][0] + '+' + prompt[0][1] for prompt in prompts])"
   ]
  },
  {
   "cell_type": "markdown",
   "metadata": {
    "id": "MQ5Tbvdrt8gL"
   },
   "source": [
    "1. First analogies\n",
    "\n",
    "    Paris is to France as What is to Thailand\n",
    "\n",
    "    I hope to find capital of a country, the result is not so good since Bangkok ranked only 3, the top 2 most similar are peking and beijing, which is capital of China"
   ]
  },
  {
   "attachments": {},
   "cell_type": "markdown",
   "metadata": {
    "id": "jvZU9Zxxt8gL"
   },
   "source": [
    "$$\\phi(Paris) - \\phi(France) \\approx \\phi(What) - \\phi(Thailand)$$"
   ]
  },
  {
   "cell_type": "markdown",
   "metadata": {
    "id": "5QNE9K73t8gN"
   },
   "source": [
    "2. Second analogies:\n",
    "\n",
    "    Panda is to China as what is to Australia\n",
    "\n",
    "    I wish to find special species of a country, the result is good since kangaroo, koala, kiwi are indeed special species of Australia"
   ]
  },
  {
   "attachments": {},
   "cell_type": "markdown",
   "metadata": {
    "id": "84Gk5psut8gN"
   },
   "source": [
    "$$\\phi(Pandas) - \\phi(China) \\approx \\phi(What) - \\phi(Australia)$$"
   ]
  },
  {
   "cell_type": "markdown",
   "metadata": {
    "id": "OjAUTD48t8gO"
   },
   "source": [
    "3. Third analogies:\n",
    "\n",
    "    Sushi is to Japan as what is to Italy\n",
    "\n",
    "    I hope to find special food of a country, the result is not so good, the margherita pizza, pastry, pam prosciutto, and risotto are indeed special food of Italy, but salerno, apulia are cities of Italy and politecnico is a university of Italy."
   ]
  },
  {
   "attachments": {},
   "cell_type": "markdown",
   "metadata": {
    "id": "D1mlpSQVt8gP"
   },
   "source": [
    "$$\\phi(Sushi) - \\phi(Japan) \\approx \\phi(What) - \\phi(Italy)$$"
   ]
  },
  {
   "attachments": {},
   "cell_type": "markdown",
   "metadata": {
    "id": "UlHjU0ilt8gP"
   },
   "source": [
    "# Glove"
   ]
  },
  {
   "attachments": {},
   "cell_type": "markdown",
   "metadata": {},
   "source": [
    "import a pre-trained Glove model from gensim"
   ]
  },
  {
   "cell_type": "code",
   "execution_count": 18,
   "metadata": {
    "ExecuteTime": {
     "end_time": "2021-05-05T13:26:14.514686Z",
     "start_time": "2021-05-05T13:24:46.521101Z"
    },
    "colab": {
     "base_uri": "https://localhost:8080/"
    },
    "id": "ZjPzyD7ot8gQ",
    "outputId": "1c6c1777-7c1c-41da-8c8b-c962c788b305"
   },
   "outputs": [
    {
     "name": "stdout",
     "output_type": "stream",
     "text": [
      "[==================================================] 100.0% 128.1/128.1MB downloaded\n"
     ]
    }
   ],
   "source": [
    "import gensim.downloader as gdl\n",
    "glove = gdl.load(\"glove-wiki-gigaword-100\")"
   ]
  },
  {
   "attachments": {},
   "cell_type": "markdown",
   "metadata": {},
   "source": [
    "Find the closest words to 'yale', 'computers', 'science', 'teach'\n",
    "\n",
    "**The closest words is 'harvard', 'computer', 'sceinces, 'learn' respectively.**"
   ]
  },
  {
   "cell_type": "code",
   "execution_count": 20,
   "metadata": {
    "colab": {
     "base_uri": "https://localhost:8080/"
    },
    "id": "5k_-r1BLt8gR",
    "outputId": "8468526c-4e78-402b-80c8-740312b0cc4d",
    "scrolled": true
   },
   "outputs": [
    {
     "data": {
      "text/html": [
       "<div>\n",
       "<style scoped>\n",
       "    .dataframe tbody tr th:only-of-type {\n",
       "        vertical-align: middle;\n",
       "    }\n",
       "\n",
       "    .dataframe tbody tr th {\n",
       "        vertical-align: top;\n",
       "    }\n",
       "\n",
       "    .dataframe thead th {\n",
       "        text-align: right;\n",
       "    }\n",
       "</style>\n",
       "<table border=\"1\" class=\"dataframe\">\n",
       "  <thead>\n",
       "    <tr style=\"text-align: right;\">\n",
       "      <th></th>\n",
       "      <th>0</th>\n",
       "      <th>1</th>\n",
       "      <th>2</th>\n",
       "      <th>3</th>\n",
       "      <th>4</th>\n",
       "      <th>5</th>\n",
       "      <th>6</th>\n",
       "      <th>7</th>\n",
       "      <th>8</th>\n",
       "      <th>9</th>\n",
       "    </tr>\n",
       "  </thead>\n",
       "  <tbody>\n",
       "    <tr>\n",
       "      <th>yale</th>\n",
       "      <td>harvard</td>\n",
       "      <td>princeton</td>\n",
       "      <td>university</td>\n",
       "      <td>cornell</td>\n",
       "      <td>stanford</td>\n",
       "      <td>graduate</td>\n",
       "      <td>professor</td>\n",
       "      <td>graduated</td>\n",
       "      <td>college</td>\n",
       "      <td>dartmouth</td>\n",
       "    </tr>\n",
       "    <tr>\n",
       "      <th>computers</th>\n",
       "      <td>computer</td>\n",
       "      <td>pcs</td>\n",
       "      <td>laptops</td>\n",
       "      <td>phones</td>\n",
       "      <td>devices</td>\n",
       "      <td>laptop</td>\n",
       "      <td>machines</td>\n",
       "      <td>desktop</td>\n",
       "      <td>software</td>\n",
       "      <td>pc</td>\n",
       "    </tr>\n",
       "    <tr>\n",
       "      <th>science</th>\n",
       "      <td>sciences</td>\n",
       "      <td>physics</td>\n",
       "      <td>institute</td>\n",
       "      <td>mathematics</td>\n",
       "      <td>studies</td>\n",
       "      <td>research</td>\n",
       "      <td>biology</td>\n",
       "      <td>university</td>\n",
       "      <td>psychology</td>\n",
       "      <td>economics</td>\n",
       "    </tr>\n",
       "    <tr>\n",
       "      <th>teach</th>\n",
       "      <td>learn</td>\n",
       "      <td>taught</td>\n",
       "      <td>teaching</td>\n",
       "      <td>teaches</td>\n",
       "      <td>lessons</td>\n",
       "      <td>educate</td>\n",
       "      <td>teachers</td>\n",
       "      <td>learned</td>\n",
       "      <td>students</td>\n",
       "      <td>learning</td>\n",
       "    </tr>\n",
       "  </tbody>\n",
       "</table>\n",
       "</div>"
      ],
      "text/plain": [
       "                  0          1           2            3         4         5  \\\n",
       "yale        harvard  princeton  university      cornell  stanford  graduate   \n",
       "computers  computer        pcs     laptops       phones   devices    laptop   \n",
       "science    sciences    physics   institute  mathematics   studies  research   \n",
       "teach         learn     taught    teaching      teaches   lessons   educate   \n",
       "\n",
       "                   6           7           8          9  \n",
       "yale       professor   graduated     college  dartmouth  \n",
       "computers   machines     desktop    software         pc  \n",
       "science      biology  university  psychology  economics  \n",
       "teach       teachers     learned    students   learning  "
      ]
     },
     "execution_count": 20,
     "metadata": {},
     "output_type": "execute_result"
    }
   ],
   "source": [
    "pos_words = ['yale', 'computers', 'science', 'teach']\n",
    "\n",
    "words = [[item[0] for item in glove.most_similar(positive=[word])] for word in pos_words]\n",
    "\n",
    "pd.DataFrame(data=words, index=pos_words)"
   ]
  },
  {
   "attachments": {},
   "cell_type": "markdown",
   "metadata": {
    "id": "GM_ugonot8gS"
   },
   "source": [
    "# Music embeddings with word2vec instead of PCA"
   ]
  },
  {
   "attachments": {},
   "cell_type": "markdown",
   "metadata": {},
   "source": [
    "In HW6 you saw the connection between word2vec and PCA. \n",
    "\n",
    "The word2vec code does some additional processing to balance out words (in this case **artists**) that appear more often in the sentences (in our case **playlists**)"
   ]
  },
  {
   "cell_type": "code",
   "execution_count": 21,
   "metadata": {},
   "outputs": [],
   "source": [
    "leadstring = '/Users/wenxinxu/Desktop/SDS565/data/playlists/'\n",
    "with open(leadstring+'artists.txt','r') as f:\n",
    "    artists=f.readlines()\n",
    "\n",
    "# a dict mapping code to artist e.g., 941: 'By The Tree'\n",
    "codetoartist = {j : artists[j].strip() for j in range(len(artists))}\n",
    "\n",
    "# a dict mapping artist to code e.g., 'By The Tree': 941\n",
    "artisttocode = {artists[j].strip() : j for j in range(len(artists))}\n",
    "\n",
    "\n",
    "# construct the sentences object using the playlists file\n",
    "# Iterate over a file that contains sentences: one line = one sentence. \n",
    "# Words must be already preprocessed and separated by whitespace.\n",
    "sentences = word2vec.LineSentence('/Users/wenxinxu/Desktop/SDS565/data/playlists/playlists.txt')\n",
    "model = word2vec.Word2Vec(sentences, vector_size=100, window=100, min_count=1) "
   ]
  },
  {
   "attachments": {},
   "cell_type": "markdown",
   "metadata": {
    "id": "1RylVvCrt8gW"
   },
   "source": [
    "## Similar artists"
   ]
  },
  {
   "attachments": {},
   "cell_type": "markdown",
   "metadata": {},
   "source": [
    "After you train your model find the artist most similar to Jay-Z (artist code 3280). \n",
    "\n",
    "In the below code we use a **string** `'3280'` for the code. \n",
    "\n",
    "**Because elements in a vocabulary should be string type and artists are represented as codes in the playlists.**"
   ]
  },
  {
   "cell_type": "code",
   "execution_count": 23,
   "metadata": {
    "colab": {
     "base_uri": "https://localhost:8080/"
    },
    "id": "7wwcL1A3t8gX",
    "outputId": "a0181ea0-d1c1-4ae8-9edc-036f739bd08d"
   },
   "outputs": [
    {
     "data": {
      "text/plain": [
       "['Nicki Minaj',\n",
       " 'Aaliyah',\n",
       " 'Jeremih',\n",
       " 'Lil Wayne',\n",
       " 'The Notorious B.I.G.',\n",
       " 'Chris Brown & Tyga',\n",
       " 'Chris Brown',\n",
       " 'Drake',\n",
       " 'T-Pain',\n",
       " 'Wiz Khalifa']"
      ]
     },
     "execution_count": 23,
     "metadata": {},
     "output_type": "execute_result"
    }
   ],
   "source": [
    "[codetoartist[int(j[0])] for j in model.wv.similar_by_word(str(artisttocode['Jay-Z']))]"
   ]
  },
  {
   "attachments": {},
   "cell_type": "markdown",
   "metadata": {
    "id": "jXX6MxVlt8gY"
   },
   "source": [
    "## Artist analogies"
   ]
  },
  {
   "cell_type": "markdown",
   "metadata": {
    "id": "b0mYFiAGt8gY"
   },
   "source": [
    "Try out artist analogies. Make three analogies. Comment on your results."
   ]
  },
  {
   "cell_type": "markdown",
   "metadata": {},
   "source": [
    "**Comment**\n",
    "\n",
    "1. 2Pac' is to 'Drake' as What is to 'The Notorious B.I.G.'? 'Terror Squad'\n",
    "\n",
    "    Result is good, all the artists are hip hop genre.\n",
    "\n",
    "2. Curtis Mayfield' is to 'MJ' as What is to 'Babyface'? 'Stevie Wonder\n",
    "    \n",
    "    Result is good, the former are soul and funk genre, while the latter are R&B genre.\n",
    "\n",
    "3. Jimmy Hicks & The Voices Of Integrity' is to 'Bruce Springsteen & The E Street Band'as What is to 'Billy Vera & The Beaters'? ''Fantasia\n",
    "\n",
    "    Result is kind of confusing since the first artist is Christian/gospel, the second is rock, the third is R&B, the last is improvisation.\n",
    "\n",
    "4. David Benoit' is to 'Fito Olivares' as What is to 'Frankie Goes To Hollywood'? 'Shontelle'\n",
    "    \n",
    "    The result is kind of confusing since the first is Jazz, the second is Mexican cumbia, the third is Hi-NRG, the last is R&B.\n"
   ]
  },
  {
   "cell_type": "code",
   "execution_count": null,
   "metadata": {
    "colab": {
     "base_uri": "https://localhost:8080/"
    },
    "id": "pE64X9xLzWUC",
    "outputId": "9e9802b3-f301-4479-ef3f-77c55144d9ec"
   },
   "outputs": [
    {
     "data": {
      "text/plain": [
       "('2Pac', 'The Notorious B.I.G.', 'Drake')"
      ]
     },
     "execution_count": 30,
     "metadata": {
      "tags": []
     },
     "output_type": "execute_result"
    }
   ],
   "source": [
    "codetoartist[1567], codetoartist[2616], codetoartist[1469]"
   ]
  },
  {
   "cell_type": "markdown",
   "metadata": {
    "id": "O09vjEprzs8f"
   },
   "source": [
    "'2Pac' is to 'Drake' as What is to 'The Notorious B.I.G.'?: **'Terror Squad'**\n",
    "\n",
    "$\\phi(2Pac) - \\phi(Drake) \\approx \\phi(What) - \\phi(The\\ Notorious\\ B.I.G.)$"
   ]
  },
  {
   "cell_type": "code",
   "execution_count": null,
   "metadata": {
    "id": "KMJZIB7ot8gZ",
    "outputId": "7857cd8f-1829-4fd7-a8e3-ced2258d1aea"
   },
   "outputs": [
    {
     "data": {
      "text/plain": [
       "['Terror Squad',\n",
       " 'Bell Biv Devoe',\n",
       " 'California Swag District',\n",
       " 'Gucci Mane',\n",
       " '50 Cent',\n",
       " 'Twista',\n",
       " '2 Pistols',\n",
       " 'Bow Wow',\n",
       " 'Unk',\n",
       " 'Juvenile']"
      ]
     },
     "execution_count": 322,
     "metadata": {
      "tags": []
     },
     "output_type": "execute_result"
    }
   ],
   "source": [
    "# 1567 - 1469 = what - 2616\n",
    "[codetoartist[int(j[0])] for j in model.wv.most_similar(positive=['1567','2616'],negative=['1469'])]"
   ]
  },
  {
   "cell_type": "markdown",
   "metadata": {
    "id": "FNv8EPF7zGar"
   },
   "source": [
    "Analogies 1"
   ]
  },
  {
   "cell_type": "markdown",
   "metadata": {
    "id": "cM6Bn6RV0L_g"
   },
   "source": [
    "'Curtis Mayfield' is to 'MJ' as What is to 'Babyface'?: **'Stevie Wonder'**\n",
    "\n",
    "\n",
    "$\\phi(Curtis\\ Mayfield) - \\phi(MJ) \\approx \\phi(What) - \\phi(Babyface)$"
   ]
  },
  {
   "cell_type": "code",
   "execution_count": null,
   "metadata": {
    "colab": {
     "base_uri": "https://localhost:8080/"
    },
    "id": "xr9Uz3tE0S9J",
    "outputId": "16683d43-9187-4c64-e2fc-366f7415e5c7"
   },
   "outputs": [
    {
     "data": {
      "text/plain": [
       "('Curtis Mayfield', 'Babyface', 'MJ')"
      ]
     },
     "execution_count": 31,
     "metadata": {
      "tags": []
     },
     "output_type": "execute_result"
    }
   ],
   "source": [
    "codetoartist[235], codetoartist[525], codetoartist[890]"
   ]
  },
  {
   "cell_type": "code",
   "execution_count": null,
   "metadata": {
    "colab": {
     "base_uri": "https://localhost:8080/"
    },
    "id": "z4TMCDBFzErg",
    "outputId": "749dc194-7e0f-48bc-8925-6665deff0529"
   },
   "outputs": [
    {
     "data": {
      "text/plain": [
       "['Stevie Wonder',\n",
       " 'Bill Withers',\n",
       " \"The O'Jays\",\n",
       " 'Otis Redding',\n",
       " 'The Chi-Lites',\n",
       " 'The Five Stairsteps',\n",
       " 'Lou Rawls',\n",
       " 'Barry McGuire',\n",
       " 'The American Breed',\n",
       " 'The Association']"
      ]
     },
     "execution_count": 32,
     "metadata": {
      "tags": []
     },
     "output_type": "execute_result"
    }
   ],
   "source": [
    "[codetoartist[int(j[0])] for j in model.wv.most_similar(positive=['235','525'],negative=['890'])]"
   ]
  },
  {
   "cell_type": "markdown",
   "metadata": {
    "id": "gT-uiuPvzJAe"
   },
   "source": [
    "Analogies 2"
   ]
  },
  {
   "cell_type": "markdown",
   "metadata": {
    "id": "LnnNL6XD07xS"
   },
   "source": [
    "'Jimmy Hicks & The Voices Of Integrity' is to 'Bruce Springsteen & The E Street Band'as What is to 'Billy Vera & The Beaters'?: **''Fantasia''**\n",
    "\n",
    "\n",
    "$\n",
    "\\phi(Jimmy\\ Hicks\\  \\&\\ The\\ Voices\\ Of\\ Integrity) - \\phi(Bruce\\ Springsteen\\ \\&\\  The\\ E\\ Street\\ Band) \\approx \\phi(What) - \\phi(Billy\\ Vera\\ \\&\\  The\\ Beaters)\n",
    "$"
   ]
  },
  {
   "cell_type": "code",
   "execution_count": null,
   "metadata": {
    "colab": {
     "base_uri": "https://localhost:8080/"
    },
    "id": "oi4Dq3pQ09vX",
    "outputId": "38efc50c-bc92-48d0-88c6-97c594c12b3b"
   },
   "outputs": [
    {
     "data": {
      "text/plain": [
       "('Jimmy Hicks & The Voices Of Integrity',\n",
       " 'Billy Vera & The Beaters',\n",
       " 'Bruce Springsteen & The E Street Band')"
      ]
     },
     "execution_count": 33,
     "metadata": {
      "tags": []
     },
     "output_type": "execute_result"
    }
   ],
   "source": [
    "codetoartist[728], codetoartist[190], codetoartist[1004]"
   ]
  },
  {
   "cell_type": "code",
   "execution_count": null,
   "metadata": {
    "colab": {
     "base_uri": "https://localhost:8080/"
    },
    "id": "xAMIOucXzE8O",
    "outputId": "90ee2065-ae81-4d8e-f766-3755e33d62f3"
   },
   "outputs": [
    {
     "data": {
      "text/plain": [
       "['Fantasia',\n",
       " 'Versatile',\n",
       " 'Fast Life Yungstaz',\n",
       " 'Faith Evans',\n",
       " 'Bow Wow',\n",
       " \"Cam'ron\",\n",
       " 'Future Fambo & Beenie Man',\n",
       " 'The S.O.S. Band',\n",
       " 'Wayne Wonder',\n",
       " 'John Brown']"
      ]
     },
     "execution_count": 34,
     "metadata": {
      "tags": []
     },
     "output_type": "execute_result"
    }
   ],
   "source": [
    "[codetoartist[int(j[0])] for j in model.wv.most_similar(positive=['728','190'],negative=['1004'])]"
   ]
  },
  {
   "cell_type": "markdown",
   "metadata": {
    "id": "42aVenYUzK-W"
   },
   "source": [
    "Analogies 3"
   ]
  },
  {
   "cell_type": "markdown",
   "metadata": {
    "id": "LnnNL6XD07xS"
   },
   "source": [
    "'David Benoit' is to 'Fito Olivares'as What is to 'Frankie Goes To Hollywood'?: **'Shontelle'**\n",
    "\n",
    "\n",
    "$\n",
    "\\phi(David\\ Benoit) - \\phi(Fito\\ Olivares) \\approx \\phi(What) - \\phi(Frankie\\ Goes\\ To\\ Hollywood)\n",
    "$"
   ]
  },
  {
   "cell_type": "code",
   "execution_count": 15,
   "metadata": {
    "ExecuteTime": {
     "end_time": "2021-05-12T12:37:05.688740Z",
     "start_time": "2021-05-12T12:37:05.667140Z"
    }
   },
   "outputs": [
    {
     "data": {
      "text/plain": [
       "('David Benoit', 'Frankie Goes To Hollywood', 'Fito Olivares')"
      ]
     },
     "execution_count": 15,
     "metadata": {},
     "output_type": "execute_result"
    }
   ],
   "source": [
    "codetoartist[1123], codetoartist[248], codetoartist[743]"
   ]
  },
  {
   "cell_type": "code",
   "execution_count": null,
   "metadata": {
    "colab": {
     "base_uri": "https://localhost:8080/"
    },
    "id": "VqOEHoj3zFK0",
    "outputId": "2d08ee9f-a57e-4e7b-ea68-78bf0c8e7cc3"
   },
   "outputs": [
    {
     "data": {
      "text/plain": [
       "['Shontelle',\n",
       " \"Evelyn 'Champagne' King\",\n",
       " 'OneRepublic & Timbaland',\n",
       " 'Champaign',\n",
       " 'Duffy',\n",
       " 'Sarah McLachlan',\n",
       " 'Gavin DeGraw',\n",
       " 'Beyonce',\n",
       " 'Shaggy',\n",
       " 'Elliott Yamin']"
      ]
     },
     "execution_count": 36,
     "metadata": {
      "tags": []
     },
     "output_type": "execute_result"
    }
   ],
   "source": [
    "[codetoartist[int(j[0])] for j in model.wv.most_similar(positive=['1123','248'],negative=['743'])]"
   ]
  },
  {
   "attachments": {},
   "cell_type": "markdown",
   "metadata": {
    "id": "qEUzxHNmt8gZ"
   },
   "source": [
    "## TSNE visualization"
   ]
  },
  {
   "attachments": {},
   "cell_type": "markdown",
   "metadata": {},
   "source": [
    "Pick a few artists and show their names on the plot, comment on your findings."
   ]
  },
  {
   "cell_type": "markdown",
   "metadata": {
    "id": "q44Y538DOujc"
   },
   "source": [
    "**Comment:**\n",
    "\n",
    "- The first group of 10 artists I picked were the top 10 artists cloest to \"Notorious B.I.G\" found by the previous word2vec model in Problem 5. \n",
    "\n",
    "  In the t-SNE plot 1 below, they are squeezed together. \n",
    "\n",
    "- The second group of 10 artists I picked were 10 random artists in the artist list\n",
    "\n",
    "  In the t-SNE plot 2 below, they are scattered.\n",
    "\n",
    "-  The difference is because t-SNE try to minimize the divergence between 2 distributions: \n",
    "\n",
    "  - if embedding vectors are very close to each other, t-SNE will pull the corresponding visualization vectors to be more close.\n",
    "\n",
    "  -  if embedding vectors are very far away from each other, t-SNE will push the corresponding visualization vectors to be more further away.\n"
   ]
  },
  {
   "cell_type": "code",
   "execution_count": 26,
   "metadata": {},
   "outputs": [
    {
     "name": "stderr",
     "output_type": "stream",
     "text": [
      "/opt/anaconda3/envs/d2l/lib/python3.8/site-packages/sklearn/manifold/_t_sne.py:982: FutureWarning: The PCA initialization in TSNE will change to have the standard deviation of PC1 equal to 1e-4 in 1.2. This will ensure better convergence.\n",
      "  warnings.warn(\n"
     ]
    }
   ],
   "source": [
    "leadstring = '/Users/wenxinxu/Desktop/SDS565/data/playlists/'\n",
    "with open(leadstring+'artists.txt','r') as f:\n",
    "    artists=f.readlines()\n",
    "pl = pd.read_csv(leadstring+'playlists.txt',header=None)\n",
    "\n",
    "# a dict mapping code to artist e.g., 941: 'By The Tree'\n",
    "codetoartist = {j : artists[j].strip() for j in range(len(artists))}\n",
    "\n",
    "# a dict mapping artist to code e.g., 'By The Tree': 941\n",
    "artisttocode = {artists[j].strip() : j for j in range(len(artists))}\n",
    "\n",
    "# create sparse matrix X (18111, 3292) \n",
    "d = pl.to_dict()[0]\n",
    "inds = [(j,[int(k) for k in d[j].strip().split(' ')]) for j in range(len(d))]\n",
    "vals = np.ones(len([k for j in inds for k in j[1]])) # (189900,)\n",
    "i2 = [([j[0]]*len(j[1]),j[1]) for j in inds]\n",
    "\n",
    "row_ind = [k for j in i2 for k in j[0]]\n",
    "col_ind = [k for j in i2 for k in j[1]]\n",
    "\n",
    "X = scipy.sparse.csr_matrix((vals,(row_ind, col_ind))) # (18111, 3292)  Compressed Sparse Row matrix  X[row_ind[k], col_ind[k]] = data[k]\n",
    "A,s,vt = scipy.sparse.linalg.svds(X.T, k=10)\n",
    "\n",
    "# artist embedding\n",
    "alphahat = TSNE(n_components=2,perplexity=20, init='pca', learning_rate='auto').fit_transform(A) # (3292, 2)"
   ]
  },
  {
   "cell_type": "code",
   "execution_count": 48,
   "metadata": {
    "colab": {
     "base_uri": "https://localhost:8080/",
     "height": 592
    },
    "id": "S41J09HPJT_2",
    "outputId": "b666c77e-7477-4661-f5c6-1631287b165d"
   },
   "outputs": [
    {
     "data": {
      "image/png": "[encoded data removed]",
      "text/plain": [
       "<Figure size 576x576 with 1 Axes>"
      ]
     },
     "metadata": {
      "needs_background": "light"
     },
     "output_type": "display_data"
    }
   ],
   "source": [
    "# top 10 artists cloest to \"Notorious B.I.G\"\n",
    "artists_notorious_big = [codetoartist[int(j[0])] for j in model.wv.similar_by_word(str(artisttocode['The Notorious B.I.G.']))]\n",
    "# 10 artists randomly sampled from artist list\n",
    "random_artists = sample(list(artisttocode), 10)\n",
    "\n",
    "plt.figure(figsize=(8, 8))\n",
    "plt.plot(alphahat[:,0],alphahat[:,1],'.', markersize=5, color='lightblue')\n",
    "\n",
    "for artist in artists_notorious_big:\n",
    "    code=artisttocode[artist]\n",
    "    plt.plot(alphahat[code,0] ,alphahat[code,1], '.', markersize=5, color=\"green\")\n",
    "    plt.annotate(text=artist, xy=(alphahat[code,0] ,alphahat[code,1]), xytext=(10, 10), textcoords=\"offset pixels\", color='black', ha='center')\n",
    "\n",
    "for artist in random_artists:\n",
    "    code=artisttocode[artist]\n",
    "    plt.plot(alphahat[code,0] ,alphahat[code,1], '.', markersize=5, color=\"red\")\n",
    "    plt.annotate(text=artist, xy=(alphahat[code,0] ,alphahat[code,1]),xytext=(10, 10), textcoords=\"offset pixels\", color='black', ha='center')\n",
    "\n",
    "plt.xlabel(r\"$X_1$\")\n",
    "plt.ylabel(r\"$X_2$\")\n",
    "\n",
    "legend_elements = [Line2D([0], [0], marker='o', color='w', label=\"Top 10 artists cloest to Notorious B.I.G\",\n",
    "                          markerfacecolor='green', markersize=8),\n",
    "                   Line2D([0], [0], marker='o', color='w', label=\"10 Random artists\",\n",
    "                          markerfacecolor='red', markersize=8)]\n",
    "plt.legend(handles=legend_elements, bbox_to_anchor=(1.6, 1))\n",
    "\n",
    "plt.title(\"t-SNE of artists\", fontsize=20)\n",
    "plt.show()"
   ]
  },
  {
   "attachments": {},
   "cell_type": "markdown",
   "metadata": {
    "id": "jS5YkYBQt8gZ"
   },
   "source": [
    "# GloVe"
   ]
  },
  {
   "attachments": {},
   "cell_type": "markdown",
   "metadata": {},
   "source": [
    "Train an embedding based on the glove model. \n",
    "\n",
    "words (artists) that appear more often in the sentences (playlists)\n",
    "\n",
    "for the same artist just set the co-occuurence to zero, $c_{w,w} = 0$. i.e., don't deal with it in optimization."
   ]
  },
  {
   "cell_type": "markdown",
   "metadata": {
    "id": "eSTEuu53t8ga"
   },
   "source": [
    "## Making cooccurences matrix"
   ]
  },
  {
   "attachments": {},
   "cell_type": "markdown",
   "metadata": {},
   "source": [
    "### Method 1 sparse matrix"
   ]
  },
  {
   "attachments": {},
   "cell_type": "markdown",
   "metadata": {},
   "source": [
    "- co-occurrence matrix $C \\in \\mathbb{R}^{3292 \\times 3292}$ is squares of sparse matrix $X \\in \\mathbb{R}^{18111 \\times 3292}$\n",
    "$$\n",
    "C = X^T X\n",
    "$$"
   ]
  },
  {
   "cell_type": "code",
   "execution_count": 49,
   "metadata": {},
   "outputs": [],
   "source": [
    "leadstring = '/Users/wenxinxu/Desktop/SDS565/data/playlists/'\n",
    "with open(leadstring+'artists.txt','r') as f:\n",
    "    artists=f.readlines()\n",
    "pl = pd.read_csv(leadstring+'playlists.txt',header=None)\n",
    "\n",
    "# a dict mapping code to artist e.g., 941: 'By The Tree'\n",
    "codetoartist = {j : artists[j].strip() for j in range(len(artists))}\n",
    "\n",
    "# a dict mapping artist to code e.g., 'By The Tree': 941\n",
    "artisttocode = {artists[j].strip() : j for j in range(len(artists))}\n",
    "\n",
    "# create sparse matrix X (18111, 3292) \n",
    "d = pl.to_dict()[0]\n",
    "inds = [(j,[int(k) for k in d[j].strip().split(' ')]) for j in range(len(d))]\n",
    "vals = np.ones(len([k for j in inds for k in j[1]])) # (189900,)\n",
    "i2 = [([j[0]]*len(j[1]),j[1]) for j in inds]\n",
    "\n",
    "row_ind = [k for j in i2 for k in j[0]]\n",
    "col_ind = [k for j in i2 for k in j[1]]\n",
    "\n",
    "X = scipy.sparse.csr_matrix((vals,(row_ind, col_ind))) # (18111, 3292)  Compressed Sparse Row matrix  X[row_ind[k], col_ind[k]] = data[k]\n",
    "# co-occurence matrix  (3292, 3292)\n",
    "C = X.T @ X\n",
    "C.setdiag(0) # for the same artist, set the co-occurrence to zero."
   ]
  },
  {
   "attachments": {},
   "cell_type": "markdown",
   "metadata": {
    "id": "1cm_p3Rft8gg"
   },
   "source": [
    "### Method 2 numpy arrays and for-loop"
   ]
  },
  {
   "cell_type": "code",
   "execution_count": 51,
   "metadata": {},
   "outputs": [
    {
     "data": {
      "text/plain": [
       "3292"
      ]
     },
     "execution_count": 51,
     "metadata": {},
     "output_type": "execute_result"
    }
   ],
   "source": [
    "len(artists)"
   ]
  },
  {
   "cell_type": "code",
   "execution_count": 52,
   "metadata": {
    "id": "HuB5nEhqt8gh"
   },
   "outputs": [],
   "source": [
    "leadstring = '/Users/wenxinxu/Desktop/SDS565/data/playlists/'\n",
    "with open(leadstring+'artists.txt','r') as f:\n",
    "    artists=f.readlines()\n",
    "\n",
    "with open(leadstring+'playlists.txt','r') as f:\n",
    "    sentences=f.readlines()\n",
    "\n",
    "# codes of playlist without row index\n",
    "sentenceslist = [list(map(int, j.strip().split(' '))) for j in sentences] \n",
    "\n",
    "# co-occurence matrix (3292, 3292)\n",
    "C = np.zeros((len(artists), len(artists)))\n",
    "for sentence in sentenceslist: # j is a sentence (playlist)\n",
    "    for context in sentence: # a is context word (artsit)\n",
    "        for target in sentence: # b is target word (artsit)\n",
    "            C[context, target] += 1 # the number of times target word (artist) occurs with the context of word (artist) together\n",
    "\n",
    "np.fill_diagonal(C,0)  # for the same artist just set the co-occuurence to zero."
   ]
  },
  {
   "cell_type": "markdown",
   "metadata": {
    "id": "s3vxZSGRmI6V"
   },
   "source": [
    "## Train glove model"
   ]
  },
  {
   "attachments": {},
   "cell_type": "markdown",
   "metadata": {
    "id": "Er-jxMcVt8gk"
   },
   "source": [
    "Training objective: weighted least square loss\n",
    "\n",
    "$$\n",
    "\\hat {\\mathbf{w}}_a,  \\hat {\\mathbf{w}}_b=\\underset{\\mathbf{w}_a, \\mathbf{w}_b}{\\arg \\min} \\sum_{a,b}^{|V|} f(C_{a,b}) (\\mathbf{w}_a^T \\mathbf{w}_b - \\log(C_{a,b}))^2\n",
    "$$"
   ]
  },
  {
   "attachments": {},
   "cell_type": "markdown",
   "metadata": {
    "id": "xq_GZxX1t8gl"
   },
   "source": [
    "$\\mathbf{w}_a \\in \\mathbb{R}^{d}$ is embedding for target artist $a$, $\\mathbf{w}_b \\in \\mathbb{R}^{d}$ is embedding vector for context artist $b$.\n",
    "\n",
    "Take the weight function $f(C_{a,b}) = \\min(1,(C_{a,b}/100)^{3/4})$. \n",
    "\n",
    "optimize the above objective using gradient descent."
   ]
  },
  {
   "attachments": {},
   "cell_type": "markdown",
   "metadata": {
    "id": "sxx6_dBG_y9Q"
   },
   "source": [
    "Gradient of loss with respect to $\\mathbf{w}_a$\n",
    "\n",
    "$$\n",
    "\\frac{\\partial l}{\\partial {\\mathbf{w}_a}}=\\sum_{b=1}^{|V|}f(C_{a,b})\\mathbf{w}_b (\\mathbf{w}_a^T \\mathbf{w}_b - \\log(C_{a,b})) \\in \\mathbb{R}^{d}\n",
    "$$\n",
    "\n",
    "Gradient of loss with respect to $\\mathbf{w}_b$\n",
    "\n",
    "$$\n",
    "\\frac{\\partial l}{\\partial {\\mathbf{w}_b}}=\\sum_{a=1}^{|V|}f(C_{a,b})\\mathbf{w}_a (\\mathbf{w}_a^T \\mathbf{w}_b - \\log(C_{a,b})) \\in \\mathbb{R}^{d}\n",
    "$$"
   ]
  },
  {
   "attachments": {},
   "cell_type": "markdown",
   "metadata": {},
   "source": [
    "**Comment**\n",
    "\n",
    "- I trained my Glove model by full gradient descent with step size 3*10e-5 and 100 dimensionality of embedding\n",
    "\n",
    "- I plot the weighted squared loss with respect to iteration times (epochs): After 100 epochs, loss is about 10e4\n",
    "    \n",
    "- I also compared the loss of my Glove model to loss of word2vec model and loss of PCA model\n",
    "\n",
    "    It turns out their loss are about 10e6, so the loss of my Glove model in the reasonable scale"
   ]
  },
  {
   "cell_type": "code",
   "execution_count": 57,
   "metadata": {},
   "outputs": [],
   "source": [
    "from typing import List "
   ]
  },
  {
   "cell_type": "code",
   "execution_count": 58,
   "metadata": {
    "ExecuteTime": {
     "end_time": "2021-05-12T10:34:22.940285Z",
     "start_time": "2021-05-12T10:34:22.549662Z"
    },
    "id": "lcSvF4K7L_lc"
   },
   "outputs": [],
   "source": [
    "class Glove:\n",
    "\n",
    "    def __init__(self, D: int=100, V: int=3292):\n",
    "        \"\"\"\n",
    "        D: dimension of embedding\n",
    "        V: size of word vocabulary\n",
    "        \"\"\"\n",
    "        self.D = D\n",
    "        self.V = V\n",
    "\n",
    "    def fit(self, sentences: List[List[int]], step_size: float=3*10e-5, epochs: int=100, xmax: int=100, alpha: float=0.75):\n",
    "        \"\"\"\n",
    "        Train Glove model using full gradient descent, plot loss\n",
    "\n",
    "        @Params\n",
    "        sentences: a list of sentences\n",
    "        step_size: learning rate, default to 3*10e-5\n",
    "        epochs: number of iterations, default to 100\n",
    "        xmax: max value in the co-occurrence matrix, defaul to 100\n",
    "        alpha: power of weight function, default to 3/4\n",
    "        \"\"\"\n",
    "        D = self.D\n",
    "        V = self.V\n",
    "\n",
    "        # create a co-occurrence matrix, np.array shape (V,V)\n",
    "        C = np.zeros((V, V))\n",
    "        for sentence in sentences:  # a sentence is a playlist\n",
    "            for a in sentence:  # a is context word (artsit)\n",
    "                for b in sentence:  # b is target word (artsit)\n",
    "                    C[a, b] += 1  # the number of times target word (artist) a occurs with the context of word (artist) b together\n",
    "        np.fill_diagonal(C, 0)  # for the same artist just set the co-occuurence to zero.\n",
    "        C[C == 0] = 1   # set unobserved pairs to 1 to avoid log0 error\n",
    "\n",
    "        # weight function\n",
    "        fX = np.zeros((V, V))\n",
    "        fX[C < xmax] = (C[C < xmax] / float(xmax))**alpha\n",
    "        fX[C >= xmax] = 1\n",
    "        \n",
    "        # randomly initiate word embedding matrix A and context embedding matrix B\n",
    "        A = np.random.randn(V, D)/np.sqrt(V+D) #  (3292, 100)\n",
    "        B = np.random.randn(V, D)/np.sqrt(V+D) #  (3292, 100)\n",
    "\n",
    "        costs = []\n",
    "\n",
    "        for epoch in tqdm(range(epochs)):\n",
    "\n",
    "            delta = A @ B.T - np.log(C)\n",
    "\n",
    "            cost = (fX * (delta**2)).sum()\n",
    "\n",
    "            costs.append(cost)\n",
    "\n",
    "            oldA = A.copy()\n",
    "\n",
    "            for i in range(V):\n",
    "                A[i] -= step_size * (fX[i, :] * delta[i, :]) @ B\n",
    "   \n",
    "            for j in range(V):\n",
    "                B[j] -= step_size * (fX[:, j] * delta[:, j]) @ oldA\n",
    "          \n",
    "        optimal_epochs = 1 + np.argmin(costs)\n",
    "        print(\"epoch:\", optimal_epochs, \"Min Loss:\", min(costs))\n",
    "        \n",
    "        plt.plot(range(1, epochs+1), costs)\n",
    "        plt.xlabel(\"Epoch\")\n",
    "        plt.ylabel(\"Loss\")\n",
    "        plt.title(\"Glove of Artists\")\n",
    "        plt.show()"
   ]
  },
  {
   "cell_type": "code",
   "execution_count": 59,
   "metadata": {
    "ExecuteTime": {
     "end_time": "2021-05-12T10:39:58.552894Z",
     "start_time": "2021-05-12T10:35:10.086110Z"
    },
    "id": "IzBPIOEb6-bf",
    "outputId": "ee19e405-bb5e-4d10-c159-90e95d974299",
    "scrolled": true
   },
   "outputs": [
    {
     "name": "stderr",
     "output_type": "stream",
     "text": [
      "100%|██████████| 100/100 [01:32<00:00,  1.09it/s]"
     ]
    },
    {
     "name": "stdout",
     "output_type": "stream",
     "text": [
      "epoch: 100 Min Loss: 42283.140094521645\n"
     ]
    },
    {
     "name": "stderr",
     "output_type": "stream",
     "text": [
      "\n"
     ]
    },
    {
     "data": {
      "image/png": "[encoded data removed]",
      "text/plain": [
       "<Figure size 432x288 with 1 Axes>"
      ]
     },
     "metadata": {
      "needs_background": "light"
     },
     "output_type": "display_data"
    }
   ],
   "source": [
    "leadstring = '/Users/wenxinxu/Desktop/SDS565/data/playlists/'\n",
    "with open(leadstring+'artists.txt','r') as f:\n",
    "    artists=f.readlines() # 3292 artists (vocabulary size)\n",
    "\n",
    "with open(leadstring+'playlists.txt','r') as f:\n",
    "    sentences=f.readlines() # 18111 playlists (sentences)\n",
    "\n",
    "# codes of playlist without row index\n",
    "sentenceslist = [list(map(int, j.strip().split(' '))) for j in sentences] \n",
    "\n",
    "model = Glove(D=100, V = len(artists)) \n",
    "\n",
    "model.fit(sentences = sentenceslist,\n",
    "          step_size = 0.001,\n",
    "          epochs = 100, \n",
    "          xmax=100, \n",
    "          alpha=0.75)"
   ]
  },
  {
   "attachments": {},
   "cell_type": "markdown",
   "metadata": {},
   "source": [
    "**Compare loss to word2vec model and PCA**"
   ]
  },
  {
   "cell_type": "code",
   "execution_count": 79,
   "metadata": {
    "ExecuteTime": {
     "end_time": "2021-05-12T08:35:57.224372Z",
     "start_time": "2021-05-12T08:35:26.117672Z"
    }
   },
   "outputs": [
    {
     "data": {
      "text/plain": [
       "(11128420.951959487, 1172457.497055852)"
      ]
     },
     "execution_count": 79,
     "metadata": {},
     "output_type": "execute_result"
    }
   ],
   "source": [
    "w2v_model = word2vec.Word2Vec(sentenceslist, vector_size=100, window=100, min_count=1) \n",
    "\n",
    "W = w2v_model.wv.vectors # W is word embeddings matrix in word2vec: (3292, 100)\n",
    "\n",
    "U,s,VT = scipy.sparse.linalg.svds(X.T, 10) # U is word embeddings matrix in PCA: (3292, 100)\n",
    "\n",
    "# weight function\n",
    "V = len(artists)\n",
    "xmax = 100\n",
    "alpha = 3/4\n",
    "fX = np.zeros((V, V))\n",
    "fX[C < xmax] = (C[C < xmax] / float(xmax))**alpha\n",
    "fX[C >= xmax] = 1\n",
    "\n",
    "C[C == 0] = 1   # set unobserved pairs to 1 to avoid log0 error\n",
    "w2v_loss = (fX * (( W @ W.T - np.log(C))**2)).sum() # C is cooccurence matrix\n",
    "pca_loss = (fX * (( U @ U.T - np.log(C))**2)).sum()  # C is coocurence matrix\n",
    " \n",
    "w2v_loss, pca_loss # 10e7"
   ]
  }
 ],
 "metadata": {
  "colab": {
   "collapsed_sections": [],
   "name": "Copy of HW07coding.ipynb",
   "provenance": [],
   "toc_visible": true
  },
  "hide_input": false,
  "kernelspec": {
   "display_name": "d2l",
   "language": "python",
   "name": "python3"
  },
  "language_info": {
   "codemirror_mode": {
    "name": "ipython",
    "version": 3
   },
   "file_extension": ".py",
   "mimetype": "text/x-python",
   "name": "python",
   "nbconvert_exporter": "python",
   "pygments_lexer": "ipython3",
   "version": "3.8.10"
  },
  "toc": {
   "base_numbering": 1,
   "nav_menu": {},
   "number_sections": true,
   "sideBar": true,
   "skip_h1_title": false,
   "title_cell": "Table of Contents",
   "title_sidebar": "Contents",
   "toc_cell": false,
   "toc_position": {
    "height": "calc(100% - 180px)",
    "left": "10px",
    "top": "150px",
    "width": "220.594px"
   },
   "toc_section_display": true,
   "toc_window_display": true
  },
  "varInspector": {
   "cols": {
    "lenName": 16,
    "lenType": 16,
    "lenVar": 40
   },
   "kernels_config": {
    "python": {
     "delete_cmd_postfix": "",
     "delete_cmd_prefix": "del ",
     "library": "var_list.py",
     "varRefreshCmd": "print(var_dic_list())"
    },
    "r": {
     "delete_cmd_postfix": ") ",
     "delete_cmd_prefix": "rm(",
     "library": "var_list.r",
     "varRefreshCmd": "cat(var_dic_list()) "
    }
   },
   "position": {
    "height": "144px",
    "left": "675px",
    "right": "20px",
    "top": "120px",
    "width": "350px"
   },
   "types_to_exclude": [
    "module",
    "function",
    "builtin_function_or_method",
    "instance",
    "_Feature"
   ],
   "window_display": false
  },
  "vscode": {
   "interpreter": {
    "hash": "15a162aef56c374f20e075fbc4add75b55bd097c903a763d3b0c4cccda1c0caf"
   }
  }
 },
 "nbformat": 4,
 "nbformat_minor": 1
}
