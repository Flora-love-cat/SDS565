{
 "cells": [
  {
   "attachments": {},
   "cell_type": "markdown",
   "metadata": {},
   "source": [
    "# Assignment 4"
   ]
  },
  {
   "cell_type": "code",
   "execution_count": 24,
   "metadata": {
    "ExecuteTime": {
     "end_time": "2021-03-22T14:10:23.979534Z",
     "start_time": "2021-03-22T14:10:23.273870Z"
    }
   },
   "outputs": [],
   "source": [
    "import numpy as np\n",
    "import matplotlib.pyplot as plt\n",
    "from typing import List, Tuple \n",
    "from tqdm import tqdm "
   ]
  },
  {
   "cell_type": "markdown",
   "metadata": {},
   "source": [
    "## Neural networks"
   ]
  },
  {
   "attachments": {},
   "cell_type": "markdown",
   "metadata": {},
   "source": [
    "In this problem you will apply the general back propagation method we derived for multiple layer for a 4-layer neural network (input layer > hidden layer 1 > hidden layer 2 > output layer)\n",
    "$$\n",
    "\\begin{align}\n",
    "&\\mathbf{x} = \\text{input} \\in \\mathbb{R}^{d_0}\\\\[1em]\n",
    "&\\mathbf{z}^{(1)} = W^{(1)} \\mathbf{x} + \\mathbf{b}^{(1)} \\in \\mathbb{R}^{d_1}\\\\[1em]\n",
    "&\\mathbf{a}^{(2)} = g(\\mathbf{z}^{(1)}) \\in \\mathbb{R}^{d_1} \\\\[1em]\n",
    "&\\mathbf{z}^{(2)} = W^{(2)} \\mathbf{a}^{(2)} + \\mathbf{b}^{(2)} \\in \\mathbb{R}^{d_2}\\\\[1em]\n",
    "&\\mathbf{y} = h(\\mathbf{z}^{(2)})  \\in \\mathbb{R}^{d_2}\\\\[1em]\n",
    "\\end{align}\n",
    "$$\n",
    "\n",
    "Where $g$ is ReLU and $h$ is identity"
   ]
  },
  {
   "attachments": {},
   "cell_type": "markdown",
   "metadata": {},
   "source": [
    "## implement Neural network"
   ]
  },
  {
   "cell_type": "markdown",
   "metadata": {},
   "source": [
    "Define a function such that given weight matrices the function evaluates a specific data point."
   ]
  },
  {
   "cell_type": "code",
   "execution_count": 10,
   "metadata": {
    "ExecuteTime": {
     "end_time": "2021-03-22T14:10:29.088009Z",
     "start_time": "2021-03-22T14:10:29.070598Z"
    }
   },
   "outputs": [],
   "source": [
    "def g(v: np.ndarray) -> np.ndarray:\n",
    "    \"\"\"Elementwise ReLU activation\"\"\"\n",
    "    return np.maximum(v,0)\n",
    "\n",
    "def f(x: np.ndarray,listW: List[np.ndarray],listb: List[np.ndarray]) -> np.ndarray:\n",
    "    \"\"\"\n",
    "    Given input x, weights and biases, evaluate neural net\n",
    "\n",
    "    Input:\n",
    "    x: input with shape (n,d_0) (d_0 = p)\n",
    "    listW: a list of weights,  shape of listW[i]: (d_{i+1},d_{i})\n",
    "    listb: a list of biases,  shape of listd[i]: (d_{i+1},)\n",
    "    \n",
    "    Output:\n",
    "    y: shape (n, d_2) \n",
    "    \"\"\"\n",
    "    assert len(x.shape) == 2\n",
    "    a2 = g(listW[0] @ x.T + listb[0][:,None])\n",
    "    y = (listW[1] @ a2 + listb[1][:,None]).T\n",
    "    assert y.shape == (x.shape[0],listW[-1].shape[0])\n",
    "    return y"
   ]
  },
  {
   "cell_type": "code",
   "execution_count": 7,
   "metadata": {},
   "outputs": [
    {
     "data": {
      "text/plain": [
       "((100, 10), [(10, 10), (1, 10)], [(10,), (1,)], (100, 1))"
      ]
     },
     "execution_count": 7,
     "metadata": {},
     "output_type": "execute_result"
    }
   ],
   "source": [
    "listd = [10,10,1]\n",
    "listW = [np.random.randn(listd[j+1],listd[j]) for j in range(2)]\n",
    "listb = [np.random.randn(listd[j+1]) for j in range(2)]\n",
    "x = np.random.randn(100,10)\n",
    "\n",
    "# check shape of input, weights, biases, output\n",
    "x.shape, [W.shape for W in listW], [b.shape for b in listb], f(x,listW,listb).shape"
   ]
  },
  {
   "attachments": {},
   "cell_type": "markdown",
   "metadata": {},
   "source": [
    "## Implement a function that computes gradient"
   ]
  },
  {
   "attachments": {},
   "cell_type": "markdown",
   "metadata": {},
   "source": [
    "Define another function that computes the gradient, This function only needs to take in a specific value $\\mathbf{x} \\in \\mathbb{R}^{d_0}$."
   ]
  },
  {
   "attachments": {},
   "cell_type": "markdown",
   "metadata": {},
   "source": [
    "denote $\\mathbf{z}^{(2)}=W^{(1)} \\mathbf{x} + \\mathbf{b}^{(1)}  \\in \\mathbb{R}^{d_1}$"
   ]
  },
  {
   "attachments": {},
   "cell_type": "markdown",
   "metadata": {},
   "source": [
    "Formula of gradient of $\\mathbf{y}$ w.r.t each parameter:\n",
    "\n",
    "$$\n",
    "\\begin{align}\n",
    "&\\frac{\\partial \\mathbf{y}}{\\partial W^{(1)}}=\\left[(W^{(2)})^T\\circ \\sigma'(\\mathbf{z}^{(2)})\\right]\\mathbf{x}^T    \\in \\mathbb{R}^{d_1 \\times d_0} \\\\[1em]\n",
    "\n",
    "&\\frac{\\partial \\mathbf{y}}{\\partial W^{(2)}}=\\mathbf{1} \\left ( \\mathbf{a}^{(2)} \\right )^T= \\mathbf{1}\\left[\\sigma(W^{(1)} \\mathbf{x} + \\mathbf{b}^{(1)})\\right]^T   \\in \\mathbb{R}^{d_2 \\times d_1} \\\\[1em]\n",
    "\n",
    "&\\frac{\\partial \\mathbf{y}}{\\partial \\mathbf{b}^{(1)}}=(W^{(2)})^T\\circ \\sigma'(\\mathbf{z}^{(2)})  \\in \\mathbb{R}^{d_1} \\\\[1em]\n",
    "\n",
    "&\\frac{\\partial \\mathbf{y}}{\\partial \\mathbf{b}^{(2)}}= \\mathbf{1}   \\in \\mathbb{R}^{d_2}\n",
    "\\end{align}\n",
    "$$"
   ]
  },
  {
   "cell_type": "code",
   "execution_count": 55,
   "metadata": {
    "ExecuteTime": {
     "end_time": "2021-03-22T14:10:39.491148Z",
     "start_time": "2021-03-22T14:10:39.478907Z"
    }
   },
   "outputs": [],
   "source": [
    "def givegrad(x,listW,listb):\n",
    "    \"\"\"\n",
    "    Given a specific x and listW and listb, compute the gradient\n",
    "    \n",
    "    Input:\n",
    "    x np.ndarray of shape (d_0,) (d_0=p)  R^p\n",
    "    listW: list of np.ndarray shape for listW[i] is (d_{i+1},d_{i})\n",
    "    listb: list of np.ndarray shape for listb[i] is (d_{i+1},)\n",
    "    \n",
    "    Output:\n",
    "    gradW: of same structure as listW\n",
    "    gradb: of same structure as listb\n",
    "    \"\"\"\n",
    "    gradW = [0*listW[j] for j in range(len(listW))]\n",
    "    gradb = [0*listb[j] for j in range(len(listb))]\n",
    "\n",
    "    z2 = listW[0] @ x[:,None]+listb[0][:,None]\n",
    "    g_prime = z2 > 0\n",
    "    \n",
    "    gradW[0]= (listW[1].T * g_prime) @ (x[:,None].T)\n",
    "    \n",
    "    gradW[1]= g(z2).T\n",
    "    \n",
    "    gradb[0]= (listW[1].T* g_prime).flatten()\n",
    "    \n",
    "    gradb[1]=np.ones([listb[1].shape[0]])\n",
    "    \n",
    "    return gradW,gradb"
   ]
  },
  {
   "attachments": {},
   "cell_type": "markdown",
   "metadata": {},
   "source": [
    "Check that the gradient is correct be evaluating the numerical gradient\n",
    "\n",
    "Recall that for a function $f(x)$ with a gradient and a very small perturbation vector $r$\n",
    "$$\n",
    "f(x+r) \\approx f(x) + \\langle \\nabla f(x) , r \\rangle\n",
    "$$\n",
    "So then\n",
    "$$\n",
    "f(x+r) - f(x-r) \\approx 2 \\langle \\nabla f(x) , r \\rangle\n",
    "$$\n",
    "Note that to check the gradient as above generally much more effective than\n",
    "$$\n",
    "f(x+r) - f(x) \\approx \\langle \\nabla f(x) , r \\rangle\n",
    "$$\n",
    "\n",
    "We could just take $r$ to be a random coordinate vector"
   ]
  },
  {
   "cell_type": "code",
   "execution_count": 56,
   "metadata": {
    "ExecuteTime": {
     "end_time": "2021-03-22T14:10:43.882935Z",
     "start_time": "2021-03-22T14:10:43.864888Z"
    }
   },
   "outputs": [],
   "source": [
    "x = np.random.randn(listd[0])\n",
    "gradW,gradb = givegrad(x,listW,listb)\n",
    "listwperturb = [1e-6*np.random.randn(*listW[j].shape) for j in range(len(listW))]\n",
    "listbperturb = [1e-6*np.random.randn(*listb[j].shape) for j in range(len(listb))]\n",
    "\n",
    "# no AssertionError if gradient is correct\n",
    "for j in range(len(listW)):\n",
    "    \n",
    "    listWchanged = listW.copy()\n",
    "    \n",
    "    listWchanged[j] = listW[j]+listwperturb[j]\n",
    "    \n",
    "    eval1 = f(x[:,None].T,listWchanged,listb)\n",
    "    \n",
    "    listWchanged[j] = listW[j]-listwperturb[j]\n",
    "    \n",
    "    eval2 = f(x[:,None].T,listWchanged,listb)\n",
    "    \n",
    "    assert np.isclose(np.sum(2*gradW[j]*listwperturb[j]),eval1-eval2)\n",
    "\n",
    "for j in range(len(listb)):\n",
    "      \n",
    "   listbchanged = listb.copy()\n",
    "   \n",
    "   listbchanged[j] = listb[j]+listbperturb[j]\n",
    "   \n",
    "   eval1 = f(x[:,None].T,listW,listbchanged)\n",
    "   \n",
    "   listbchanged[j] = listb[j]-listbperturb[j]\n",
    "   \n",
    "   eval2 = f(x[:,None].T,listW,listbchanged)\n",
    "   \n",
    "   assert np.isclose(np.sum(2*gradb[j]*listbperturb[j]),eval1-eval2)"
   ]
  },
  {
   "attachments": {},
   "cell_type": "markdown",
   "metadata": {},
   "source": [
    "## Training the neural network"
   ]
  },
  {
   "cell_type": "code",
   "execution_count": 22,
   "metadata": {
    "ExecuteTime": {
     "end_time": "2021-03-22T14:10:51.442618Z",
     "start_time": "2021-03-22T14:10:51.025178Z"
    }
   },
   "outputs": [
    {
     "data": {
      "text/plain": [
       "Text(0.5, 1.0, 'Training set')"
      ]
     },
     "execution_count": 22,
     "metadata": {},
     "output_type": "execute_result"
    },
    {
     "data": {
      "image/png": "[encoded data removed]",
      "text/plain": [
       "<Figure size 432x288 with 1 Axes>"
      ]
     },
     "metadata": {
      "needs_background": "light"
     },
     "output_type": "display_data"
    }
   ],
   "source": [
    "# training set\n",
    "n=1000\n",
    "x=4*(np.random.rand(n)-0.5) # (1000,)\n",
    "y = np.sin(2*x)+0.25*np.random.randn(n) # (1000,) # sine function with random noise\n",
    "plt.plot(x,y,'.')\n",
    "plt.xlabel(\"x\")\n",
    "plt.ylabel(\"y\")\n",
    "plt.title(\"Training set\")"
   ]
  },
  {
   "cell_type": "markdown",
   "metadata": {},
   "source": [
    "Use stochastic gradient descent to train on this dataset."
   ]
  },
  {
   "cell_type": "code",
   "execution_count": 57,
   "metadata": {
    "ExecuteTime": {
     "end_time": "2021-03-22T14:10:56.412424Z",
     "start_time": "2021-03-22T14:10:56.382741Z"
    },
    "code_folding": []
   },
   "outputs": [],
   "source": [
    "def sgd(x: np.ndarray, y: np.ndarray, listWinit: List[np.ndarray], listbinit : List[np.ndarray], \n",
    "        step_size: float=0.001, num_iters: int=1000) -> Tuple[List[np.ndarray], List[np.ndarray]]:\n",
    "    \n",
    "    \"\"\"\n",
    "    Given x and initial weights and bias, using stochastic gradient descent to learn the true weights and bias\n",
    "    \n",
    "    Input:\n",
    "    x: features of training set, shape (n,d_0) (d_0 = p)\n",
    "    y: label of training set, shape (n, d2)\n",
    "    listWinit: initial weights, list of np.ndarray shape for listW[i] is (d_{i+1},d_{i})\n",
    "    listbinit: initial bias, list of np.ndarray shape for listd[i] is (d_{i+1},)\n",
    "    step_size: learning rate, default to e-3\n",
    "    num_iters: number of iterations, default to 1000\n",
    "    \n",
    "    Output:\n",
    "    listWlearned: learned weights, of same structure as listWinit\n",
    "    listblearned: learned bias, of same structure as listbinit\n",
    "    \"\"\"\n",
    "    listWguess = [[0 for i in range(len(listWinit))] for j in range(num_iters)]\n",
    "    listbguess = [[0 for i in range(len(listbinit))] for j in range(num_iters)]\n",
    "    listWguess[0],listbguess[0] = listWinit,listbinit\n",
    "\n",
    "    for i in tqdm(range(1,num_iters)):\n",
    "    \n",
    "        # pick a random integer J from [0 , n)\n",
    "        ksamp = np.random.randint(0, x.shape[0])\n",
    "    \n",
    "        gradW,gradb = givegrad(np.array([x[ksamp]]),listWguess[i-1],listbguess[i-1])\n",
    "        \n",
    "        # loss = y_hat - y\n",
    "        loss = float(f(np.array([x[ksamp]])[:,None],listWguess[i-1],listbguess[i-1])) - y[ksamp]\n",
    "        \n",
    "        listWguess[i] = [listWguess[i-1][j] - step_size * loss * gradW[j] for j in range(len(listWinit))]\n",
    "\n",
    "        listbguess[i] = [listbguess[i-1][j] - step_size * loss * gradb[j] for j in range(len(listbinit))]\n",
    "\n",
    "    return listWguess[-1], listbguess[-1]"
   ]
  },
  {
   "attachments": {},
   "cell_type": "markdown",
   "metadata": {},
   "source": [
    "## Plot the function\n",
    "Plot the function that your neural network learned. \n",
    "\n",
    "If it looks completely off that's fine as long as your gradient descent code is correct. \n",
    "\n",
    "If it looks bad keep playing with the learning rate."
   ]
  },
  {
   "cell_type": "code",
   "execution_count": 58,
   "metadata": {},
   "outputs": [
    {
     "name": "stderr",
     "output_type": "stream",
     "text": [
      "100%|██████████| 99999/99999 [00:04<00:00, 20818.60it/s]\n"
     ]
    },
    {
     "data": {
      "text/plain": [
       "Text(0.5, 1.0, 'Neural network')"
      ]
     },
     "execution_count": 58,
     "metadata": {},
     "output_type": "execute_result"
    },
    {
     "data": {
      "image/png": "[encoded data removed]",
      "text/plain": [
       "<Figure size 432x288 with 1 Axes>"
      ]
     },
     "metadata": {
      "needs_background": "light"
     },
     "output_type": "display_data"
    }
   ],
   "source": [
    "n=1000\n",
    "x=4*(np.random.rand(n)-0.5) # (1000,)\n",
    "y = np.sin(2*x)+0.25*np.random.randn(n) # (1000,) # sine function with random noise\n",
    "\n",
    "# train\n",
    "# randomly initialize using this paper https://arxiv.org/pdf/1502.01852.pdf\n",
    "listd = [1,10,1]\n",
    "listW = [np.random.randn(listd[j+1],listd[j]) for j in range(2)]\n",
    "listb = [np.random.randn(listd[j+1]) for j in range(2)]\n",
    "listWinit = [np.sqrt(2)/np.sqrt(listW[j].shape[1])*(np.random.randn(*listW[j].shape)) for j in range(len(listW))]\n",
    "\n",
    "# intialize bias vectors as zero\n",
    "listbinit = [0*x for x in listb]\n",
    "listWlearned, listblearned = sgd(x, y, listWinit, listbinit,step_size=1e-3,num_iters=100000) \n",
    "\n",
    "# test\n",
    "xtest=np.arange(-5,5,0.01) # (1000,)\n",
    "y_test = np.sin(2*xtest)\n",
    "yhat = f(xtest[:,None],listWlearned,listblearned)\n",
    "\n",
    "plt.plot(xtest,yhat,'-',label='y hat')\n",
    "plt.plot(xtest,y_test,'-',label='y star')\n",
    "plt.legend(bbox_to_anchor=(1.3, 1))\n",
    "plt.ylabel(\"y\")\n",
    "plt.xlabel(\"x\")\n",
    "plt.title(\"Neural network\")"
   ]
  }
 ],
 "metadata": {
  "hide_input": false,
  "kernelspec": {
   "display_name": "d2l",
   "language": "python",
   "name": "python3"
  },
  "language_info": {
   "codemirror_mode": {
    "name": "ipython",
    "version": 3
   },
   "file_extension": ".py",
   "mimetype": "text/x-python",
   "name": "python",
   "nbconvert_exporter": "python",
   "pygments_lexer": "ipython3",
   "version": "3.8.10"
  },
  "toc": {
   "base_numbering": 1,
   "nav_menu": {},
   "number_sections": true,
   "sideBar": true,
   "skip_h1_title": false,
   "title_cell": "Table of Contents",
   "title_sidebar": "Contents",
   "toc_cell": false,
   "toc_position": {
    "height": "calc(100% - 180px)",
    "left": "10px",
    "top": "150px",
    "width": "165px"
   },
   "toc_section_display": true,
   "toc_window_display": true
  },
  "varInspector": {
   "cols": {
    "lenName": 16,
    "lenType": 16,
    "lenVar": 40
   },
   "kernels_config": {
    "python": {
     "delete_cmd_postfix": "",
     "delete_cmd_prefix": "del ",
     "library": "var_list.py",
     "varRefreshCmd": "print(var_dic_list())"
    },
    "r": {
     "delete_cmd_postfix": ") ",
     "delete_cmd_prefix": "rm(",
     "library": "var_list.r",
     "varRefreshCmd": "cat(var_dic_list()) "
    }
   },
   "types_to_exclude": [
    "module",
    "function",
    "builtin_function_or_method",
    "instance",
    "_Feature"
   ],
   "window_display": false
  },
  "vscode": {
   "interpreter": {
    "hash": "15a162aef56c374f20e075fbc4add75b55bd097c903a763d3b0c4cccda1c0caf"
   }
  }
 },
 "nbformat": 4,
 "nbformat_minor": 2
}
