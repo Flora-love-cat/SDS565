{
 "cells": [
  {
   "attachments": {},
   "cell_type": "markdown",
   "metadata": {},
   "source": [
    "# Summary"
   ]
  },
  {
   "attachments": {},
   "cell_type": "markdown",
   "metadata": {},
   "source": [
    "different perspectives of logistic regression\n",
    "\n",
    "- geometric: least square and margin, visualize the **decision boundary**\n",
    "\n",
    "- probability: maximum likelihood estimation (MLE)\n"
   ]
  },
  {
   "attachments": {},
   "cell_type": "markdown",
   "metadata": {},
   "source": [
    "# logistic regression"
   ]
  },
  {
   "attachments": {},
   "cell_type": "markdown",
   "metadata": {},
   "source": [
    "- most popular model to solve **binary classification**\n",
    "\n",
    "- loss: logistic loss\n",
    "\n",
    "- **no closed form solution**, but can use least squares or MLE to solve"
   ]
  },
  {
   "attachments": {},
   "cell_type": "markdown",
   "metadata": {},
   "source": [
    "## binary classification"
   ]
  },
  {
   "attachments": {},
   "cell_type": "markdown",
   "metadata": {},
   "source": [
    "- Assumptions:\n",
    "\n",
    "    1. data are i.i.d\n",
    "\n",
    "    2. $\\beta \\sim Bernoulli(p)$"
   ]
  },
  {
   "attachments": {},
   "cell_type": "markdown",
   "metadata": {},
   "source": [
    "- conditional probability model of label $\\mathcal{Y} \\in \\left\\{0, +1 \\right\\}$ given $\\mathbf{x}$ is: \n",
    "\n",
    "    $$\\text{logit}(p) = \\ln \\left( \\frac{\\mathbb{P}(y=1|\\mathbf{x})}{\\mathbb{P}(y=0|\\mathbf{x})}\\right)=\\beta^T\\mathbf{x} + \\beta_0$$\n",
    "\n",
    "    equivalently\n",
    "\n",
    "    $$\n",
    "    \\mathbb{P}(y=1|\\mathbf{x}) \\propto \\exp(\\beta^T\\mathbf{x} + \\beta_0)\n",
    "    $$"
   ]
  },
  {
   "attachments": {},
   "cell_type": "markdown",
   "metadata": {},
   "source": [
    "- a logistic regression model is a function $f: \\mathbb{R}^d \\rightarrow \\mathbb{R}$ for some $\\mathbf{\\beta} \\in \\mathbb{R}^d$ and $\\beta_0 \\in \\mathbb{R}$\n",
    "\n",
    "    output is **probability** that $\\mathbf{x}$ belongs to class 1\n",
    "\n",
    "$$\n",
    "f(\\mathbf{x}) = \\sigma(\\ \\mathbf{\\beta}^T\\mathbf{x}+\\beta_0 ) \\in (0, 1)\n",
    "$$"
   ]
  },
  {
   "attachments": {},
   "cell_type": "markdown",
   "metadata": {},
   "source": [
    "## multi-class classification"
   ]
  },
  {
   "attachments": {},
   "cell_type": "markdown",
   "metadata": {},
   "source": [
    "- conditional probability model\n",
    "\n",
    "$$\n",
    "\\mathbb{P}(y=k|\\mathbf{x}) \\propto \\exp(\\beta_k^T\\mathbf{x}) = \\text{softmax}(\\beta_k^T\\mathbf{x}), k=0, ..., K\n",
    "$$\n",
    "\n",
    "\n"
   ]
  },
  {
   "attachments": {},
   "cell_type": "markdown",
   "metadata": {},
   "source": [
    "## Logit function"
   ]
  },
  {
   "attachments": {},
   "cell_type": "markdown",
   "metadata": {},
   "source": [
    "- logistic regression model combines **sigmoid function** with a **linear map** called  **confidence score (logit)**,\n",
    "    \n",
    "    $$\n",
    "    \\text{logit}=\\mathbf{\\beta}^T\\mathbf{x}+\\beta_0\n",
    "    $$\n",
    "    \n",
    "    e.g., confidence score = 0.8 means the model has 80% confidence that $\\mathbf{x}$ belongs to class 1\n",
    "\n",
    "    if score $>0$, the input is more likely to belong to class 1,\n",
    "    \n",
    "    and if score $<0$, the input is more likely to belong to class 0\n",
    "    \n",
    "- sigmoid curve turns the **score** into a real number between 0 and 1, \n",
    "    \n",
    "    which is interpreted as **probability** that input belongs to class 1"
   ]
  },
  {
   "cell_type": "markdown",
   "metadata": {},
   "source": [
    "- logit of conditional probability $p=P(y=1|x)$ is natural log of odds ratio\n",
    "\n",
    "$$\n",
    "\\text{logit}(p) = \\ln\\left( \\frac{p}{1-p} \\right) = \\beta^T x + \\beta_0\n",
    "$$\n",
    "\n"
   ]
  },
  {
   "attachments": {},
   "cell_type": "markdown",
   "metadata": {},
   "source": [
    "- **logit function is inverse to Sigmoid function.**\n",
    "\n",
    "$$\n",
    "\\text{logit}(z) = \\left [ \\frac{\\exp(z)}{1+\\exp(z)} \\right ]^{-1}\n",
    "$$"
   ]
  },
  {
   "attachments": {},
   "cell_type": "markdown",
   "metadata": {},
   "source": [
    "## sigmoid function"
   ]
  },
  {
   "attachments": {},
   "cell_type": "markdown",
   "metadata": {},
   "source": [
    "- Logistic regression use **sigmoid function** $\\sigma: \\mathbb{R} \\rightarrow \\mathbb{R}$  to estimate conditional probability $P(y=1 | x)$\n",
    "\n",
    "$$\n",
    "\\sigma(z)=\\frac{1}{1+\\exp(-z)}=\\frac{\\exp(z)}{1+\\exp(z)}\n",
    "$$\n",
    "\n",
    "- let $s = \\beta^T\\mathbf{x}$, then\n",
    "\n",
    "$$\n",
    "P(y=1 | x) = p=\\sigma(\\beta^T\\mathbf{x})=\\frac{\\exp(\\beta^T\\mathbf{x})}{1+\\exp(\\beta^T\\mathbf{x})}\n",
    "$$\n",
    "\n",
    "- $\\sigma(z)$ is not necessarily a good calibration of $P(y=1 | x)$, i.e., a good estimate for $P(y=1 | x)$"
   ]
  },
  {
   "attachments": {},
   "cell_type": "markdown",
   "metadata": {},
   "source": [
    "- **properties of sigmoid function**\n",
    "\n",
    "    1. $\\sigma(z) \\in (0, 1)$, can be interpreted as a probability\n",
    "    \n",
    "    2. $\\sigma(-z)=1-\\sigma(z)$\n",
    "\n",
    "    3. derivative of sigmoid function $\\sigma'(z)=\\sigma(z)[1-\\sigma(z)]=\\frac{\\exp(z)}{(1+\\exp(z))^2}$\n",
    "\n",
    "    4. $\\sigma(0)=0.5$, approximately linear aound $y$-axis.\n",
    "\n",
    "    5.  $\\sigma \\to 1$ as $x \\to +\\infty$; $\\sigma \\to 0$ as $x \\to -\\infty$"
   ]
  },
  {
   "cell_type": "code",
   "execution_count": 15,
   "metadata": {},
   "outputs": [
    {
     "data": {
      "image/png": "[encoded data removed]",
      "text/plain": [
       "<Figure size 432x288 with 1 Axes>"
      ]
     },
     "metadata": {
      "needs_background": "light"
     },
     "output_type": "display_data"
    }
   ],
   "source": [
    "import numpy as np\n",
    "import matplotlib.pyplot as plt\n",
    "\n",
    "def sigmoid(x):\n",
    "    \"\"\"Sigmoid function\"\"\"\n",
    "    return 1/(1+np.exp(-x))\n",
    "\n",
    "def sigmoidPrime(x):\n",
    "    \"\"\"Derivative of Sigmoid function\"\"\"\n",
    "    eps=10e-10\n",
    "    return (sigmoid(x+eps) - sigmoid(x-eps))/(2*eps)\n",
    "\n",
    "z = np.linspace(-5,5,200)\n",
    "\n",
    "fig = plt.figure()\n",
    "ax = fig.add_subplot(1, 1, 1)\n",
    "plt.plot(z, sigmoid(z), linewidth=1, label='Sigmoid')\n",
    "plt.plot(z, sigmoidPrime(z), linewidth=1, label='Derivative of Sigmoid')\n",
    "plt.legend(bbox_to_anchor=(1.1, 1))\n",
    "\n",
    "plt.xlabel(\"z (logit)\", x=1)\n",
    "plt.ylabel(r\"$\\sigma$ (probability)\", y=0.8)\n",
    "plt.title('Sigmoid function', y=1.1)\n",
    "\n",
    "# Move left y-axis and bottom x-axis to centre, passing through (0,0)\n",
    "ax.spines['left'].set_position('zero')\n",
    "ax.spines['bottom'].set_position('zero')\n",
    "\n",
    "# Eliminate upper and right axes\n",
    "ax.spines['right'].set_color('none')\n",
    "ax.spines['top'].set_color('none')\n",
    "\n",
    "plt.show()"
   ]
  },
  {
   "cell_type": "markdown",
   "metadata": {},
   "source": [
    "# decision rule of logistic regression"
   ]
  },
  {
   "attachments": {},
   "cell_type": "markdown",
   "metadata": {},
   "source": [
    "## decision rule $\\beta^T x $ is linear"
   ]
  },
  {
   "attachments": {},
   "cell_type": "markdown",
   "metadata": {},
   "source": [
    "for binary classification, assume label to be $y \\in \\{0,+1\\}$. \n",
    "\n",
    "the population risk\n",
    "\n",
    "$$\n",
    "R(f) = \\mathbb{E}(\\mathbb{1}(f(x) \\neq y))\n",
    "$$"
   ]
  },
  {
   "attachments": {},
   "cell_type": "markdown",
   "metadata": {},
   "source": [
    "to calculate the population risk, we use 2 theoroms:\n",
    "\n",
    "- The expected value of an indicator is the probability of itself\n",
    "\n",
    "$$\n",
    "E\\left [ \\boldsymbol{1}\\left ( X) \\right ) \\right ]=\\mathbb{P}\\left ( X \\right )\n",
    "$$\n",
    "\n",
    "- Law of iterated expectation\n",
    "\n",
    "$$\n",
    "E\\left ( Y \\right )=E\\left [ E\\left ( Y|X \\right ) \\right ]\n",
    "$$"
   ]
  },
  {
   "attachments": {},
   "cell_type": "markdown",
   "metadata": {},
   "source": [
    "$$\n",
    "\\begin{align}\n",
    "R(f) \n",
    "&= \\mathbb{E}(\\mathbb{1}(f(x) \\neq y)) \\\\[1em]\n",
    "&= \\mathbb{P}(f(x) \\neq y) = \\mathbb{E}[\\mathbb{E}[\\mathbb{1}(f(x) \\neq y)|x]] \\\\[1em]\n",
    "&= \\mathbb{E}[\\mathbb{1}(f(x) \\neq 1)\\mathbb{P}(y=1|x)+\\mathbb{1}(f(x) \\neq 0)\\mathbb{P}(y=0|x)] \\\\[1em]\n",
    "&=\\left\\{\\begin{matrix}\n",
    "E\\left [ \\mathbb{P}\\left ( y=1|x \\right ) \\right ] & f\\left ( x \\right )=0\\\\ \n",
    "E\\left [ \\mathbb{P}\\left ( y=0|x \\right ) \\right ] & f\\left ( x \\right )=1\n",
    "\\end{matrix}\\right.\n",
    "\\end{align}\n",
    "$$\n",
    "\n",
    "minimize population risk is to minimize the item in the expectation, i.e., $\\mathbb{P}\\left ( y=1|x \\right )$ or $\\mathbb{P}\\left ( y=0|x \\right )$"
   ]
  },
  {
   "attachments": {},
   "cell_type": "markdown",
   "metadata": {},
   "source": [
    "the ideal function classifier that minimizes the population risk is\n",
    "\n",
    "$$ \\hat{f}(x) = \\textrm{1}(P(y=1 | x) > P(y=0 | x)) $$\n",
    "\n",
    "let **the probability that label is 1 given x** to be\n",
    "\n",
    "$$\n",
    "\\eta(x) = P(y=1 | x)\n",
    "$$  \n",
    "\n",
    "Thus \n",
    "$$\n",
    "\\hat{f}(x) = \\textrm{1}\\left (\\eta(x) > \\frac{1}{2} \\right )\n",
    "$$\n"
   ]
  },
  {
   "attachments": {},
   "cell_type": "markdown",
   "metadata": {},
   "source": [
    "we take\n",
    "\n",
    "$$\n",
    "\\eta(x) = \\frac{\\exp(x^T \\beta)}{1+\\exp(x^T \\beta)}\n",
    "$$\n",
    "\n",
    "Thus\n",
    "\n",
    "$$\n",
    "\\hat{f}(x) = \\textrm{1} \\left [  \\exp(\\beta^T x) > 1   \\right ]\n",
    "$$\n",
    "\n",
    "Taking logs, \n",
    "\n",
    "$$\n",
    "\\hat{f}(x) = \\textrm{1} ( \\beta^T x > 0 )\n",
    "$$\n",
    "**decision rules is simplely the linear one**, \n",
    "\n",
    "$$\n",
    "\\beta^T x > 0\n",
    "$$"
   ]
  },
  {
   "cell_type": "markdown",
   "metadata": {},
   "source": [
    "## visualize the decision rule"
   ]
  },
  {
   "attachments": {},
   "cell_type": "markdown",
   "metadata": {},
   "source": [
    "Consider **2-D** so that we can draw the decision rule. \n",
    "\n",
    "assume that we have a **true** $\\beta^*=(1,2)$ "
   ]
  },
  {
   "attachments": {},
   "cell_type": "markdown",
   "metadata": {},
   "source": [
    "With this choice of $\\beta^*$, we see that $\\hat{f}(x) = \\textrm{1} (\\beta^T x > 0)=\\textrm{1}(x_1 + 2x_2 > 0)$"
   ]
  },
  {
   "cell_type": "code",
   "execution_count": 35,
   "metadata": {
    "ExecuteTime": {
     "end_time": "2021-03-08T08:49:51.608856Z",
     "start_time": "2021-03-08T08:49:50.993847Z"
    }
   },
   "outputs": [
    {
     "data": {
      "text/plain": [
       "Text(0.5, 1.0, 'Decision boundary of linear classifier')"
      ]
     },
     "execution_count": 35,
     "metadata": {},
     "output_type": "execute_result"
    },
    {
     "data": {
      "image/png": "[encoded data removed]",
      "text/plain": [
       "<Figure size 360x360 with 1 Axes>"
      ]
     },
     "metadata": {
      "needs_background": "light"
     },
     "output_type": "display_data"
    }
   ],
   "source": [
    "import numpy as np\n",
    "import matplotlib.pyplot as plt\n",
    "from matplotlib.patches import Patch\n",
    "from matplotlib.lines import Line2D\n",
    "\n",
    "def decision_rule(x: np.array, betastar: np.array) -> bool:\n",
    "    \"\"\"return True if betastar^T x > 0, otherwise False\"\"\"\n",
    "    return x.dot(betastar) > 0\n",
    "\n",
    "\n",
    "X = 2*np.random.rand(20,2)-1 # generate 20x2 random data points, column1: x1, column2: x2\n",
    "\n",
    "betastar = np.array([1,2])\n",
    "\n",
    "y = decision_rule(X, betastar) # labels of data points\n",
    "\n",
    "plt.figure(figsize=[5,5])\n",
    "\n",
    "plt.xlabel(r\"$x_{1}$\")\n",
    "\n",
    "plt.ylabel(r\"$x_{2}$\")\n",
    "\n",
    "ax = plt.gca() # get the current axis\n",
    "# ax.set_facecolor((.5,.9,.5)) #change the background color\n",
    "ax.set_xlim([-1,1]) # change the x limit\n",
    "ax.set_ylim([-1,1]) # change the y limit\n",
    "\n",
    "# plot decision boundary, which is orthogonal to beta star\n",
    "x1 = np.arange(-1,1,0.01) \n",
    "\n",
    "plt.plot(x1,-x1/2,linewidth=2, color=\"black\") \n",
    "\n",
    "# plot data points with labels, color of labels: True as blue, False as red\n",
    "plt.scatter(X[:,0],X[:,1],c=np.where(y,'blue','red'), s=40) \n",
    "\n",
    "legend_elements = [Line2D([0], [0], color='black', lw=2, label='Decision boundary'),\n",
    "                   Line2D([0], [0], marker='o', color='w', label='True',\n",
    "                          markerfacecolor='blue', markersize=8),\n",
    "                   Line2D([0], [0], marker='o', color='w', label='False',\n",
    "                          markerfacecolor='red', markersize=8)]\n",
    "\n",
    "plt.legend(handles=legend_elements, bbox_to_anchor=(1.1, 1))\n",
    "\n",
    "# plot label regions\n",
    "x1borders = np.array((-1, -1, 1, 1)) \n",
    "\n",
    "x2borders = [0.5,1,1,-0.5]\n",
    "\n",
    "# Label 1 region as light blue\n",
    "plt.fill(x1borders,x2borders,color=(0,0,1,0.25))\n",
    "\n",
    "# [(-1, -1, 1, 1), (0.5, 1, 1, -0.5)]\n",
    "border1, border2 = tuple(zip(*[(-1,0.5),(1,-0.5),(1,-1),(-1,-1)]))\n",
    "\n",
    "# Label 0 region as light red\n",
    "plt.fill(border1, border2,color=(1,0,0,0.25))\n",
    "\n",
    "plt.title(\"Decision boundary of linear classifier\")"
   ]
  },
  {
   "cell_type": "markdown",
   "metadata": {},
   "source": [
    "## margin of a linear classifier"
   ]
  },
  {
   "attachments": {},
   "cell_type": "markdown",
   "metadata": {},
   "source": [
    "- Margin is the shortest distance between a data point $\\mathbb{x}_i$ and decision boundary $\\mathcal{H}$\n",
    "\n",
    "    Take label $\\mathcal{Y} = \\left\\{ -1, +1\\right\\}, \\mathbb{x}_i \\in \\mathbb{R}^d, \\mathbb{\\theta} \\in \\mathbb{R}^d$\n",
    "\n",
    "$$\n",
    "\\text{margin}(\\mathbb{\\theta}) = \\min \\frac{\\mathbb{y}_i \\left<\\mathbb{x}, \\mathbb{\\theta} \\right>}{\\left\\| \\mathbb{\\theta}\\right\\|} = \\underset{ \\mathbb{v}|\\mathbb{v} \\in \\mathcal{H}}{\\min} \\left\\| \\mathbb{v} - \\mathbb{x}_i\\right\\|\n",
    "$$\n",
    "\n",
    "- The larger the margin, the more confident the predicted label is correct\n",
    "\n",
    "- $\\left\\| \\mathbb{\\theta}\\right\\|$ is used for normalization, to eliminate effect of weight size\n",
    "\n",
    "- the larger the inner product of $\\mathbb{x}$ and $\\mathbb{\\theta}$, the larger the margin. when $\\mathbb{x}$ and true $\\mathbb{\\theta}$ have same direction, inner product is largest.\n",
    "\n",
    "- decision boundary/separating hyperplane: a set $\\mathcal{H} = \\left\\{ \\mathbb{v}| \\left<\\mathbb{v}, \\mathbb{\\theta} \\right>=0\\right\\}$\n",
    "\n",
    "    the label of data point fall on hyperplane is unknown\n",
    "\n",
    "    the label fall outside the hyperplane is either -1 or +1"
   ]
  },
  {
   "cell_type": "markdown",
   "metadata": {},
   "source": [
    "## logistic regression also fit into surrogate loss perspective"
   ]
  },
  {
   "cell_type": "markdown",
   "metadata": {},
   "source": [
    "take the label to be $y \\in \\{-1,+1\\}$. \n",
    "\n",
    "Recall from class that we derived logistic regression from a perspective of **MLE**. \n",
    "\n",
    "Turns out that it also fits into this **surrogate loss** perspective."
   ]
  },
  {
   "attachments": {},
   "cell_type": "markdown",
   "metadata": {},
   "source": [
    "We can rewrite the logistic regression model as\n",
    "$$\n",
    "P_\\beta(y=1 | x) =\\frac{\\exp(\\beta^T x)}{\\exp(\\beta^T x)+\\exp(-\\beta^T x)}\n",
    "$$\n",
    "\n",
    "subtracting $1-P_\\beta(y=1 | x)$ we also get\n",
    "$$\n",
    "P_\\beta(y=-1 | x) = \\frac{\\exp(-\\beta^T x)}{\\exp(\\beta^T x)+\\exp(-\\beta^T x)}\n",
    "$$"
   ]
  },
  {
   "attachments": {},
   "cell_type": "markdown",
   "metadata": {},
   "source": [
    "thus"
   ]
  },
  {
   "attachments": {},
   "cell_type": "markdown",
   "metadata": {},
   "source": [
    "$$\n",
    "P_\\beta(y|x) = \\frac{1}{1+\\exp(- 2 y \\beta^T x)}\n",
    "$$"
   ]
  },
  {
   "attachments": {},
   "cell_type": "markdown",
   "metadata": {},
   "source": [
    "Now, from the **MLE** perspective, we wish to **maximize** the likelihood of $\\beta$. \n",
    "\n",
    "Taking natural logs and multiplying by $-1$,\n",
    "\n",
    "we wish to **minimize** the **negative log-likelihood (binary cross-entropy loss)**\n",
    "\n",
    "\n",
    "\n",
    "$$\n",
    "NLL(\\beta) =-\\ln L(\\beta) = \\sum_{i=1}^n \\left [ -y_{i}\\ln(p_{i})-(1-y_{i})\\ln(1-p_{i}) \\right ]\n",
    "$$\n",
    "\n"
   ]
  },
  {
   "attachments": {},
   "cell_type": "markdown",
   "metadata": {},
   "source": [
    "plug in\n",
    "\n",
    "$$\n",
    "p_{i}=P_\\beta(y_{i}|x_{i}) = \\frac{1}{1+\\exp(- 2 y_{i} \\beta^T x_{i})}\n",
    "$$\n",
    "\n",
    "we get\n",
    "\n",
    "$$\n",
    "NLL(\\beta) =-\\ln L(\\beta) = \\sum_{i=1}^n \\ln(1+\\exp(-2 y_i \\beta^T x_i))\n",
    "$$\n",
    "\n",
    "$$\n",
    "\\hat{\\beta }=\\arg\\min_{\\beta }\\sum_{i=1}^n \\ln(1+\\exp(-2 y_i \\beta^T x_i))\n",
    "$$\n"
   ]
  },
  {
   "attachments": {},
   "cell_type": "markdown",
   "metadata": {},
   "source": [
    "Then, logistic loss of **example i** is \n",
    "\n",
    "$$\n",
    "\\ln(1+\\exp(-2 y_i \\beta^T x_i))\n",
    "$$\n",
    "\n",
    "empirical risk of function is  (average of total logistic loss over n examples)\n",
    "\n",
    "$$\n",
    "\\hat{R}=\\frac{1}{n} \\sum_{i=1}^n \\ln(1+\\exp(-2 y_i \\beta^T x_i))\n",
    "$$"
   ]
  },
  {
   "attachments": {},
   "cell_type": "markdown",
   "metadata": {},
   "source": [
    "At this point we can define the logistic regression loss in terms of a **margin**. \n",
    "\n",
    "Let margin $s=y (\\beta^T x)$, \n",
    "\n",
    "the logistic loss function $g(z)$ is:\n",
    "\n",
    "$$\n",
    "g(z) = \\log_\\mathbf2(1+\\exp(-2 s)) = \\ln(1+\\exp(-2s))\\ /\\ \\mathbf{\\ln 2}\n",
    "$$"
   ]
  },
  {
   "attachments": {},
   "cell_type": "markdown",
   "metadata": {},
   "source": [
    "**Note when label is $y \\in \\{0,+1\\}$**\n",
    "\n",
    "\n",
    "$$\n",
    "P_\\beta(y|x) = \\frac{\\exp(yx^{T}\\beta )}{1+\\exp(x^{T}\\beta)}\n",
    "=\\left\\{\\begin{matrix}\n",
    "P_\\beta(y=1 | x) =  \\frac{\\exp(x^T \\beta)}{1+\\exp(x^T \\beta)}   \\\\\n",
    "P_\\beta(y=0 | x) =  \\frac{1}{1+\\exp(x^T \\beta)} \\\\\n",
    "\\end{matrix}\\right.\n",
    "$$\n",
    "\n",
    "$$\n",
    "NLL(\\beta) =-\\ln L(\\beta) = \\sum_{i=1}^n[ \\ln(1+\\exp(\\beta^T x_i))-y_i \\beta^T x_i]\n",
    "$$\n",
    "\n",
    "$$\n",
    "\\hat{\\beta }=\\arg\\min_{\\beta }\\sum_{i=1}^n[ \\ln(1+\\exp(\\beta^T x_i))-y_i \\beta^T x_i]\n",
    "$$\n",
    "\n",
    "$$\n",
    "\\hat{R}=\\frac{1}{n} \\sum_{i=1}^n [ \\ln(1+\\exp(\\beta^T x_i))-y_i \\beta^T x_i]\n",
    "$$"
   ]
  },
  {
   "attachments": {},
   "cell_type": "markdown",
   "metadata": {},
   "source": [
    "### $\\ln 2$ is used to scaling"
   ]
  },
  {
   "attachments": {},
   "cell_type": "markdown",
   "metadata": {},
   "source": [
    "- Most people will just drop the $\\ln2$, because decision boundary is orthogonal to $\\beta$, so scaling $\\beta$ doesn't change the decision boundary.\n",
    "\n",
    "- but plot of logistic loss without scaling will lie underneath 0/1 loss\n",
    "\n",
    "- plot of logistic loss with scaling just intersects 0/1 loss at point (0, 1)"
   ]
  },
  {
   "cell_type": "code",
   "execution_count": 9,
   "metadata": {
    "ExecuteTime": {
     "end_time": "2021-03-01T13:03:49.441409Z",
     "start_time": "2021-03-01T13:03:48.939274Z"
    }
   },
   "outputs": [
    {
     "data": {
      "text/plain": [
       "Text(0.5, 1.0, 'Scaling logistic loss with $\\\\ln2$')"
      ]
     },
     "execution_count": 9,
     "metadata": {},
     "output_type": "execute_result"
    },
    {
     "data": {
      "image/png": "[encoded data removed]",
      "text/plain": [
       "<Figure size 432x288 with 1 Axes>"
      ]
     },
     "metadata": {
      "needs_background": "light"
     },
     "output_type": "display_data"
    }
   ],
   "source": [
    "import numpy as np\n",
    "import matplotlib.pyplot as plt \n",
    "\n",
    "# s is margin\n",
    "s = np.arange(-2,2,0.01)\n",
    "\n",
    "fig, ax = plt.subplots()\n",
    "\n",
    "# 0/1 loss \n",
    "ax.plot(s,(s<0)*1.,linewidth=2,color='green',label='0/1 loss')\n",
    "\n",
    "# logistic loss without scaling \n",
    "ax.plot(s, np.log(1+np.exp(-2*s)),linewidth=2,color='red',label='logistic loss without scaling')\n",
    "\n",
    "# logistic loss with scaling\n",
    "ax.plot(s, np.log(1+np.exp(-2*s))/np.log(2),linewidth=2,color='blue',label='logistic loss with scaling')\n",
    "\n",
    "ax.legend(bbox_to_anchor=(1.6, 1))\n",
    "\n",
    "ax.annotate(text='(0, 1)', xy=(0, 1), xycoords='data',\n",
    "            xytext=(0.6, 0.3), textcoords='axes fraction',\n",
    "            va='top', ha='left',\n",
    "            arrowprops=dict(width=1, headlength=10, headwidth=8, facecolor='black', shrink=0.1))\n",
    "\n",
    "plt.xlabel(\"Margin yf(x)\")\n",
    "\n",
    "plt.ylabel(\"Loss\")\n",
    "\n",
    "plt.title(r\"Scaling logistic loss with $\\ln2$\")"
   ]
  },
  {
   "attachments": {},
   "cell_type": "markdown",
   "metadata": {},
   "source": [
    "# Binary classification with Logistic regression"
   ]
  },
  {
   "attachments": {},
   "cell_type": "markdown",
   "metadata": {},
   "source": [
    "## Load MNIST"
   ]
  },
  {
   "cell_type": "code",
   "execution_count": 55,
   "metadata": {
    "ExecuteTime": {
     "end_time": "2021-04-21T14:07:29.265456Z",
     "start_time": "2021-04-21T14:07:28.876213Z"
    }
   },
   "outputs": [],
   "source": [
    "# Load MNIST train data (60000) and test data (10000)\n",
    "import numpy as np\n",
    "import matplotlib.pyplot as plt \n",
    "\n",
    "filename = \"/Users/wenxinxu/Desktop/SDS565/data/MNIST/\"\n",
    "\n",
    "## training data and labels\n",
    "# load training image data\n",
    "f=open(filename + 'train-images-idx3-ubyte','rb')\n",
    "gimage=f.read()\n",
    "f.close()\n",
    "\n",
    "# load training labels\n",
    "f=open(filename + 'train-labels-idx1-ubyte','rb')\n",
    "g=f.read()\n",
    "f.close()\n",
    "\n",
    "n_train = 60000\n",
    "n_test = 10000\n",
    "dimH, dimW = 28, 28\n",
    "\n",
    "# create training matrix 60000 x 28 x 28\n",
    "train=np.array(bytearray(gimage[16:])).reshape(n_train,dimH,dimW)\n",
    "# train.shape = (n_train,dimH,dimW)\n",
    "train_labels=np.array(bytearray(g[8:]))\n",
    "\n",
    "## load image data\n",
    "f=open(filename + 't10k-images-idx3-ubyte','rb')\n",
    "gimage=f.read()\n",
    "f.close()\n",
    "\n",
    "## load labels\n",
    "f=open(filename + 't10k-labels-idx1-ubyte','rb')\n",
    "g=f.read()\n",
    "f.close()\n",
    "\n",
    "# create test matrix 10000 x 28 x 28\n",
    "test=np.array(bytearray(gimage[16:])).reshape(n_test,dimH,dimW)\n",
    "# test.shape=(n_test,dimH,dimW)\n",
    "test_labels=np.array(bytearray(g[8:]))"
   ]
  },
  {
   "cell_type": "code",
   "execution_count": 56,
   "metadata": {},
   "outputs": [
    {
     "data": {
      "text/plain": [
       "<matplotlib.image.AxesImage at 0x7ff518b85d90>"
      ]
     },
     "execution_count": 56,
     "metadata": {},
     "output_type": "execute_result"
    },
    {
     "data": {
      "image/png": "[encoded data removed]",
      "text/plain": [
       "<Figure size 432x288 with 1 Axes>"
      ]
     },
     "metadata": {
      "needs_background": "light"
     },
     "output_type": "display_data"
    }
   ],
   "source": [
    "# plot first training data\n",
    "plt.imshow(train[0,:,:],cmap='gray')"
   ]
  },
  {
   "attachments": {},
   "cell_type": "markdown",
   "metadata": {},
   "source": [
    "## make training set and test set"
   ]
  },
  {
   "cell_type": "code",
   "execution_count": 64,
   "metadata": {
    "ExecuteTime": {
     "end_time": "2021-04-21T14:07:38.583263Z",
     "start_time": "2021-04-21T14:07:38.550128Z"
    }
   },
   "outputs": [],
   "source": [
    "# select images of digits 0 and 8 from data to do binary classification\n",
    "# make label True (digit 8), False (digit 0)\n",
    "X08 = train[np.logical_or(train_labels==0,train_labels==8)]\n",
    "y08 = train_labels[np.logical_or(train_labels==0,train_labels==8)] == 8\n",
    "X08.shape = (X08.shape[0], X08.shape[1]*X08.shape[2])   # reshape training data to (60000, 28*28)\n",
    "\n",
    "X08test =  test[np.logical_or(test_labels==0,test_labels==8)]\n",
    "y08test = test_labels[np.logical_or(test_labels==0,test_labels==8)] ==8\n",
    "X08test.shape = (X08test.shape[0], X08test.shape[1]*X08test.shape[2])   # reshape test data to (10000, 28*28)"
   ]
  },
  {
   "cell_type": "code",
   "execution_count": 63,
   "metadata": {},
   "outputs": [
    {
     "data": {
      "text/plain": [
       "(11774, 784)"
      ]
     },
     "execution_count": 63,
     "metadata": {},
     "output_type": "execute_result"
    }
   ],
   "source": [
    "X08.shape"
   ]
  },
  {
   "cell_type": "code",
   "execution_count": 58,
   "metadata": {},
   "outputs": [
    {
     "data": {
      "text/plain": [
       "<matplotlib.image.AxesImage at 0x7ff518b3a310>"
      ]
     },
     "execution_count": 58,
     "metadata": {},
     "output_type": "execute_result"
    },
    {
     "data": {
      "image/png": "[encoded data removed]",
      "text/plain": [
       "<Figure size 432x288 with 1 Axes>"
      ]
     },
     "metadata": {
      "needs_background": "light"
     },
     "output_type": "display_data"
    }
   ],
   "source": [
    "# plot first training data \n",
    "plt.imshow(X08[0].reshape(28,28),cmap='gray')"
   ]
  },
  {
   "attachments": {},
   "cell_type": "markdown",
   "metadata": {},
   "source": [
    "## Logistic Regression Newton's method implemented from scratch"
   ]
  },
  {
   "attachments": {},
   "cell_type": "markdown",
   "metadata": {},
   "source": [
    "For logistic regression, typically use $\\ell_2$ regularization.  "
   ]
  },
  {
   "attachments": {},
   "cell_type": "markdown",
   "metadata": {},
   "source": [
    "$$\n",
    "\\hat{\\theta} = \\underset{\\theta}{\\arg\\min}\\frac{1}{n} \\sum_{i=1}^n \\left[ \\ln(1+\\exp(\\theta^T x_i)) - y_i \\theta^T x_i \\right] + \\frac{\\lambda}{2} \\|\\theta\\|_2^2\n",
    "$$"
   ]
  },
  {
   "cell_type": "code",
   "execution_count": 65,
   "metadata": {},
   "outputs": [
    {
     "name": "stdout",
     "output_type": "stream",
     "text": [
      "test error (0/1 loss): 0.010747185261003045\n"
     ]
    }
   ],
   "source": [
    "from sklearn.metrics import log_loss\n",
    "from sklearn.metrics import zero_one_loss\n",
    "\n",
    "def sigmoid(s: float) -> float:\n",
    "    return 1/(1+np.exp(-z))\n",
    "\n",
    "\n",
    "def variance(z):\n",
    "    return np.exp(z)/(1+np.exp(z))**2\n",
    "\n",
    "\n",
    "n = X08.shape[0]                    # sample size\n",
    "betahat = np.zeros(X08.shape[1])\n",
    "lam=0.01                            # lambda regularization parameter\n",
    "errors=np.zeros(100)\n",
    "\n",
    "# Traning for 100 epochs\n",
    "for k in range(100):\n",
    "    mu = X08 @ betahat\n",
    "    grad = X08.T @ (sigmoid(mu) - y08)/n    # gradient of loss\n",
    "    hess = (X08.T * variance(mu))@X08/n     # Hessian matrix 784 by 784 matrix\n",
    "    betahat = betahat - 0.5*np.linalg.solve(hess+lam*np.eye(784),grad)\n",
    "\n",
    "    # logistic loss of predicted label and true label\n",
    "    errors[k] = log_loss(y08, sigmoid(X08@betahat))\n",
    "\n",
    "plt.plot(np.log(errors))\n",
    "plt.xlabel(\"Epoch\")\n",
    "plt.ylabel(\"Logistic loss\")\n",
    "plt.title(\"Training error\")\n",
    "\n",
    "testerror = zero_one_loss(y08test,X08test@betahat>0)\n",
    "print(f\"test error (0/1 loss): {testerror}\")"
   ]
  },
  {
   "cell_type": "code",
   "execution_count": null,
   "metadata": {},
   "outputs": [
    {
     "data": {
      "text/plain": [
       "<matplotlib.image.AxesImage at 0x7ff5200edaf0>"
      ]
     },
     "metadata": {},
     "output_type": "display_data"
    },
    {
     "data": {
      "image/png": "[encoded data removed]",
      "text/plain": [
       "<Figure size 432x288 with 1 Axes>"
      ]
     },
     "metadata": {},
     "output_type": "display_data"
    }
   ],
   "source": [
    "# plot estimated weight\n",
    "plt.imshow(betahat.reshape(28,28))"
   ]
  },
  {
   "attachments": {},
   "cell_type": "markdown",
   "metadata": {},
   "source": [
    "## sklearn Logistic regression"
   ]
  },
  {
   "cell_type": "code",
   "execution_count": null,
   "metadata": {},
   "outputs": [],
   "source": [
    "sklearn.linear_model.LogisticRegression(penalty='l2', \n",
    "        dual=False, tol=0.0001, C=1.0, \n",
    "        fit_intercept=True, intercept_scaling=1, \n",
    "        class_weight=None, random_state=None, solver='lbfgs', \n",
    "        max_iter=100, multi_class='auto', \n",
    "        verbose=0, warm_start=False, n_jobs=None, l1_ratio=None)"
   ]
  },
  {
   "attachments": {},
   "cell_type": "markdown",
   "metadata": {},
   "source": [
    "Parameters of sklearn.linear_model.LogisticRegression\n",
    "\n",
    "- penalty{‘l1’, ‘l2’, ‘elasticnet’, None}, default=’l2’\n",
    "\n",
    "- tol: float, default=1e-4. Tolerance for stopping criteria\n",
    "\n",
    "- C: float, default=1.0. inverse of regularization parameter $C = \\frac{1}{\\lambda}$\n",
    "\n",
    "- fit_intercept: bool, default=True. If an intercept will be added to decision function\n",
    "\n",
    "- solver: algorithm used in optimization. Default is ‘lbfgs’. For multiclass problems, only ‘newton-cg’, ‘sag’, ‘saga’ and ‘lbfgs. The choice of the algorithm depends on the penalty chosen. "
   ]
  },
  {
   "attachments": {},
   "cell_type": "markdown",
   "metadata": {},
   "source": [
    "### $l_2$ regularization with Newton's method"
   ]
  },
  {
   "cell_type": "code",
   "execution_count": 82,
   "metadata": {},
   "outputs": [
    {
     "data": {
      "text/plain": [
       "(0.0, 0.0, 0.0, 0.01024)"
      ]
     },
     "execution_count": 82,
     "metadata": {},
     "output_type": "execute_result"
    }
   ],
   "source": [
    "from sklearn.linear_model import LogisticRegression as lg \n",
    "\n",
    "betahatlr = lg(C=100, penalty=\"l2\", solver=\"newton-cg\").fit(X08,y08)\n",
    "\n",
    "train_error1 = log_loss(y08,sigmoid(X08@betahatlr.coef_[0]))\n",
    "train_error2 = log_loss(y08, betahatlr.predict_proba(X08))\n",
    "train_error3 = log_loss(y08,sigmoid(X08@betahat))\n",
    "\n",
    "test_error = zero_one_loss(y08test,betahatlr.predict(X08test))\n",
    "\n",
    "round(train_error1, 5), round(train_error2, 5), round(train_error3, 5), round(test_error, 5)"
   ]
  },
  {
   "cell_type": "code",
   "execution_count": 83,
   "metadata": {},
   "outputs": [
    {
     "data": {
      "text/plain": [
       "<matplotlib.image.AxesImage at 0x7ff55a701280>"
      ]
     },
     "execution_count": 83,
     "metadata": {},
     "output_type": "execute_result"
    },
    {
     "data": {
      "image/png": "[encoded data removed]",
      "text/plain": [
       "<Figure size 432x288 with 1 Axes>"
      ]
     },
     "metadata": {
      "needs_background": "light"
     },
     "output_type": "display_data"
    }
   ],
   "source": [
    "plt.imshow(betahatlr.coef_.reshape(28,28))"
   ]
  },
  {
   "attachments": {},
   "cell_type": "markdown",
   "metadata": {},
   "source": [
    "### $\\ell_1$ regularization"
   ]
  },
  {
   "attachments": {},
   "cell_type": "markdown",
   "metadata": {},
   "source": [
    "$$\n",
    "\\frac{1}{n} \\sum_{i=1}^n \\ln(1+\\exp(\\theta^T x_i)) - y_i \\langle x_i , \\theta \\rangle + \\frac{1}{C} \\|\\theta\\|_1^2\n",
    "$$"
   ]
  },
  {
   "attachments": {},
   "cell_type": "markdown",
   "metadata": {},
   "source": [
    "with more sparsity the resulting parameters are more interpretable and interestingly have better performance."
   ]
  },
  {
   "cell_type": "code",
   "execution_count": 86,
   "metadata": {},
   "outputs": [
    {
     "name": "stdout",
     "output_type": "stream",
     "text": [
      "0.00614\n"
     ]
    },
    {
     "name": "stderr",
     "output_type": "stream",
     "text": [
      "/opt/anaconda3/envs/d2l/lib/python3.8/site-packages/sklearn/linear_model/_sag.py:352: ConvergenceWarning: The max_iter was reached which means the coef_ did not converge\n",
      "  warnings.warn(\n"
     ]
    }
   ],
   "source": [
    "betahatlr = lg(penalty='l1',C=.001, solver=\"saga\").fit(X08,y08)\n",
    "\n",
    "train_error1 = log_loss(y08,sigmoid(X08@betahatlr.coef_[0]))\n",
    "train_error2 = log_loss(y08, betahatlr.predict_proba(X08))\n",
    "\n",
    "test_error = zero_one_loss(y08test,betahatlr.predict(X08test))\n",
    "\n",
    "assert round(train_error1, 5) == round(train_error2, 5)\n",
    "print(round(test_error, 5))"
   ]
  },
  {
   "cell_type": "code",
   "execution_count": 87,
   "metadata": {},
   "outputs": [
    {
     "data": {
      "text/plain": [
       "<matplotlib.image.AxesImage at 0x7ff549cc7130>"
      ]
     },
     "execution_count": 87,
     "metadata": {},
     "output_type": "execute_result"
    },
    {
     "data": {
      "image/png": "[encoded data removed]",
      "text/plain": [
       "<Figure size 432x288 with 1 Axes>"
      ]
     },
     "metadata": {
      "needs_background": "light"
     },
     "output_type": "display_data"
    }
   ],
   "source": [
    "plt.imshow(betahatlr.coef_.reshape(28,28))"
   ]
  }
 ],
 "metadata": {
  "hide_input": false,
  "kernelspec": {
   "display_name": "d2l",
   "language": "python",
   "name": "python3"
  },
  "language_info": {
   "codemirror_mode": {
    "name": "ipython",
    "version": 3
   },
   "file_extension": ".py",
   "mimetype": "text/x-python",
   "name": "python",
   "nbconvert_exporter": "python",
   "pygments_lexer": "ipython3",
   "version": "3.8.10"
  },
  "toc": {
   "base_numbering": 1,
   "nav_menu": {},
   "number_sections": true,
   "sideBar": true,
   "skip_h1_title": false,
   "title_cell": "Table of Contents",
   "title_sidebar": "Contents",
   "toc_cell": false,
   "toc_position": {
    "height": "calc(100% - 180px)",
    "left": "10px",
    "top": "150px",
    "width": "165px"
   },
   "toc_section_display": true,
   "toc_window_display": true
  },
  "varInspector": {
   "cols": {
    "lenName": 16,
    "lenType": 16,
    "lenVar": 40
   },
   "kernels_config": {
    "python": {
     "delete_cmd_postfix": "",
     "delete_cmd_prefix": "del ",
     "library": "var_list.py",
     "varRefreshCmd": "print(var_dic_list())"
    },
    "r": {
     "delete_cmd_postfix": ") ",
     "delete_cmd_prefix": "rm(",
     "library": "var_list.r",
     "varRefreshCmd": "cat(var_dic_list()) "
    }
   },
   "types_to_exclude": [
    "module",
    "function",
    "builtin_function_or_method",
    "instance",
    "_Feature"
   ],
   "window_display": false
  },
  "vscode": {
   "interpreter": {
    "hash": "15a162aef56c374f20e075fbc4add75b55bd097c903a763d3b0c4cccda1c0caf"
   }
  }
 },
 "nbformat": 4,
 "nbformat_minor": 2
}
