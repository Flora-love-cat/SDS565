{
 "cells": [
  {
   "cell_type": "markdown",
   "metadata": {},
   "source": [
    "# Exponential families"
   ]
  },
  {
   "cell_type": "markdown",
   "metadata": {},
   "source": [
    "- we use exponential families to **roughly approximate** $\\mathbb{P}_{\\beta}(y|x)$\n",
    "\n",
    "- exponential families are general ways to rewrite some distributions\n",
    "\n",
    "    - Gaussian\n",
    "    \n",
    "    - Bernoulli\n",
    "    \n",
    "    - Poisson\n",
    "    \n",
    "    - Binomial\n",
    "    \n",
    "    - Negative binomial"
   ]
  },
  {
   "cell_type": "markdown",
   "metadata": {},
   "source": [
    "## definition"
   ]
  },
  {
   "cell_type": "markdown",
   "metadata": {},
   "source": [
    "$$\n",
    "p(\\mathbf{y}\\ ;\\gamma)=h(\\mathbf{y})\\exp\\left [ \\sum_{i=1}^{s}\\gamma_i[T(\\mathbf{y})]_i-A(\\gamma) \\right ]=h(\\mathbf{y})\\exp\\left[\\left \\langle \\gamma,T(\\mathbf{y}) \\right \\rangle-A(\\gamma)\\right]\n",
    "$$"
   ]
  },
  {
   "cell_type": "markdown",
   "metadata": {},
   "source": [
    "- $p(\\mathbf{y}\\ ;\\mathbf{\\gamma})$ is the probability of $\\mathbf{y}$ **given parameter $\\mathbf{\\gamma}$**\n",
    "\n",
    "- vector $\\mathbf{\\gamma} \\in \\mathbb{R}^s$ are the **natural parameters (canonical params)**, includes $\\mathbf{x}$ 自然参数/校准参数\n",
    "\n",
    "    \n",
    "- function $h(\\mathbf{y}): \\mathbb{R}^n\\mapsto\\mathbb{R}$\n",
    "    \n",
    "- function $T(\\mathbf{y}): \\mathbb{R}^n\\mapsto\\mathbb{R}^s$ is the **sufficient statistic vector** 充分统计向量\n",
    "    \n",
    "- function $A(\\gamma): \\mathbb{R}^s\\mapsto\\mathbb{R}$"
   ]
  },
  {
   "cell_type": "markdown",
   "metadata": {},
   "source": [
    "## property"
   ]
  },
  {
   "cell_type": "markdown",
   "metadata": {},
   "source": [
    "**2 properties** (help build functions in exponential families)\n",
    "\n",
    "- $\\mathbb{E}[T(\\mathbf{y})]=\\nabla A(\\gamma)$\n",
    "\n",
    "    expected value of response $T(y)$ equals to gradient of $A(\\gamma)$\n",
    "    \n",
    "- $Cov[T(\\mathbf{y})]=\\mathbb{H}[A(\\gamma)]$\n",
    "    \n",
    "    covariance of $T(\\mathbf{y})$ equals to Hessian of $A(\\gamma)$, \n",
    "\n",
    "    which means $A(\\gamma)$ is a **convex function, good for optimization**"
   ]
  },
  {
   "cell_type": "markdown",
   "metadata": {},
   "source": [
    "## Gaussian"
   ]
  },
  {
   "cell_type": "markdown",
   "metadata": {},
   "source": [
    "pdf of normal distribution\n",
    "\n",
    "$$\n",
    "\\mathbb{P}_{\\beta }(y|x)=\\frac{1}{\\sqrt{2\\pi\\sigma^{2}}}exp\\left ( -\\frac{(x^T\\beta-y)^2}{2\\sigma^2} \\right )\n",
    "$$"
   ]
  },
  {
   "attachments": {},
   "cell_type": "markdown",
   "metadata": {},
   "source": [
    "a random vector $\\mathbf{x}\\in \\mathbb{R}^d$ in Normal distribution $\\mathbf{x} \\sim N(\\mu, \\Sigma)$ has pdf:\n"
   ]
  },
  {
   "attachments": {},
   "cell_type": "markdown",
   "metadata": {},
   "source": [
    "$$\n",
    "f(\\mathbf{x}) = \\frac{1}{\\sqrt{(2\\pi)^d |\\Sigma|}}\\exp-\\frac{(\\mathbf{x}-\\mathbf{\\mu})^T\\Sigma^{-1}(\\mathbf{x}-\\mathbf{\\mu})}{2}\n",
    "$$"
   ]
  },
  {
   "cell_type": "markdown",
   "metadata": {},
   "source": [
    "### one parameter $\\mu$"
   ]
  },
  {
   "cell_type": "markdown",
   "metadata": {},
   "source": [
    "In this case, scalar $y|\\gamma \\sim N(\\mu, \\sigma^2)$\n",
    "\n",
    "$$\n",
    "p(y\\ ;\\gamma)= \\frac{1}{\\sqrt{2\\pi\\sigma^2}} \\exp \\left[-\\frac{(y-\\mu)^2}{2\\sigma^2}\\right]\n",
    "$$\n",
    "\n",
    "rewrite Gaussion pdf with **one** parameter $\\mu$\n",
    "\n",
    "$$\n",
    "p(y\\ ;\\gamma)=\\frac{1}{\\sqrt{2\\pi\\sigma^2}}\\exp \\left ( -\\frac{y^2}{2\\sigma^2} \\right ) \\exp\\left ( y\\frac{\\mu}{\\sigma^2} -\\frac{\\mu^2}{2\\sigma^2}\\right )\n",
    "$$"
   ]
  },
  {
   "cell_type": "markdown",
   "metadata": {},
   "source": [
    "$\n",
    "h(y)=\\frac{1}{\\sqrt{2\\pi\\sigma^2}}\\ \\exp \\left ( -\\frac{y^2}{2\\sigma^2} \\right )\n",
    "$\n",
    "\n",
    "$\n",
    "T(y)=y\n",
    "$\n",
    "\n",
    "set $\\gamma=\\frac{\\mu}{\\sigma^2}$\n",
    "\n",
    "$\n",
    "A(\\gamma)=\\frac{\\mu^2}{2\\sigma^2}\n",
    "$"
   ]
  },
  {
   "cell_type": "markdown",
   "metadata": {},
   "source": [
    "### 2 parameters $\\mu$ and $\\sigma^2$"
   ]
  },
  {
   "cell_type": "markdown",
   "metadata": {},
   "source": [
    "In this case, scalar $y \\sim N(\\mu, \\sigma^2)$\n",
    "\n",
    "rewrite Gaussion pdf with **2** parameter $\\mu$ and $\\sigma^2$\n",
    "\n",
    "$$\n",
    "p(y\\ ;\\gamma)=\\frac{1}{\\sqrt{2\\pi}}\\exp \\left [\\left ( y\\frac{\\mu}{\\sigma^2}-\\frac{y^2}{2\\sigma^2} \\right )-\\left (\\frac{\\mu^2}{2\\sigma^2}+\\ln(\\sigma)\\right)\\right]\n",
    "$$"
   ]
  },
  {
   "cell_type": "markdown",
   "metadata": {},
   "source": [
    "$\n",
    "h(y)=\\frac{1}{\\sqrt{2\\pi}}\n",
    "$\n",
    "\n",
    "$\n",
    "T(y)=\\left[y,y^2\\right]^T\n",
    "$\n",
    "\n",
    "set $\\gamma=[\\gamma_1, \\gamma_2]$\n",
    "\n",
    "$\n",
    "\\left\\{\\begin{matrix}\n",
    "\\gamma_1=\\frac{\\mu}{\\sigma^2}\\\\ \n",
    "\\mathbf{\\gamma_2=-2\\sigma^2}\n",
    "\\end{matrix}\\right.\n",
    "$\n",
    "\n",
    "$\n",
    "\\Rightarrow \\left\\{\\begin{matrix}\n",
    "\\mu=\\frac{\\gamma_{1}\\gamma_2}{2}\\\\ \n",
    "\\sigma^2=\\frac{\\gamma_{2}}{2}\n",
    "\\end{matrix}\\right.\n",
    "$\n",
    "\n",
    "$\n",
    "A(\\gamma)=\\frac{\\mu^2}{2\\sigma^2}+\\mathbf{\\ln(\\sigma)}\n",
    "$"
   ]
  },
  {
   "cell_type": "markdown",
   "metadata": {},
   "source": [
    "## Bernoulli"
   ]
  },
  {
   "cell_type": "markdown",
   "metadata": {},
   "source": [
    "In this case, scalar $y \\sim Bernoulli(p)$\n",
    "\n",
    "Recall the probability mass function of Bernoulli Distribution is:\n",
    "\n",
    "$$\n",
    "p(y\\ ;\\gamma)=p^{y}\\left ( 1- p\\right )^{1-y}\n",
    "$$"
   ]
  },
  {
   "cell_type": "markdown",
   "metadata": {},
   "source": [
    "rewrite it as:\n",
    "\n",
    "$$\n",
    "p(y; \\gamma)=\\boldsymbol{1}\\left ( y\\in \\left \\{ 0,1 \\right \\} \\right )\\exp\\left [ y\\ln \\left ( p \\right )+\\left ( 1-y \\right )\\ln \\left ( 1-p \\right )\\right ]\n",
    "$$\n",
    "\n",
    "$$\n",
    "=\\boldsymbol{1}\\left ( y\\in \\left \\{ 0,1 \\right \\} \\right )\\exp\\left [ y\\ln \\left (\\frac{p}{1-p}\\right )-\\left [-\\ln \\left ( 1-p \\right )\\right ] \\right ]\n",
    "$$"
   ]
  },
  {
   "cell_type": "markdown",
   "metadata": {},
   "source": [
    "$\n",
    "h(y)=\\boldsymbol{1}\\left (y\\in \\left \\{0,1\\right \\} \\right )\n",
    "$\n",
    "\n",
    "for classification, $h(y)$ always = 1\n",
    "\n",
    "$\n",
    "T(y)=y\n",
    "$\n",
    "\n",
    "set $\\gamma = \\ln \\left (\\frac{p}{1-p}\\right)\\ \\ \\gamma \\in \\mathbb{R}$\n",
    "\n",
    "$\\gamma$ is called **log likelihood ratio (log odds)**\n",
    "\n",
    "where **odds** is $\\frac{p}{1-p}$\n",
    "\n",
    "$\n",
    "A(\\gamma )=-\\ln (1-p)\n",
    "$"
   ]
  }
 ],
 "metadata": {
  "kernelspec": {
   "display_name": "d2l",
   "language": "python",
   "name": "python3"
  },
  "language_info": {
   "name": "python",
   "version": "3.8.10"
  },
  "orig_nbformat": 4,
  "vscode": {
   "interpreter": {
    "hash": "15a162aef56c374f20e075fbc4add75b55bd097c903a763d3b0c4cccda1c0caf"
   }
  }
 },
 "nbformat": 4,
 "nbformat_minor": 2
}
