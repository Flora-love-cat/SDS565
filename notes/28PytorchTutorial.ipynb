{
  "cells": [
    {
      "cell_type": "markdown",
      "metadata": {
        "id": "B4eMTpEPBhqo"
      },
      "source": [
        "# outline"
      ]
    },
    {
      "cell_type": "markdown",
      "metadata": {
        "id": "_nNaK4na4u9p"
      },
      "source": [
        "Pytorch and Tensorflow are two of most popular neural network packages\n",
        "\n",
        "\n",
        "Basically going through https://pytorch.org/tutorials/beginner/blitz\n",
        "\n",
        "- do backpropagation, then do automatic differentiation 自动微分\n",
        "\n",
        "- dynamic computation graphs: good for time series\n",
        "\n",
        "- CPU, GPU\n"
      ]
    },
    {
      "cell_type": "markdown",
      "metadata": {
        "id": "krKt6nLrBYdQ"
      },
      "source": [
        "# import package"
      ]
    },
    {
      "cell_type": "code",
      "execution_count": 1,
      "metadata": {
        "id": "mrVqWdc_BVX8"
      },
      "outputs": [],
      "source": [
        "import numpy as np\n",
        "import torch\n",
        "import matplotlib.pyplot as plt\n",
        "import torch\n",
        "import torch.nn as nn # neural network module\n",
        "import torch.nn.functional as F # import functiosn from neural network module, have ReLU function\n",
        "import torch.optim as optim"
      ]
    },
    {
      "cell_type": "markdown",
      "metadata": {
        "id": "8gd9d9kqBojv"
      },
      "source": [
        "# tensor"
      ]
    },
    {
      "cell_type": "markdown",
      "metadata": {
        "id": "boqK6ULKsV42"
      },
      "source": [
        "- Basic building blocks are tensors. \n",
        "\n",
        "    Tensors are higher-dimensional matrices. \n",
        "\n",
        "  A tensor $x \\in \\mathbb{R}^{d_1 \\times d_2 \\times \\cdots \\times d_k}$. \n",
        "\n",
        "  In this case $x$ is an order-$k$ tensor. \n",
        "\n",
        "\n",
        "- A matrix is an order $2$ tensor. \n",
        "\n",
        "  We have already seen tensors using numpy."
      ]
    },
    {
      "cell_type": "markdown",
      "metadata": {
        "id": "--ZFu2nv4c1M"
      },
      "source": [
        "Tensor $x \\in \\mathbb{R}^{5 \\times 2 \\times 3}$\n",
        "\n",
        "1st element of tensor $x$ is $x[0] \\in \\mathbb{R}^{2 \\times 3}$"
      ]
    },
    {
      "cell_type": "code",
      "execution_count": null,
      "metadata": {
        "id": "Ao24L0Was6uF"
      },
      "outputs": [],
      "source": [
        "x = np.random.randn(5,2,3)"
      ]
    },
    {
      "cell_type": "code",
      "execution_count": null,
      "metadata": {
        "colab": {
          "base_uri": "https://localhost:8080/"
        },
        "id": "Ger4t6rQs_d2",
        "outputId": "7e10f0ee-d9fb-4b61-cecc-517c287bfec3"
      },
      "outputs": [
        {
          "data": {
            "text/plain": [
              "(array([[ 1.00875662, -0.3334697 ,  0.24022493],\n",
              "        [ 0.30561844, -0.39848815,  0.62735121]]),\n",
              " (2, 3))"
            ]
          },
          "execution_count": 4,
          "metadata": {},
          "output_type": "execute_result"
        }
      ],
      "source": [
        "x[0], x[0].shape"
      ]
    },
    {
      "cell_type": "markdown",
      "metadata": {
        "id": "7-FSnMZhtA0s"
      },
      "source": [
        "## Connecting numpy array and tensor"
      ]
    },
    {
      "cell_type": "markdown",
      "metadata": {
        "id": "5Swyk2FM8FEr"
      },
      "source": [
        "convert numpy array to tensor\n",
        "\n",
        "- `torch.tensor(x)` create a tensor object copy of x **without** a shared memory\n",
        "\n",
        "    like `y = x.copy()`\n",
        "\n",
        "- `torch.from_numpy(x)` create a tensor object copy of x **with** a shared memory\n",
        "\n",
        "    like `y = x`"
      ]
    },
    {
      "cell_type": "markdown",
      "metadata": {
        "id": "3j8Cbvg3hURK"
      },
      "source": [
        "convert tensor to numpy array\n",
        "\n",
        "- `tensor.numpy()` convert tensor object to numpy array with shared memory"
      ]
    },
    {
      "cell_type": "code",
      "execution_count": null,
      "metadata": {
        "id": "SA4EDsLqtVfP",
        "outputId": "d55b8d09-8a38-4243-e91a-fc1f6c960eca"
      },
      "outputs": [
        {
          "name": "stdout",
          "output_type": "stream",
          "text": [
            "tensor(False)\n",
            "tensor(True)\n",
            "tensor(True)\n"
          ]
        }
      ],
      "source": [
        "x = np.random.randn(5,2,3) \n",
        "x_tensor1 = torch.tensor(x)   # create a tensor object copy of x without shared memory\n",
        "x_tensor2 = torch.from_numpy(x)  # create a tensor object copy of x with shared memory\n",
        "x_tensor1[0,0,0] = 2.   # assignment\n",
        "print(x_tensor1[0,0,0] == x[0,0,0]) # x is not changed\n",
        "x_tensor2[0,0,0] = 2   # assignment\n",
        "print(x_tensor2[0,0,0] == x[0,0,0]) # x is changed\n",
        "y = x_tensor1.numpy()\n",
        "y[0,0,0] = 3 # change numpy array\n",
        "print(y[0,0,0] == x_tensor1[0,0,0]) # tensor also changed"
      ]
    },
    {
      "cell_type": "markdown",
      "metadata": {
        "id": "CkSvgT368V6X"
      },
      "source": [
        "# create a tensor"
      ]
    },
    {
      "cell_type": "code",
      "execution_count": null,
      "metadata": {
        "id": "vlU9pm6wufuK",
        "outputId": "4fb035b6-94c7-47e0-e256-1c64254158ce"
      },
      "outputs": [
        {
          "data": {
            "text/plain": [
              "(torch.Size([5, 2, 4]), torch.Size([5, 2, 4]))"
            ]
          },
          "execution_count": 22,
          "metadata": {},
          "output_type": "execute_result"
        }
      ],
      "source": [
        "x = torch.randn((5,2,4)) # create a random tensor filled with random numbers from a normal distribution N(0, 1)\n",
        "y = torch.ones_like(x) # create a tensor of entries all 1 the same shape as x 5*2*4\n",
        "x.shape, y.shape # shape  torch.Size([5, 2, 4])"
      ]
    },
    {
      "cell_type": "code",
      "execution_count": null,
      "metadata": {
        "id": "8DzHoaq2hURK",
        "outputId": "74c15c25-65c1-4a6a-def8-fedfb0e57bb7"
      },
      "outputs": [
        {
          "data": {
            "text/plain": [
              "tensor([ 1.1272,  0.3337, -1.6857, -0.3709, -0.2804])"
            ]
          },
          "execution_count": 23,
          "metadata": {},
          "output_type": "execute_result"
        }
      ],
      "source": [
        "x[:,0,1] # slicing, all first direction, second direction choose first (row), third direction choose second (column)"
      ]
    },
    {
      "cell_type": "markdown",
      "metadata": {
        "id": "TmL5UYf_xeJb"
      },
      "source": [
        "# GPU"
      ]
    },
    {
      "cell_type": "markdown",
      "metadata": {
        "id": "ybXV1bT-A_if"
      },
      "source": [
        "## set up a GPU"
      ]
    },
    {
      "cell_type": "markdown",
      "metadata": {
        "id": "sHEXsOSj-CqM"
      },
      "source": [
        ">> Edit >> Notebook setting >> GPU >> Save\n",
        "\n",
        "need to rerun previous code\n",
        "\n",
        "set back CPU\n",
        "\n",
        ">> Edit >> Notebook setting >> None >> Save"
      ]
    },
    {
      "cell_type": "markdown",
      "metadata": {
        "id": "VUq8NdLlA5wk"
      },
      "source": [
        "## send data in CPU to GPU"
      ]
    },
    {
      "cell_type": "markdown",
      "metadata": {
        "id": "Nck5HIGw-bQb"
      },
      "source": [
        "cuda is a driver for using GPU\n",
        "\n",
        "`x.to('cuda')` send data in CPU memory to GPU memory\n",
        "\n",
        "GPU has a limited memory, sometimes need to move data out of GPU for moving new data into GPU"
      ]
    },
    {
      "cell_type": "code",
      "execution_count": null,
      "metadata": {
        "colab": {
          "base_uri": "https://localhost:8080/"
        },
        "id": "-dKzofI3x5Tw",
        "outputId": "421f33fd-7822-440b-e428-e8f320f83712"
      },
      "outputs": [
        {
          "data": {
            "text/plain": [
              "tensor([[[ 0.2153, -0.7024,  0.3652],\n",
              "         [-0.6937, -1.0595,  0.5903]],\n",
              "\n",
              "        [[ 0.6977, -1.0401, -0.4598],\n",
              "         [-0.9849, -1.3888, -0.3569]],\n",
              "\n",
              "        [[ 0.0861,  0.6001, -0.3175],\n",
              "         [ 1.7425,  0.6018, -0.0311]],\n",
              "\n",
              "        [[ 0.1357,  0.7856,  0.0649],\n",
              "         [-0.1118, -0.4513,  0.1283]],\n",
              "\n",
              "        [[ 0.2394,  1.0172, -0.2181],\n",
              "         [ 0.2005, -1.0823,  0.6162]]], device='cuda:0', dtype=torch.float64)"
            ]
          },
          "execution_count": 8,
          "metadata": {
            "tags": []
          },
          "output_type": "execute_result"
        }
      ],
      "source": [
        "if torch.cuda.is_available():\n",
        "  x = x.to('cuda') # send data in CPU memory to GPU memory\n",
        "x # specifically tell me data x is in GPU device='cuda:0'"
      ]
    },
    {
      "cell_type": "code",
      "execution_count": null,
      "metadata": {
        "id": "n-yItmKlhURL",
        "outputId": "2a27254f-5538-4de9-9c40-c0c8e15a2a49"
      },
      "outputs": [
        {
          "ename": "RuntimeError",
          "evalue": "ignored",
          "output_type": "error",
          "traceback": [
            "\u001b[0;31m---------------------------------------------------------------------------\u001b[0m\n",
            "\u001b[0;31mRuntimeError\u001b[0m                              Traceback (most recent call last)\n",
            "\u001b[0;32m<ipython-input-16-8d1c5e22ce88>\u001b[0m in \u001b[0;36m<module>\u001b[0;34m()\u001b[0m\n",
            "\u001b[0;32m----> 1\u001b[0;31m \u001b[0my_1\u001b[0m\u001b[0;34m+\u001b[0m\u001b[0mx\u001b[0m\u001b[0;34m\u001b[0m\u001b[0;34m\u001b[0m\u001b[0m\n",
            "\u001b[0m\n",
            "\u001b[0;31mRuntimeError\u001b[0m: Expected all tensors to be on the same device, but found at least two devices, cuda:0 and cpu!"
          ]
        }
      ],
      "source": [
        "y_1 = torch.ones((5,2,3))\n",
        "y_1+x"
      ]
    },
    {
      "cell_type": "markdown",
      "metadata": {
        "id": "ldePJCgU_6jB"
      },
      "source": [
        "RuntimeError bc `x` is in GPU, while `y_1` is in CPU, not in same world\n",
        "\n",
        "to avoid error, create a y in GPU:\n",
        "\n",
        "- `y=torch.ones_like(x)`\n",
        "\n",
        "- `y=torch.ones((), device='cuda)`"
      ]
    },
    {
      "cell_type": "code",
      "execution_count": null,
      "metadata": {
        "colab": {
          "base_uri": "https://localhost:8080/"
        },
        "id": "Ey-_hTUm_aPa",
        "outputId": "11577751-2490-487e-b944-630b216e4e2a"
      },
      "outputs": [
        {
          "data": {
            "text/plain": [
              "tensor([[[ 2.1744,  1.2092,  0.1838],\n",
              "         [ 1.3507, -0.1576,  0.8788]],\n",
              "\n",
              "        [[ 1.0154,  1.9069,  1.7529],\n",
              "         [ 2.2929, -0.2639,  1.3135]],\n",
              "\n",
              "        [[ 0.5416,  0.4768, -1.0241],\n",
              "         [ 1.2094, -0.2649,  2.5921]],\n",
              "\n",
              "        [[-0.7464,  0.3123,  1.7185],\n",
              "         [ 0.0928,  1.8751,  0.9004]],\n",
              "\n",
              "        [[ 0.8114, -0.3790,  1.8081],\n",
              "         [ 2.5928,  0.7554, -0.0628]]], device='cuda:0', dtype=torch.float64)"
            ]
          },
          "execution_count": 20,
          "metadata": {
            "tags": []
          },
          "output_type": "execute_result"
        }
      ],
      "source": [
        "y_2 = torch.ones_like(x)\n",
        "y_2+x # no RuntimeError"
      ]
    },
    {
      "cell_type": "code",
      "execution_count": null,
      "metadata": {
        "colab": {
          "base_uri": "https://localhost:8080/"
        },
        "id": "f_IcGR148Hgk",
        "outputId": "40d33f0d-113d-4dcf-c738-559f648124eb"
      },
      "outputs": [
        {
          "data": {
            "text/plain": [
              "tensor([[[ 2.1744,  1.2092,  0.1838],\n",
              "         [ 1.3507, -0.1576,  0.8788]],\n",
              "\n",
              "        [[ 1.0154,  1.9069,  1.7529],\n",
              "         [ 2.2929, -0.2639,  1.3135]],\n",
              "\n",
              "        [[ 0.5416,  0.4768, -1.0241],\n",
              "         [ 1.2094, -0.2649,  2.5921]],\n",
              "\n",
              "        [[-0.7464,  0.3123,  1.7185],\n",
              "         [ 0.0928,  1.8751,  0.9004]],\n",
              "\n",
              "        [[ 0.8114, -0.3790,  1.8081],\n",
              "         [ 2.5928,  0.7554, -0.0628]]], device='cuda:0', dtype=torch.float64)"
            ]
          },
          "execution_count": 23,
          "metadata": {
            "tags": []
          },
          "output_type": "execute_result"
        }
      ],
      "source": [
        "y_3 = torch.ones((5,2,3),device='cuda')\n",
        "y_3+x # no RuntimeError"
      ]
    },
    {
      "cell_type": "markdown",
      "metadata": {
        "id": "CY7Su7iDAzP6"
      },
      "source": [
        "## back to CPU"
      ]
    },
    {
      "cell_type": "code",
      "execution_count": null,
      "metadata": {
        "colab": {
          "base_uri": "https://localhost:8080/"
        },
        "id": "wQtw7znPyaCK",
        "outputId": "165503e4-0fda-4efc-a462-ac5ec6c0d6c9"
      },
      "outputs": [
        {
          "data": {
            "text/plain": [
              "device(type='cpu')"
            ]
          },
          "execution_count": 13,
          "metadata": {
            "tags": []
          },
          "output_type": "execute_result"
        }
      ],
      "source": [
        "x = x.to('cpu')\n",
        "x.device"
      ]
    },
    {
      "cell_type": "markdown",
      "metadata": {
        "id": "JkXlXdCPyaz9"
      },
      "source": [
        "# Automatic differentiation 自动微分"
      ]
    },
    {
      "cell_type": "markdown",
      "metadata": {
        "id": "1fXD0Igd1ogb"
      },
      "source": [
        "We ask `pytorch` to keep track of the gradient of $f$ for $x$. \n",
        "\n",
        "$$\n",
        "f = \\sum_{i,j} (x_{ij} + y_{ij})x_{ij} = \\sum_{i,j} z_{ij} x_{ij} \n",
        "$$\n",
        "\n",
        "We know that gradient of $f$ w.r.t $x$ will be\n",
        "$$\n",
        "\\nabla_x f = 2 x + y\n",
        "$$\n",
        "\n",
        "gradient of $f$ w.r.t $f$ will be \n",
        "\n",
        "$$\n",
        "\\nabla_f f = 1\n",
        "$$"
      ]
    },
    {
      "cell_type": "markdown",
      "metadata": {
        "id": "XKTM0qt-hURM"
      },
      "source": [
        "## calculate gradient of f w.r.t itself (root tensor)"
      ]
    },
    {
      "cell_type": "code",
      "execution_count": null,
      "metadata": {
        "id": "uRZsGxtv1MSw",
        "outputId": "8f7e1169-8af5-410a-eed2-d3e783bad8a1"
      },
      "outputs": [
        {
          "data": {
            "text/plain": [
              "tensor(1.)"
            ]
          },
          "execution_count": 38,
          "metadata": {},
          "output_type": "execute_result"
        }
      ],
      "source": [
        "x = torch.rand((2,3), requires_grad=True)\n",
        "y = torch.ones_like(x)\n",
        "z = x+y\n",
        "f = torch.sum(z*x) # f = elementwise z*x, then sum all entries up\n",
        "f.retain_grad()    # important: keep gradient of f w.r.t f; otherwise Warning\n",
        "f.backward() # calculate gradient of f \n",
        "f.grad"
      ]
    },
    {
      "cell_type": "code",
      "execution_count": null,
      "metadata": {
        "colab": {
          "base_uri": "https://localhost:8080/"
        },
        "id": "Q7-0dJKO1ZhC",
        "outputId": "7569bb74-6d1c-4e6f-e5ae-29db9250fbad"
      },
      "outputs": [
        {
          "data": {
            "text/plain": [
              "(True, False, True, True)"
            ]
          },
          "execution_count": 36,
          "metadata": {},
          "output_type": "execute_result"
        }
      ],
      "source": [
        "x.requires_grad, y.requires_grad, z.requires_grad, f.requires_grad"
      ]
    },
    {
      "cell_type": "code",
      "execution_count": null,
      "metadata": {
        "colab": {
          "base_uri": "https://localhost:8080/"
        },
        "id": "XNNQCCJi8yyB",
        "outputId": "6e4244bb-731c-4f46-abd5-5f5ada3478c5"
      },
      "outputs": [
        {
          "data": {
            "text/plain": [
              "(tensor([[1.2777, 1.4239, 1.8767],\n",
              "         [1.3738, 1.6138, 1.1432]], grad_fn=<AddBackward0>),\n",
              " tensor(4.2716, grad_fn=<SumBackward0>))"
            ]
          },
          "execution_count": 31,
          "metadata": {},
          "output_type": "execute_result"
        }
      ],
      "source": [
        "z, f # both z and f have a gradient function <AddBackward0> and <SumBackward0>"
      ]
    },
    {
      "cell_type": "markdown",
      "metadata": {
        "id": "zYTaw2BBLNAy"
      },
      "source": [
        "## calculate gradient of f w.r.t x (leaf tensor)"
      ]
    },
    {
      "cell_type": "code",
      "execution_count": null,
      "metadata": {
        "colab": {
          "base_uri": "https://localhost:8080/"
        },
        "id": "gfh5aHo62F03",
        "outputId": "9143af43-c0b7-446a-a27f-56098d77a243"
      },
      "outputs": [
        {
          "data": {
            "text/plain": [
              "tensor([[1.1760, 1.6118, 2.5094],\n",
              "        [2.5039, 1.4299, 2.2100]])"
            ]
          },
          "execution_count": 39,
          "metadata": {},
          "output_type": "execute_result"
        }
      ],
      "source": [
        "x = torch.rand((2,3), requires_grad=True)\n",
        "y = torch.ones_like(x)\n",
        "z = x+y\n",
        "f = torch.sum(z*x) # f = elementwise z*x, then sum all entries up\n",
        "f.backward() # calculate gradient of f \n",
        "\n",
        "x.grad # the gradient of f with respect to x"
      ]
    },
    {
      "cell_type": "code",
      "execution_count": null,
      "metadata": {
        "colab": {
          "base_uri": "https://localhost:8080/"
        },
        "id": "-4PVfirJ2KPS",
        "outputId": "ee58043f-5742-48d9-d659-86debb98f525"
      },
      "outputs": [
        {
          "data": {
            "text/plain": [
              "tensor([[1.1760, 1.6118, 2.5094],\n",
              "        [2.5039, 1.4299, 2.2100]], grad_fn=<AddBackward0>)"
            ]
          },
          "execution_count": 41,
          "metadata": {},
          "output_type": "execute_result"
        }
      ],
      "source": [
        "# check if the gradient is correct\n",
        "2*x+y # same as x.grad"
      ]
    },
    {
      "cell_type": "markdown",
      "metadata": {
        "id": "_Xqt32Bl2Mbv"
      },
      "source": [
        "# Dynamic computation graphs"
      ]
    },
    {
      "cell_type": "markdown",
      "metadata": {
        "id": "xl01DEHphURO"
      },
      "source": [
        "- Example 1: $x = 0.4, y = x^2$\n",
        "\n",
        "$$\n",
        "\\nabla_x f = 2x\n",
        "$$"
      ]
    },
    {
      "cell_type": "code",
      "execution_count": null,
      "metadata": {
        "id": "E8GH6rkH3FR6",
        "outputId": "4c947e9d-0c1d-40de-d3a2-921f31e5228d"
      },
      "outputs": [
        {
          "data": {
            "text/plain": [
              "(tensor(0.8000), tensor(0.8000, grad_fn=<MulBackward0>))"
            ]
          },
          "execution_count": 45,
          "metadata": {},
          "output_type": "execute_result"
        }
      ],
      "source": [
        "def func(x):\n",
        "  \"\"\"\n",
        "  if 0.2 < x < 2,  calculate x^2 untill x<=0.2 or x>=2\n",
        "  \"\"\"\n",
        "  while 0.2 < x < 2:\n",
        "    x = x * x\n",
        "  return x\n",
        "\n",
        "x = torch.tensor(.4, requires_grad=True)\n",
        "f = func(x)\n",
        "f.backward()\n",
        "x.grad, 2 * x "
      ]
    },
    {
      "cell_type": "markdown",
      "metadata": {
        "id": "2XaBDofCF9bA"
      },
      "source": [
        "- Example 2: $x = 0.7, y = x^8$\n",
        "\n",
        "$$\n",
        "\\nabla_x f = 8x^7\n",
        "$$"
      ]
    },
    {
      "cell_type": "code",
      "execution_count": null,
      "metadata": {
        "id": "q7aop67ohURO",
        "outputId": "dc6106f5-f164-488d-a06a-7f6d9d4b9585"
      },
      "outputs": [
        {
          "data": {
            "text/plain": [
              "(tensor(0.6588), tensor(0.6588, grad_fn=<MulBackward0>))"
            ]
          },
          "execution_count": 46,
          "metadata": {},
          "output_type": "execute_result"
        }
      ],
      "source": [
        "def func(x):\n",
        "  \"\"\"\n",
        "  if 0.2 < x < 2,  calculate x^2 untill x<=0.2 or x>=2\n",
        "  \"\"\"\n",
        "  while 0.2 < x < 2:\n",
        "    x = x * x\n",
        "  return x\n",
        "\n",
        "x = torch.tensor(.7, requires_grad=True)\n",
        "f = func(x)\n",
        "f.backward()\n",
        "x.grad, 8 * x ** 7"
      ]
    },
    {
      "cell_type": "markdown",
      "metadata": {
        "id": "dYUKnN_lIpNB"
      },
      "source": [
        "## all the gradients stored in memory will be released after complete backpropogation"
      ]
    },
    {
      "cell_type": "code",
      "execution_count": null,
      "metadata": {
        "id": "zwJYVgIbhURO",
        "outputId": "773cb171-9b6a-4b92-f9e3-11739f0f606d"
      },
      "outputs": [
        {
          "ename": "RuntimeError",
          "evalue": "Trying to backward through the graph a second time, but the saved intermediate results have already been freed. Specify retain_graph=True when calling .backward() or autograd.grad() the first time.",
          "output_type": "error",
          "traceback": [
            "\u001b[0;31m---------------------------------------------------------------------------\u001b[0m",
            "\u001b[0;31mRuntimeError\u001b[0m                              Traceback (most recent call last)",
            "\u001b[0;32m/var/folders/hh/zr_wn8c906bfsxfyjcs6tn940000gn/T/ipykernel_79074/2669113168.py\u001b[0m in \u001b[0;36m<module>\u001b[0;34m\u001b[0m\n\u001b[0;32m----> 1\u001b[0;31m \u001b[0mf\u001b[0m\u001b[0;34m.\u001b[0m\u001b[0mbackward\u001b[0m\u001b[0;34m(\u001b[0m\u001b[0;34m)\u001b[0m\u001b[0;34m\u001b[0m\u001b[0;34m\u001b[0m\u001b[0m\n\u001b[0m",
            "\u001b[0;32m/opt/anaconda3/envs/d2l/lib/python3.8/site-packages/torch/tensor.py\u001b[0m in \u001b[0;36mbackward\u001b[0;34m(self, gradient, retain_graph, create_graph, inputs)\u001b[0m\n\u001b[1;32m    243\u001b[0m                 \u001b[0mcreate_graph\u001b[0m\u001b[0;34m=\u001b[0m\u001b[0mcreate_graph\u001b[0m\u001b[0;34m,\u001b[0m\u001b[0;34m\u001b[0m\u001b[0;34m\u001b[0m\u001b[0m\n\u001b[1;32m    244\u001b[0m                 inputs=inputs)\n\u001b[0;32m--> 245\u001b[0;31m         \u001b[0mtorch\u001b[0m\u001b[0;34m.\u001b[0m\u001b[0mautograd\u001b[0m\u001b[0;34m.\u001b[0m\u001b[0mbackward\u001b[0m\u001b[0;34m(\u001b[0m\u001b[0mself\u001b[0m\u001b[0;34m,\u001b[0m \u001b[0mgradient\u001b[0m\u001b[0;34m,\u001b[0m \u001b[0mretain_graph\u001b[0m\u001b[0;34m,\u001b[0m \u001b[0mcreate_graph\u001b[0m\u001b[0;34m,\u001b[0m \u001b[0minputs\u001b[0m\u001b[0;34m=\u001b[0m\u001b[0minputs\u001b[0m\u001b[0;34m)\u001b[0m\u001b[0;34m\u001b[0m\u001b[0;34m\u001b[0m\u001b[0m\n\u001b[0m\u001b[1;32m    246\u001b[0m \u001b[0;34m\u001b[0m\u001b[0m\n\u001b[1;32m    247\u001b[0m     \u001b[0;32mdef\u001b[0m \u001b[0mregister_hook\u001b[0m\u001b[0;34m(\u001b[0m\u001b[0mself\u001b[0m\u001b[0;34m,\u001b[0m \u001b[0mhook\u001b[0m\u001b[0;34m)\u001b[0m\u001b[0;34m:\u001b[0m\u001b[0;34m\u001b[0m\u001b[0;34m\u001b[0m\u001b[0m\n",
            "\u001b[0;32m/opt/anaconda3/envs/d2l/lib/python3.8/site-packages/torch/autograd/__init__.py\u001b[0m in \u001b[0;36mbackward\u001b[0;34m(tensors, grad_tensors, retain_graph, create_graph, grad_variables, inputs)\u001b[0m\n\u001b[1;32m    143\u001b[0m         \u001b[0mretain_graph\u001b[0m \u001b[0;34m=\u001b[0m \u001b[0mcreate_graph\u001b[0m\u001b[0;34m\u001b[0m\u001b[0;34m\u001b[0m\u001b[0m\n\u001b[1;32m    144\u001b[0m \u001b[0;34m\u001b[0m\u001b[0m\n\u001b[0;32m--> 145\u001b[0;31m     Variable._execution_engine.run_backward(\n\u001b[0m\u001b[1;32m    146\u001b[0m         \u001b[0mtensors\u001b[0m\u001b[0;34m,\u001b[0m \u001b[0mgrad_tensors_\u001b[0m\u001b[0;34m,\u001b[0m \u001b[0mretain_graph\u001b[0m\u001b[0;34m,\u001b[0m \u001b[0mcreate_graph\u001b[0m\u001b[0;34m,\u001b[0m \u001b[0minputs\u001b[0m\u001b[0;34m,\u001b[0m\u001b[0;34m\u001b[0m\u001b[0;34m\u001b[0m\u001b[0m\n\u001b[1;32m    147\u001b[0m         allow_unreachable=True, accumulate_grad=True)  # allow_unreachable flag\n",
            "\u001b[0;31mRuntimeError\u001b[0m: Trying to backward through the graph a second time, but the saved intermediate results have already been freed. Specify retain_graph=True when calling .backward() or autograd.grad() the first time."
          ]
        }
      ],
      "source": [
        "def func(x):\n",
        "  \"\"\"\n",
        "  if 0.2 < x < 2,  calculate x^2 untill x<=0.2 or x>=2\n",
        "  \"\"\"\n",
        "  while 0.2 < x < 2:\n",
        "    x = x * x\n",
        "  return x\n",
        "\n",
        "x = torch.tensor(.7, requires_grad=True)\n",
        "f = func(x)\n",
        "f.backward()\n",
        "x.grad, 8 * x ** 7\n",
        "\n",
        "f.backward()  # RuntimeError bc saved gradients are already freed"
      ]
    },
    {
      "cell_type": "markdown",
      "metadata": {
        "id": "J2piaZ2k5reY"
      },
      "source": [
        "`pytorch` does not retain the computation graph after the backward propagation is performed \n",
        "\n",
        "unless you explicitly ask it to retain the graph. \n",
        "\n",
        "it calculate a graident per iteration and store in memory\n",
        "\n",
        "it don't know to combine power so could only calculate one gradient at last,\n",
        "\n",
        "but once you call `backward()`, pytorch will release all the gradients stored in memory\n",
        "\n",
        "that's good, coz GPU don't have much memory\n",
        "\n",
        "This operation is useful for doing higher-order derivatives, \n",
        "\n",
        "so if you call `backward` again, you get runtime error\n",
        "\n",
        "\n",
        "`RuntimeError: Trying to backward through the graph a second time, but the saved intermediate results have already been freed.` \n",
        "\n",
        "Specify `retain_graph=True` when calling `.backward()` or `autograd.grad()` the first time."
      ]
    },
    {
      "cell_type": "code",
      "execution_count": null,
      "metadata": {
        "id": "m4PLK8oShURO"
      },
      "outputs": [],
      "source": [
        "def func(x):\n",
        "  \"\"\"\n",
        "  if 0.2 < x < 2,  calculate x^2 untill x<=0.2 or x>=2\n",
        "  \"\"\"\n",
        "  while 0.2 < x < 2:\n",
        "    x = x * x\n",
        "  return x\n",
        "\n",
        "x = torch.tensor(.7, requires_grad=True)\n",
        "f = func(x)\n",
        "f.backward(retain_graph=True)\n",
        "x.grad, 8 * x ** 7\n",
        "\n",
        "f.backward()  # no error"
      ]
    },
    {
      "cell_type": "markdown",
      "metadata": {
        "id": "HI1fkfMm7qPs"
      },
      "source": [
        "# Define and train a neural network"
      ]
    },
    {
      "cell_type": "markdown",
      "metadata": {
        "id": "MKfT8osfNIA5"
      },
      "source": [
        "`nn.Linear()` \n",
        "\n",
        "- create all the underlying the param matrix $W$ and bias vector $b$, \n",
        "\n",
        "  `self.fc1` contains $z_2 = W_1x+b_1$\n",
        "\n",
        "- make all dimensions work\n",
        "\n",
        "- initialize of entry with random numbers\n",
        "\n",
        "  `F.relu(self.fc1)` do $ReLU(z_2)$"
      ]
    },
    {
      "cell_type": "markdown",
      "metadata": {
        "id": "ZJ6_kHhVYzAE"
      },
      "source": [
        "## import neural network module"
      ]
    },
    {
      "cell_type": "markdown",
      "metadata": {
        "id": "ekWqcYaXY3aa"
      },
      "source": [
        "## define neural net class"
      ]
    },
    {
      "cell_type": "code",
      "execution_count": 2,
      "metadata": {
        "colab": {
          "base_uri": "https://localhost:8080/"
        },
        "id": "EoiIZeu_ZIfh",
        "outputId": "708477bf-b310-4473-efc7-5ff3e4d3e218"
      },
      "outputs": [
        {
          "name": "stdout",
          "output_type": "stream",
          "text": [
            "Net(\n",
            "  (fc1): Linear(in_features=1, out_features=40, bias=True)\n",
            "  (fc2): Linear(in_features=40, out_features=40, bias=True)\n",
            "  (o): Linear(in_features=40, out_features=1, bias=True)\n",
            ")\n"
          ]
        }
      ],
      "source": [
        "class Net(nn.Module):\n",
        "  \"\"\"\n",
        "  a class inherit from nn.Module\n",
        "  \"\"\"\n",
        "\n",
        "  def __init__(self):\n",
        "    \"\"\"\n",
        "    keep track of params in neural net\n",
        "    \"\"\"\n",
        "    super(Net, self).__init__()\n",
        "\n",
        "    # create 4 layers: input->hidden layer->hidden layer->output\n",
        "    self.fc1 = nn.Linear(1,40) # input->hidden layer: linear function, dimension go from R^1 to R^40\n",
        "    self.fc2 = nn.Linear(40,40) # hidden layer->hidden layer: linear function, dimension go from R^40 to R^40\n",
        "    self.o = nn.Linear(40,1) # hidden layer->output: linear function, dimension go from R^40 to R^1\n",
        "\n",
        "  def forward(self, x):\n",
        "    \"\"\"\n",
        "    forward pass\n",
        "    \"\"\"\n",
        "    x = F.relu(self.fc1(x)) # apply pointwise ReLU activation\n",
        "    x = F.relu(self.fc2(x))\n",
        "    x = self.o(x) \n",
        "    return x\n",
        "\n",
        "net = Net() # create a new Net object called net, automatically run __init__ method\n",
        "print(net)"
      ]
    },
    {
      "cell_type": "markdown",
      "metadata": {
        "id": "CCJgM-JtZLAQ"
      },
      "source": [
        "## training set should be a batched tensor"
      ]
    },
    {
      "cell_type": "markdown",
      "metadata": {
        "id": "6OJlO13UhURP"
      },
      "source": [
        "input should be a batch tensor form, all data taken in once, don't need a for-loop"
      ]
    },
    {
      "cell_type": "code",
      "execution_count": 3,
      "metadata": {
        "colab": {
          "base_uri": "https://localhost:8080/"
        },
        "id": "Hl8UE42OZ6nm",
        "outputId": "20629a31-833f-407e-df45-6ab8e76b4d45"
      },
      "outputs": [
        {
          "data": {
            "text/plain": [
              "torch.Size([200, 1])"
            ]
          },
          "execution_count": 3,
          "metadata": {},
          "output_type": "execute_result"
        }
      ],
      "source": [
        "x=torch.arange(-1,1,0.01).reshape((-1,1))\n",
        "x.shape"
      ]
    },
    {
      "cell_type": "markdown",
      "metadata": {
        "id": "fGIliM-6VrZS"
      },
      "source": [
        "sample dataset: 200 * 1\n",
        "\n",
        "sample dataset of MNIST: 200 * 28 * 28\n",
        "\n",
        "sample data set of colored image: 200 * 3 * 28 * 28, 3 comes from RGB\n",
        "\n",
        "sample data set of astronomy: 200 * 100 * 28 * 28, 100 comes from channels (spectrums)"
      ]
    },
    {
      "cell_type": "markdown",
      "metadata": {
        "id": "pCbW26I2hURP"
      },
      "source": [
        "## disabling gradient calculation for inference"
      ]
    },
    {
      "cell_type": "code",
      "execution_count": 4,
      "metadata": {
        "id": "PKycNlQBZvd6"
      },
      "outputs": [],
      "source": [
        "# training\n",
        "x=torch.randn((1,1)) \n",
        "y= torch.sum(net(x))\n",
        "y.backward()\n",
        "\n",
        "#  testing\n",
        "# with torch.no_grad():  # disabling gradient calculation for inference\n",
        "#   y=net(x) \n",
        "#   y.requires_grad "
      ]
    },
    {
      "cell_type": "markdown",
      "metadata": {
        "id": "seBXTUU2YOHR"
      },
      "source": [
        "## params and gradients"
      ]
    },
    {
      "cell_type": "markdown",
      "metadata": {
        "id": "MjIKvao9YEks"
      },
      "source": [
        "- see params use `net.parameters()`\n",
        "\n",
        "  all the params has `requires_grad=True` and are all leaf nodes,\n",
        "\n",
        "  so when apply net(x), pytorch keep track of all gradeint computation,\n",
        "\n",
        "- we can see gradient use `net.parameters().grad`"
      ]
    },
    {
      "cell_type": "code",
      "execution_count": 5,
      "metadata": {
        "colab": {
          "base_uri": "https://localhost:8080/"
        },
        "id": "IPTRsKHWXPS7",
        "outputId": "aab144aa-8e2c-464b-b683-c9b8120fd69e"
      },
      "outputs": [
        {
          "name": "stdout",
          "output_type": "stream",
          "text": [
            "W1 torch.Size([40, 1]) torch.Size([40, 1])\n",
            "b1 torch.Size([40]) torch.Size([40])\n",
            "W2 torch.Size([40, 40]) torch.Size([40, 40])\n",
            "b2 torch.Size([40]) torch.Size([40])\n",
            "W3 torch.Size([1, 40]) torch.Size([1, 40])\n",
            "b3 torch.Size([1]) torch.Size([1])\n"
          ]
        }
      ],
      "source": [
        "# print params and gradient \n",
        "# first layer: W1,b1, second layer: W2,b2, third layer: W3,b3\n",
        "names = ['W1', 'b1', 'W2', 'b2', 'W3', 'b3']\n",
        "for name, param in zip(names, net.parameters()):\n",
        "  print(name, param.shape, param.grad.shape)"
      ]
    },
    {
      "cell_type": "markdown",
      "metadata": {
        "id": "bSJCFTHVe7C5"
      },
      "source": [
        "# training"
      ]
    },
    {
      "cell_type": "markdown",
      "metadata": {
        "id": "a7GFalhFayq2"
      },
      "source": [
        "use `torch.optim.Adam()`  adaptive gradient with momentum"
      ]
    },
    {
      "cell_type": "markdown",
      "metadata": {
        "id": "HB-KyFFFd3PL"
      },
      "source": [
        "## batch gradient descent"
      ]
    },
    {
      "cell_type": "code",
      "execution_count": 23,
      "metadata": {
        "colab": {
          "base_uri": "https://localhost:8080/",
          "height": 299
        },
        "id": "4uL7oLCxfpcJ",
        "outputId": "56c5df94-558c-44d6-91fa-b1135788200b"
      },
      "outputs": [
        {
          "data": {
            "text/plain": [
              "Text(0.5, 1.0, 'Batch gradient descent')"
            ]
          },
          "execution_count": 23,
          "metadata": {},
          "output_type": "execute_result"
        },
        {
          "data": {
            "image/png": "[encoded data removed]",
            "text/plain": [
              "<Figure size 432x288 with 1 Axes>"
            ]
          },
          "metadata": {
            "needs_background": "light"
          },
          "output_type": "display_data"
        }
      ],
      "source": [
        "xtrain = torch.cat((torch.rand((50,1))*0.5-.5, torch.rand((50,1))*0.5+0.25)) # [100, 1]\n",
        "ytrain = torch.sin(16*xtrain) # [100, 1]\n",
        "\n",
        "net=Net()\n",
        "criterion = nn.MSELoss()  # mean square error loss\n",
        "optimizer = optim.Adam(net.parameters(), lr=0.00002)\n",
        "\n",
        "# training, do optimization for 20,000 iterations for gradient update\n",
        "for j in range(40000):\n",
        "\n",
        "  optimizer.zero_grad() # update with new version of gradient\n",
        "\n",
        "  yhat = net(xtrain) # predicted label\n",
        "\n",
        "  loss = criterion(yhat, ytrain) # loss function   torch.norm(yhat-ytrain)**2/yhat.shape[0]\n",
        "\n",
        "  loss.backward() # calculate gradient of loss\n",
        "\n",
        "  optimizer.step() # step in the gradeint direction using Adam rules\n",
        "\n",
        "# training result: good\n",
        "x=torch.arange(-1,1,0.01).reshape((-1,1))\n",
        "plt.plot(x[:,0],net(x).detach().numpy()[:,0],linewidth=2, label='Fitted curve')\n",
        "plt.scatter(xtrain.numpy()[:,0], ytrain.numpy()[:,0],c='red', label='Data point')\n",
        "plt.legend(bbox_to_anchor=(1.4, 1))\n",
        "plt.title(\"Batch gradient descent\")"
      ]
    },
    {
      "cell_type": "markdown",
      "metadata": {
        "id": "jBPLqM-6dpDt"
      },
      "source": [
        "## mini-batch gradient descent"
      ]
    },
    {
      "cell_type": "markdown",
      "metadata": {
        "id": "FV8bQ80-eSk6"
      },
      "source": [
        "batch size depends on sample size, memory, how to do optimization"
      ]
    },
    {
      "cell_type": "markdown",
      "metadata": {
        "id": "_JDgSBgwhJFB"
      },
      "source": [
        "### Dataloader\n"
      ]
    },
    {
      "cell_type": "code",
      "execution_count": 16,
      "metadata": {
        "id": "7n5Ixzuyp6Y_"
      },
      "outputs": [],
      "source": [
        "# create a dataloader, chunks data into 4 batches\n",
        "dataset = list(zip(xtrain,ytrain))\n",
        "data_train = torch.utils.data.DataLoader(dataset, batch_size=4)"
      ]
    },
    {
      "cell_type": "code",
      "execution_count": 17,
      "metadata": {
        "colab": {
          "base_uri": "https://localhost:8080/"
        },
        "id": "oULxC6bTqCRG",
        "outputId": "7882b4a3-4421-4283-dcd7-1657efe92025"
      },
      "outputs": [
        {
          "data": {
            "text/plain": [
              "[tensor([[-0.2665],\n",
              "         [-0.3706],\n",
              "         [-0.1819],\n",
              "         [-0.1020]]), tensor([[ 0.9011],\n",
              "         [ 0.3460],\n",
              "         [-0.2296],\n",
              "         [-0.9981]])]"
            ]
          },
          "execution_count": 17,
          "metadata": {},
          "output_type": "execute_result"
        }
      ],
      "source": [
        "# print first batch\n",
        "list(data_train)[0]"
      ]
    },
    {
      "cell_type": "markdown",
      "metadata": {
        "id": "wKTqUuRzeu7z"
      },
      "source": [
        "### training"
      ]
    },
    {
      "cell_type": "code",
      "execution_count": 25,
      "metadata": {
        "colab": {
          "base_uri": "https://localhost:8080/",
          "height": 299
        },
        "id": "VMx1fF64rb-t",
        "outputId": "116131c2-8c4e-4904-a983-dd13f3ac478d"
      },
      "outputs": [
        {
          "data": {
            "text/plain": [
              "Text(0.5, 1.0, 'Mini-batch gradient descent')"
            ]
          },
          "execution_count": 25,
          "metadata": {},
          "output_type": "execute_result"
        },
        {
          "data": {
            "image/png": "[encoded data removed]",
            "text/plain": [
              "<Figure size 432x288 with 1 Axes>"
            ]
          },
          "metadata": {
            "needs_background": "light"
          },
          "output_type": "display_data"
        }
      ],
      "source": [
        "net=Net()\n",
        "criterion = nn.MSELoss()\n",
        "optimizer = optim.Adam(net.parameters(), lr=0.00002)\n",
        "\n",
        "for epoch in range(4000): # pass data for 4000 times\n",
        "  for x_1,y_1 in data_train: # pass 4 batches of data\n",
        "    yhat = net(x_1)\n",
        "    loss = criterion(yhat,y_1)\n",
        "    loss.backward()\n",
        "    optimizer.step()\n",
        "\n",
        "# training result different from full gradient descent\n",
        "x=torch.arange(-1,1,0.01).reshape((-1,1))\n",
        "plt.plot(x[:,0],net(x).detach().numpy()[:,0],linewidth=2, label='Fitted curve')\n",
        "plt.scatter(xtrain.numpy()[:,0],ytrain.numpy()[:,0],c='red', label='True data')\n",
        "plt.legend(bbox_to_anchor=(1.4, 1))\n",
        "plt.ylim([-2,2])\n",
        "plt.title(\"Mini-batch gradient descent\")"
      ]
    },
    {
      "cell_type": "markdown",
      "metadata": {
        "id": "bvRZcmObfBYl"
      },
      "source": [
        "## t-SNE"
      ]
    },
    {
      "cell_type": "code",
      "execution_count": 26,
      "metadata": {
        "colab": {
          "base_uri": "https://localhost:8080/",
          "height": 283
        },
        "id": "alH9oYXTA0J6",
        "outputId": "16f84381-4d37-4b5c-ec42-aa37fca4af82"
      },
      "outputs": [
        {
          "data": {
            "text/plain": [
              "<matplotlib.collections.PathCollection at 0x7f15b7e488e0>"
            ]
          },
          "execution_count": 26,
          "metadata": {},
          "output_type": "execute_result"
        },
        {
          "data": {
            "image/png": "[encoded data removed]",
            "text/plain": [
              "<Figure size 432x288 with 1 Axes>"
            ]
          },
          "metadata": {
            "needs_background": "light"
          },
          "output_type": "display_data"
        }
      ],
      "source": [
        "from sklearn.manifold import TSNE\n",
        "\n",
        "x = torch.arange(-0.5,0.75,0.01)[:,None]  # [125, 1]\n",
        "\n",
        "lastlayer = F.relu(net.fc2(F.relu(net.fc1(x))))  # [125, 40]\n",
        "\n",
        "alphahat = TSNE(n_components=2,perplexity=20).fit_transform(lastlayer.detach().numpy())  # (125, 2)\n",
        "\n",
        "plt.scatter(alphahat[:,0],alphahat[:,1],c=np.linspace(0,1,alphahat.shape[0]),cmap=plt.cm.gray)"
      ]
    },
    {
      "cell_type": "markdown",
      "metadata": {
        "id": "ueMXqXrurlK-"
      },
      "source": [
        "# Computer vision\n",
        "Image classification\n",
        "\n",
        "- Basically following https://pytorch.org/tutorials/beginner/blitz/cifar10_tutorial.html\n",
        "\n",
        "- and this one https://pytorch.org/tutorials/beginner/fgsm_tutorial.html"
      ]
    },
    {
      "cell_type": "code",
      "execution_count": 28,
      "metadata": {
        "id": "CY4X8T8DnO8v"
      },
      "outputs": [],
      "source": [
        "import numpy as np\n",
        "import torch\n",
        "import torchvision\n",
        "import torchvision.transforms as transforms\n",
        "import torch.nn as nn\n",
        "import torch.nn.functional as F\n",
        "import matplotlib.pyplot as plt\n",
        "import torch.optim as optim"
      ]
    },
    {
      "cell_type": "markdown",
      "metadata": {
        "id": "kmpGGF4jrtid"
      },
      "source": [
        "## load data"
      ]
    },
    {
      "cell_type": "code",
      "execution_count": 29,
      "metadata": {
        "colab": {
          "base_uri": "https://localhost:8080/",
          "height": 451,
          "referenced_widgets": [
            "59918c8f3cfd43e6aaa171662927838d",
            "3ac72f62bcc94a70bfe9e730bd5fc652",
            "982fe1925c644bd6b7c3e1cc4e185793",
            "8edbe0152b0847c9aae1d5583f777b9d",
            "5fc7162fa2b74425a00a2321421e590f",
            "9b0e41158b56435c961a6c27da6ae3c9",
            "347dc45507bf42d98d9f329b1690f9f7",
            "b24bcbbf442a4ab491b1eefe7aba770f",
            "86d2acf293d340ea91bb87d88f435e17",
            "a5b5fd473c204d7a85b8b0f83501684d",
            "6ce9e69535cb4084a8b6ca6cbe37c00b",
            "c5128da34a0647bb850a9543fb14700e",
            "a9949e203e834fecbaf848618a578685",
            "e8229d97af0249ba9a7928872f12de8f",
            "fe459a7f0a344aad8a08392e2587d640",
            "eca57698e36144c08d9dedc2b2efdf9e",
            "dffa01a6dbce4b0d90a1d85b4873adb9",
            "8053f1a5c3144f3296708cf29c1b7403",
            "435346b946754687af671f2cdfbef395",
            "6f2ebc9f289647adbb6e1259c5770002",
            "29e1589004824db3a2999f87fd331c8d",
            "659d798918974c4bb7b42f5cfcf6dc33",
            "35307da0cc344e62b60f318ced677c29",
            "24c9419c574b49f79d47401212cd64e6",
            "806422ba841b4e9ab69c6ef6370e48b2",
            "0deec2e8b2bb451d91ee50083fbfbb8c",
            "8302f73b99e044d2b99c1d5ed13ef04d",
            "3b2e71489a5549049e288acff4d51c93",
            "a21772b1ff384717b110af0a1d35c157",
            "dd9666a4f8d94e879ac4bee769beef17",
            "2ee096c6005142f6b4cba07c197cee98",
            "0fdf298837144021bac81551a0f43615",
            "b5c5df290fbd4ebe822e31626e69ec79",
            "8c2476b7576a4b07afe9b149cad55468",
            "74c45832ec8941c3b6812b22cab5f262",
            "4129c1bd66bb4c16a58272bfc0d16e80",
            "842680c9dd484c96868680275d9702c5",
            "c86bcd591fac41dbbb2c35a09de7d368",
            "dd227a4b119d43aa8ff69d781666cda4",
            "d4386661057d4e26a4768cbffc9d37b8",
            "13fddf3d4fc143218939f30579b422dd",
            "40b514ef00774bdc9ffc4f4532f7fee5",
            "27a1bc440aef49cbb58284fd6d3ffa59",
            "74717db091a643628e86d154fad53926"
          ]
        },
        "id": "8VNVVazFVgic",
        "outputId": "248bcd30-cc46-42c3-fe7c-b8a201c81aae"
      },
      "outputs": [
        {
          "name": "stdout",
          "output_type": "stream",
          "text": [
            "Downloading http://yann.lecun.com/exdb/mnist/train-images-idx3-ubyte.gz\n",
            "Downloading http://yann.lecun.com/exdb/mnist/train-images-idx3-ubyte.gz to ./data/MNIST/raw/train-images-idx3-ubyte.gz\n"
          ]
        },
        {
          "data": {
            "application/vnd.jupyter.widget-view+json": {
              "model_id": "59918c8f3cfd43e6aaa171662927838d",
              "version_major": 2,
              "version_minor": 0
            },
            "text/plain": [
              "  0%|          | 0/9912422 [00:00<?, ?it/s]"
            ]
          },
          "metadata": {},
          "output_type": "display_data"
        },
        {
          "name": "stdout",
          "output_type": "stream",
          "text": [
            "Extracting ./data/MNIST/raw/train-images-idx3-ubyte.gz to ./data/MNIST/raw\n",
            "\n",
            "Downloading http://yann.lecun.com/exdb/mnist/train-labels-idx1-ubyte.gz\n",
            "Downloading http://yann.lecun.com/exdb/mnist/train-labels-idx1-ubyte.gz to ./data/MNIST/raw/train-labels-idx1-ubyte.gz\n"
          ]
        },
        {
          "data": {
            "application/vnd.jupyter.widget-view+json": {
              "model_id": "c5128da34a0647bb850a9543fb14700e",
              "version_major": 2,
              "version_minor": 0
            },
            "text/plain": [
              "  0%|          | 0/28881 [00:00<?, ?it/s]"
            ]
          },
          "metadata": {},
          "output_type": "display_data"
        },
        {
          "name": "stdout",
          "output_type": "stream",
          "text": [
            "Extracting ./data/MNIST/raw/train-labels-idx1-ubyte.gz to ./data/MNIST/raw\n",
            "\n",
            "Downloading http://yann.lecun.com/exdb/mnist/t10k-images-idx3-ubyte.gz\n",
            "Downloading http://yann.lecun.com/exdb/mnist/t10k-images-idx3-ubyte.gz to ./data/MNIST/raw/t10k-images-idx3-ubyte.gz\n"
          ]
        },
        {
          "data": {
            "application/vnd.jupyter.widget-view+json": {
              "model_id": "35307da0cc344e62b60f318ced677c29",
              "version_major": 2,
              "version_minor": 0
            },
            "text/plain": [
              "  0%|          | 0/1648877 [00:00<?, ?it/s]"
            ]
          },
          "metadata": {},
          "output_type": "display_data"
        },
        {
          "name": "stdout",
          "output_type": "stream",
          "text": [
            "Extracting ./data/MNIST/raw/t10k-images-idx3-ubyte.gz to ./data/MNIST/raw\n",
            "\n",
            "Downloading http://yann.lecun.com/exdb/mnist/t10k-labels-idx1-ubyte.gz\n",
            "Downloading http://yann.lecun.com/exdb/mnist/t10k-labels-idx1-ubyte.gz to ./data/MNIST/raw/t10k-labels-idx1-ubyte.gz\n"
          ]
        },
        {
          "data": {
            "application/vnd.jupyter.widget-view+json": {
              "model_id": "8c2476b7576a4b07afe9b149cad55468",
              "version_major": 2,
              "version_minor": 0
            },
            "text/plain": [
              "  0%|          | 0/4542 [00:00<?, ?it/s]"
            ]
          },
          "metadata": {},
          "output_type": "display_data"
        },
        {
          "name": "stdout",
          "output_type": "stream",
          "text": [
            "Extracting ./data/MNIST/raw/t10k-labels-idx1-ubyte.gz to ./data/MNIST/raw\n",
            "\n"
          ]
        }
      ],
      "source": [
        "transform = transforms.Compose(\n",
        "    [transforms.ToTensor(),\n",
        "     transforms.Normalize((0.5,), (0.5,))])\n",
        "\n",
        "batch_size = 4\n",
        "trainset = torchvision.datasets.MNIST(root='./data', train=True,\n",
        "                                        download=True, transform=transform)\n",
        "trainloader = torch.utils.data.DataLoader(trainset, batch_size=batch_size,\n",
        "                                          shuffle=True, num_workers=2,pin_memory=True)\n",
        "\n",
        "testset = torchvision.datasets.MNIST(root='./data', train=False,\n",
        "                                       download=True, transform=transform)\n",
        "testloader = torch.utils.data.DataLoader(testset, batch_size=batch_size,\n",
        "                                         shuffle=False, num_workers=2,pin_memory=True)\n",
        "\n",
        "classes = ('0', '1', '2', '3',\n",
        "           '4', '5', '6', '7', '8', '9')\n"
      ]
    },
    {
      "cell_type": "code",
      "execution_count": 44,
      "metadata": {
        "colab": {
          "base_uri": "https://localhost:8080/"
        },
        "id": "EBVFHAW2ovRH",
        "outputId": "f5da9e2f-4b75-48fd-9d56-57702a8b6441"
      },
      "outputs": [
        {
          "data": {
            "text/plain": [
              "(torch.Size([28, 28]), 5)"
            ]
          },
          "execution_count": 44,
          "metadata": {},
          "output_type": "execute_result"
        }
      ],
      "source": [
        "# data and label of first image in training set\n",
        "trainset[0][0][0].shape, trainset[0][1]"
      ]
    },
    {
      "cell_type": "code",
      "execution_count": 34,
      "metadata": {
        "colab": {
          "base_uri": "https://localhost:8080/",
          "height": 283
        },
        "id": "kadZxaJZWamJ",
        "outputId": "e7f41d4a-99dd-40ef-d2a1-ad4971202794"
      },
      "outputs": [
        {
          "data": {
            "text/plain": [
              "<matplotlib.image.AxesImage at 0x7f15b5554340>"
            ]
          },
          "execution_count": 34,
          "metadata": {},
          "output_type": "execute_result"
        },
        {
          "data": {
            "image/png": "[encoded data removed]",
            "text/plain": [
              "<Figure size 432x288 with 1 Axes>"
            ]
          },
          "metadata": {
            "needs_background": "light"
          },
          "output_type": "display_data"
        }
      ],
      "source": [
        "# print first image in training set\n",
        "plt.imshow(trainset[0][0][0],cmap=plt.cm.gray_r)"
      ]
    },
    {
      "cell_type": "markdown",
      "metadata": {
        "id": "iHv5Zu_MrwBi"
      },
      "source": [
        "## architecture"
      ]
    },
    {
      "cell_type": "code",
      "execution_count": 45,
      "metadata": {
        "id": "_6VXZ8M5Y6Gh"
      },
      "outputs": [],
      "source": [
        "class Net(nn.Module):\n",
        "    def __init__(self):\n",
        "        super(Net, self).__init__()\n",
        "        ##conv1: 1x28x28 -> 10x24x24\n",
        "        self.conv1 = nn.Conv2d(1, 10, kernel_size=5)\n",
        "        ##will get max pooled by 2: 10x24x24 -> 10x12x12\n",
        "        ##conv2: 10x12x12 -> 20x8x8\n",
        "        self.conv2 = nn.Conv2d(10, 20, kernel_size=5) ##output is 20 channels\n",
        "        ##will get max pooled by 2: 20x8x8 -> 20x4x4\n",
        "        ##fully connected 1: 320 -> 50 \n",
        "        self.fc1 = nn.Linear(320, 50)\n",
        "        ##fully connected 2: 50 -> 10 (need to estimate 10 different labels)\n",
        "        self.fc2 = nn.Linear(50, 10)\n",
        "\n",
        "    def forward(self, x):\n",
        "        x = F.relu(F.max_pool2d(self.conv1(x), 2))\n",
        "        x = F.relu(F.max_pool2d(self.conv2(x), 2))\n",
        "        x = x.view(-1, 320) ##flatten the image\n",
        "        x = F.relu(self.fc1(x))\n",
        "        return self.fc2(x)"
      ]
    },
    {
      "cell_type": "code",
      "execution_count": 46,
      "metadata": {
        "id": "nn5l7kAMdHT4"
      },
      "outputs": [],
      "source": [
        "net = Net()\n",
        "device = torch.device(\"cuda:0\" if torch.cuda.is_available() else \"cpu\")"
      ]
    },
    {
      "cell_type": "code",
      "execution_count": 47,
      "metadata": {
        "colab": {
          "base_uri": "https://localhost:8080/"
        },
        "id": "xBs3zQdbfn3d",
        "outputId": "a6c1c6c4-8126-4df7-8d0d-ce338f1c1c34"
      },
      "outputs": [
        {
          "data": {
            "text/plain": [
              "device(type='cpu')"
            ]
          },
          "execution_count": 47,
          "metadata": {},
          "output_type": "execute_result"
        }
      ],
      "source": [
        "device"
      ]
    },
    {
      "cell_type": "code",
      "execution_count": 48,
      "metadata": {
        "colab": {
          "base_uri": "https://localhost:8080/",
          "height": 283
        },
        "id": "bIWXZ_ondMoS",
        "outputId": "2c8927b9-72cf-4353-efb5-322a3126122d"
      },
      "outputs": [
        {
          "data": {
            "text/plain": [
              "<matplotlib.image.AxesImage at 0x7f15b549eca0>"
            ]
          },
          "execution_count": 48,
          "metadata": {},
          "output_type": "execute_result"
        },
        {
          "data": {
            "image/png": "[encoded data removed]",
            "text/plain": [
              "<Figure size 432x288 with 1 Axes>"
            ]
          },
          "metadata": {
            "needs_background": "light"
          },
          "output_type": "display_data"
        }
      ],
      "source": [
        "plt.imshow(net.conv1(trainset[0][0][None,:,:,:])[0][0].detach(),cmap=plt.cm.gray_r)"
      ]
    },
    {
      "cell_type": "code",
      "execution_count": 49,
      "metadata": {
        "colab": {
          "base_uri": "https://localhost:8080/"
        },
        "id": "5i3mWMm4NnzL",
        "outputId": "9a8e0959-9485-4dbe-f3c3-c6dcba4307e9"
      },
      "outputs": [
        {
          "data": {
            "text/plain": [
              "torch.Size([24, 24])"
            ]
          },
          "execution_count": 49,
          "metadata": {},
          "output_type": "execute_result"
        }
      ],
      "source": [
        "net.conv1(trainset[0][0][None,:,:,:])[0][0].detach().shape"
      ]
    },
    {
      "cell_type": "code",
      "execution_count": 50,
      "metadata": {
        "colab": {
          "base_uri": "https://localhost:8080/"
        },
        "id": "NUdSOB5WdPhc",
        "outputId": "36dcdb6c-efae-4434-cbf6-0a7ba168ad8b"
      },
      "outputs": [
        {
          "data": {
            "text/plain": [
              "torch.Size([1, 10, 12, 12])"
            ]
          },
          "execution_count": 50,
          "metadata": {},
          "output_type": "execute_result"
        }
      ],
      "source": [
        "F.max_pool2d(net.conv1(trainset[0][0][None,:,:,:]),2).shape"
      ]
    },
    {
      "cell_type": "code",
      "execution_count": 51,
      "metadata": {
        "colab": {
          "base_uri": "https://localhost:8080/",
          "height": 283
        },
        "id": "dceIYqesNv5t",
        "outputId": "2b7dfae0-aed0-421e-e1f0-0049d7a3c410"
      },
      "outputs": [
        {
          "data": {
            "text/plain": [
              "<matplotlib.image.AxesImage at 0x7f15b53700d0>"
            ]
          },
          "execution_count": 51,
          "metadata": {},
          "output_type": "execute_result"
        },
        {
          "data": {
            "image/png": "[encoded data removed]",
            "text/plain": [
              "<Figure size 432x288 with 1 Axes>"
            ]
          },
          "metadata": {
            "needs_background": "light"
          },
          "output_type": "display_data"
        }
      ],
      "source": [
        "plt.imshow(F.max_pool2d(net.conv1(trainset[0][0][None,:,:,:]),2).detach()[0,0],cmap=plt.cm.gray_r)"
      ]
    },
    {
      "cell_type": "markdown",
      "metadata": {
        "id": "_SIy3uMNdo4V"
      },
      "source": [
        "## training"
      ]
    },
    {
      "cell_type": "code",
      "execution_count": 52,
      "metadata": {
        "colab": {
          "base_uri": "https://localhost:8080/"
        },
        "id": "3uxQbEq_gBhW",
        "outputId": "44390438-e361-4c11-aff4-f5e3bdcf56a6"
      },
      "outputs": [
        {
          "data": {
            "text/plain": [
              "Net(\n",
              "  (conv1): Conv2d(1, 10, kernel_size=(5, 5), stride=(1, 1))\n",
              "  (conv2): Conv2d(10, 20, kernel_size=(5, 5), stride=(1, 1))\n",
              "  (fc1): Linear(in_features=320, out_features=50, bias=True)\n",
              "  (fc2): Linear(in_features=50, out_features=10, bias=True)\n",
              ")"
            ]
          },
          "execution_count": 52,
          "metadata": {},
          "output_type": "execute_result"
        }
      ],
      "source": [
        "net.to(device)"
      ]
    },
    {
      "cell_type": "code",
      "execution_count": null,
      "metadata": {
        "colab": {
          "base_uri": "https://localhost:8080/"
        },
        "id": "x17l7uxkQzVk",
        "outputId": "0463f3dd-a7f7-41ed-e32e-6957fea06c52"
      },
      "outputs": [
        {
          "data": {
            "text/plain": [
              "torch.Size([1, 10, 12, 12])"
            ]
          },
          "metadata": {},
          "output_type": "display_data"
        }
      ],
      "source": [
        "F.max_pool2d(net.conv1(trainset[0][0][None,:,:,:].to(device)),2).shape"
      ]
    },
    {
      "cell_type": "code",
      "execution_count": 53,
      "metadata": {
        "colab": {
          "base_uri": "https://localhost:8080/"
        },
        "id": "j_ojqmXDfx_h",
        "outputId": "5e5806ce-07b0-49f9-dc0c-66a4ee83e21d"
      },
      "outputs": [
        {
          "name": "stdout",
          "output_type": "stream",
          "text": [
            "False\n",
            "False\n",
            "False\n",
            "False\n",
            "False\n",
            "False\n",
            "False\n",
            "False\n"
          ]
        }
      ],
      "source": [
        "for params in net.parameters():\n",
        "  print(params.is_cuda)"
      ]
    },
    {
      "cell_type": "code",
      "execution_count": 58,
      "metadata": {
        "colab": {
          "base_uri": "https://localhost:8080/"
        },
        "id": "0QpdEBppeUHz",
        "outputId": "daf5e4a3-b653-4e2b-e0c2-9cf4714ddbbb"
      },
      "outputs": [
        {
          "name": "stdout",
          "output_type": "stream",
          "text": [
            "[1,  2000] loss: 0.368\n",
            "[1,  4000] loss: 0.121\n",
            "[1,  6000] loss: 0.098\n",
            "[1,  8000] loss: 0.086\n",
            "[1, 10000] loss: 0.079\n",
            "[1, 12000] loss: 0.079\n",
            "[1, 14000] loss: 0.068\n",
            "[2,  2000] loss: 0.053\n",
            "[2,  4000] loss: 0.054\n",
            "[2,  6000] loss: 0.056\n",
            "[2,  8000] loss: 0.054\n",
            "[2, 10000] loss: 0.055\n",
            "[2, 12000] loss: 0.056\n",
            "[2, 14000] loss: 0.054\n"
          ]
        }
      ],
      "source": [
        "net.to(device)\n",
        "criterion = nn.CrossEntropyLoss()\n",
        "# criterion(torch.tensor([1.,0.])[None,:], torch.tensor([0]))\n",
        "optimizer = optim.Adam(net.parameters(), lr=0.001)\n",
        "for epoch in range(2):  # loop over the dataset multiple times\n",
        "\n",
        "    running_loss = 0.0\n",
        "    for i, data in enumerate(trainloader, 0):\n",
        "        # get the inputs; data is a list of [inputs, labels]\n",
        "        inputs, labels = data[0].to(device), data[1].to(device)\n",
        "        # zero the parameter gradients\n",
        "        optimizer.zero_grad()\n",
        "\n",
        "        # forward + backward + optimize\n",
        "        outputs = net(inputs)\n",
        "        loss = criterion(outputs, labels)\n",
        "        loss.backward()\n",
        "        optimizer.step()\n",
        "\n",
        "        # print statistics\n",
        "        running_loss += loss.item()\n",
        "        if i % 2000 == 1999:    # print every 2000 mini-batches\n",
        "            print('[%d, %5d] loss: %.3f' %\n",
        "                  (epoch + 1, i + 1, running_loss / 2000))\n",
        "            running_loss = 0.0\n"
      ]
    },
    {
      "cell_type": "markdown",
      "metadata": {
        "id": "-8hn7bKjr-2_"
      },
      "source": [
        "## test"
      ]
    },
    {
      "cell_type": "code",
      "execution_count": null,
      "metadata": {
        "colab": {
          "base_uri": "https://localhost:8080/"
        },
        "id": "I19bcXzdkSVR",
        "outputId": "3ff8e40c-6759-4639-c1c5-2716c9b57b07"
      },
      "outputs": [
        {
          "name": "stdout",
          "output_type": "stream",
          "text": [
            "Accuracy of the network on the 10000 test images: 98 %\n"
          ]
        }
      ],
      "source": [
        "correct = 0\n",
        "total = 0\n",
        "# no gradients needed\n",
        "with torch.no_grad():\n",
        "    for data in testloader:\n",
        "        images, labels = data[0].to(device), data[1].to(device)\n",
        "        # calculate outputs by running images through the network\n",
        "        outputs = net(images)\n",
        "        # the class with the highest energy is what we choose as prediction\n",
        "        _, predicted = torch.max(outputs.data, 1)\n",
        "        total += labels.size(0) #will always be adding 4\n",
        "        correct += (predicted == labels).sum().item()\n",
        "\n",
        "print('Accuracy of the network on the 10000 test images: %d %%' % (\n",
        "    100 * correct / total))"
      ]
    },
    {
      "cell_type": "code",
      "execution_count": null,
      "metadata": {
        "colab": {
          "base_uri": "https://localhost:8080/"
        },
        "id": "suSHACTofNoJ",
        "outputId": "8cbdeff9-999b-45cd-ae5c-2723d71e5fbf"
      },
      "outputs": [
        {
          "name": "stdout",
          "output_type": "stream",
          "text": [
            "Accuracy for class 0     is: 98.1 %\n",
            "Accuracy for class 1     is: 99.2 %\n",
            "Accuracy for class 2     is: 98.7 %\n",
            "Accuracy for class 3     is: 98.5 %\n",
            "Accuracy for class 4     is: 96.1 %\n",
            "Accuracy for class 5     is: 98.8 %\n",
            "Accuracy for class 6     is: 99.6 %\n",
            "Accuracy for class 7     is: 98.7 %\n",
            "Accuracy for class 8     is: 99.0 %\n",
            "Accuracy for class 9     is: 98.4 %\n"
          ]
        }
      ],
      "source": [
        "correct_pred = {classname: 0 for classname in classes}\n",
        "total_pred = {classname: 0 for classname in classes}\n",
        "\n",
        "# no gradients needed\n",
        "with torch.no_grad():\n",
        "    for data in testloader:\n",
        "        images, labels = data[0].to(device),data[1].to(device)\n",
        "        outputs = net(images)\n",
        "        _, predictions = torch.max(outputs, 1)\n",
        "        # collect the correct predictions for each class\n",
        "        for label, prediction in zip(labels, predictions):\n",
        "            if label == prediction:\n",
        "                correct_pred[classes[label]] += 1\n",
        "            total_pred[classes[label]] += 1\n",
        "\n",
        "\n",
        "# print accuracy for each class\n",
        "for classname, correct_count in correct_pred.items():\n",
        "    accuracy = 100 * float(correct_count) / total_pred[classname]\n",
        "    print(\"Accuracy for class {:5s} is: {:.1f} %\".format(classname,\n",
        "                                                   accuracy))"
      ]
    },
    {
      "cell_type": "markdown",
      "metadata": {
        "id": "ipVm9IXCkLwA"
      },
      "source": [
        "# Visualize trained filters"
      ]
    },
    {
      "cell_type": "code",
      "execution_count": null,
      "metadata": {
        "colab": {
          "base_uri": "https://localhost:8080/"
        },
        "id": "WRy48Uepk1Ic",
        "outputId": "221cb025-f9ff-4116-9793-a826cd0d0c21"
      },
      "outputs": [
        {
          "data": {
            "text/plain": [
              "torch.Size([10])"
            ]
          },
          "metadata": {},
          "output_type": "display_data"
        }
      ],
      "source": [
        "net.conv1.bias.shape"
      ]
    },
    {
      "cell_type": "code",
      "execution_count": null,
      "metadata": {
        "colab": {
          "base_uri": "https://localhost:8080/"
        },
        "id": "S8Z8cFQSkxbX",
        "outputId": "82661ff7-f3e3-45ff-8bd5-2d3b73c042a9"
      },
      "outputs": [
        {
          "data": {
            "text/plain": [
              "torch.Size([10, 1, 5, 5])"
            ]
          },
          "metadata": {},
          "output_type": "display_data"
        }
      ],
      "source": [
        "net.conv1.weight.shape"
      ]
    },
    {
      "cell_type": "code",
      "execution_count": 59,
      "metadata": {
        "colab": {
          "base_uri": "https://localhost:8080/",
          "height": 283
        },
        "id": "htgLVScHkoCV",
        "outputId": "afd9bffb-a563-465d-df33-19abccf695aa"
      },
      "outputs": [
        {
          "data": {
            "text/plain": [
              "<matplotlib.image.AxesImage at 0x7f15b511f3d0>"
            ]
          },
          "execution_count": 59,
          "metadata": {},
          "output_type": "execute_result"
        },
        {
          "data": {
            "image/png": "[encoded data removed]",
            "text/plain": [
              "<Figure size 432x288 with 1 Axes>"
            ]
          },
          "metadata": {
            "needs_background": "light"
          },
          "output_type": "display_data"
        }
      ],
      "source": [
        "plt.imshow(net.conv1.weight[0][0].to('cpu').detach()) "
      ]
    },
    {
      "cell_type": "code",
      "execution_count": 60,
      "metadata": {
        "colab": {
          "base_uri": "https://localhost:8080/",
          "height": 275
        },
        "id": "Gb3w_Pmkk7yP",
        "outputId": "39961459-b48f-4f9f-b972-ed140d3e6cf8"
      },
      "outputs": [
        {
          "data": {
            "image/png": "[encoded data removed]",
            "text/plain": [
              "<Figure size 720x360 with 10 Axes>"
            ]
          },
          "metadata": {
            "needs_background": "light"
          },
          "output_type": "display_data"
        }
      ],
      "source": [
        "f,a = plt.subplots(2,5,figsize=(10,5))\n",
        "for j in range(2):\n",
        "    for k in range(5):\n",
        "        a[j,k].axis('off')\n",
        "        a[j,k].imshow(net.conv1.weight[5*j+k][0].to('cpu').detach(),cmap=plt.cm.gray.reversed())\n"
      ]
    },
    {
      "cell_type": "code",
      "execution_count": 61,
      "metadata": {
        "colab": {
          "base_uri": "https://localhost:8080/",
          "height": 275
        },
        "id": "lpuSgTW0DiI5",
        "outputId": "3e963a72-af46-461d-ac25-8921f4b585a6"
      },
      "outputs": [
        {
          "data": {
            "image/png": "[encoded data removed]",
            "text/plain": [
              "<Figure size 720x360 with 10 Axes>"
            ]
          },
          "metadata": {
            "needs_background": "light"
          },
          "output_type": "display_data"
        }
      ],
      "source": [
        "f,a = plt.subplots(2,5,figsize=(10,5))\n",
        "for j in range(2):\n",
        "    for k in range(5):\n",
        "        a[j,k].axis('off')\n",
        "        a[j,k].imshow(net.conv1(trainset[1][0][None,:,:,:].to(device))[0][5*j+k].detach().to('cpu'),cmap=plt.cm.gray_r)"
      ]
    },
    {
      "cell_type": "markdown",
      "metadata": {
        "id": "-_tN8-zimny9"
      },
      "source": [
        "# What do different neurons capture\n",
        "(check out these notes also https://cs231n.github.io/understanding-cnn/)"
      ]
    },
    {
      "cell_type": "code",
      "execution_count": null,
      "metadata": {
        "id": "jHZ4tHCUnJPp"
      },
      "outputs": [],
      "source": [
        "def neuronactivation(x,model):\n",
        "  x = F.relu(F.max_pool2d(model.conv1(x), 2))\n",
        "  x = F.relu(F.max_pool2d(model.conv2(x), 2))\n",
        "  return x.view(-1, 320) ##flatten the image\n",
        "activations = []\n",
        "with torch.no_grad():\n",
        "    for data in testloader:\n",
        "        images = data[0].to(device)\n",
        "        activations.append((data[0].numpy(),data[1].numpy(),neuronactivation(images,net).to('cpu').numpy()))\n",
        "activations[0][2].shape"
      ]
    },
    {
      "cell_type": "markdown",
      "metadata": {
        "id": "Aed8nG3YosZk"
      },
      "source": [
        "See how different neurons behave"
      ]
    },
    {
      "cell_type": "code",
      "execution_count": null,
      "metadata": {
        "id": "QNvMft2vo_gP"
      },
      "outputs": [],
      "source": [
        "neuronpick=200\n",
        "firstneuron = [(j[0][k],j[1][k],j[2][k,neuronpick]) for j in activations for k in range(4)]\n",
        "firstneuron[0][2]\n",
        "A = list(zip(*firstneuron))\n",
        "testims = np.array((A[0]))\n",
        "act = np.array(A[2])\n",
        "actargsort = np.argsort(-act)\n",
        "act[actargsort[0]]"
      ]
    },
    {
      "cell_type": "code",
      "execution_count": null,
      "metadata": {
        "colab": {
          "base_uri": "https://localhost:8080/",
          "height": 319
        },
        "id": "wUTRyA-5qnVy",
        "outputId": "1febc6ae-16c8-4aa0-d6e7-9f644e184a4c"
      },
      "outputs": [
        {
          "data": {
            "image/png": "[encoded data removed]",
            "text/plain": [
              "<Figure size 720x360 with 25 Axes>"
            ]
          },
          "metadata": {},
          "output_type": "display_data"
        }
      ],
      "source": [
        "skip=1\n",
        "f,a = plt.subplots(5,5,figsize=(10,5))\n",
        "for j in range(5):\n",
        "    for k in range(5):\n",
        "        a[j,k].axis('off')\n",
        "        a[j,k].imshow(testims[actargsort[skip*(5*j+k)]][0],cmap=plt.cm.gray_r)\n",
        "        a[j,k].set_title(act[actargsort[skip*(5*j+k)]])\n"
      ]
    }
  ],
  "metadata": {
    "colab": {
      "provenance": [],
      "toc_visible": true
    },
    "kernelspec": {
      "display_name": "d2l",
      "language": "python",
      "name": "python3"
    },
    "language_info": {
      "codemirror_mode": {
        "name": "ipython",
        "version": 3
      },
      "file_extension": ".py",
      "mimetype": "text/x-python",
      "name": "python",
      "nbconvert_exporter": "python",
      "pygments_lexer": "ipython3",
      "version": "3.8.10"
    },
    "vscode": {
      "interpreter": {
        "hash": "15a162aef56c374f20e075fbc4add75b55bd097c903a763d3b0c4cccda1c0caf"
      }
    },
    "widgets": {
      "application/vnd.jupyter.widget-state+json": {
        "0deec2e8b2bb451d91ee50083fbfbb8c": {
          "model_module": "@jupyter-widgets/controls",
          "model_module_version": "1.5.0",
          "model_name": "HTMLModel",
          "state": {
            "_dom_classes": [],
            "_model_module": "@jupyter-widgets/controls",
            "_model_module_version": "1.5.0",
            "_model_name": "HTMLModel",
            "_view_count": null,
            "_view_module": "@jupyter-widgets/controls",
            "_view_module_version": "1.5.0",
            "_view_name": "HTMLView",
            "description": "",
            "description_tooltip": null,
            "layout": "IPY_MODEL_0fdf298837144021bac81551a0f43615",
            "placeholder": "​",
            "style": "IPY_MODEL_b5c5df290fbd4ebe822e31626e69ec79",
            "value": " 1648877/1648877 [00:00&lt;00:00, 19078847.41it/s]"
          }
        },
        "0fdf298837144021bac81551a0f43615": {
          "model_module": "@jupyter-widgets/base",
          "model_module_version": "1.2.0",
          "model_name": "LayoutModel",
          "state": {
            "_model_module": "@jupyter-widgets/base",
            "_model_module_version": "1.2.0",
            "_model_name": "LayoutModel",
            "_view_count": null,
            "_view_module": "@jupyter-widgets/base",
            "_view_module_version": "1.2.0",
            "_view_name": "LayoutView",
            "align_content": null,
            "align_items": null,
            "align_self": null,
            "border": null,
            "bottom": null,
            "display": null,
            "flex": null,
            "flex_flow": null,
            "grid_area": null,
            "grid_auto_columns": null,
            "grid_auto_flow": null,
            "grid_auto_rows": null,
            "grid_column": null,
            "grid_gap": null,
            "grid_row": null,
            "grid_template_areas": null,
            "grid_template_columns": null,
            "grid_template_rows": null,
            "height": null,
            "justify_content": null,
            "justify_items": null,
            "left": null,
            "margin": null,
            "max_height": null,
            "max_width": null,
            "min_height": null,
            "min_width": null,
            "object_fit": null,
            "object_position": null,
            "order": null,
            "overflow": null,
            "overflow_x": null,
            "overflow_y": null,
            "padding": null,
            "right": null,
            "top": null,
            "visibility": null,
            "width": null
          }
        },
        "13fddf3d4fc143218939f30579b422dd": {
          "model_module": "@jupyter-widgets/base",
          "model_module_version": "1.2.0",
          "model_name": "LayoutModel",
          "state": {
            "_model_module": "@jupyter-widgets/base",
            "_model_module_version": "1.2.0",
            "_model_name": "LayoutModel",
            "_view_count": null,
            "_view_module": "@jupyter-widgets/base",
            "_view_module_version": "1.2.0",
            "_view_name": "LayoutView",
            "align_content": null,
            "align_items": null,
            "align_self": null,
            "border": null,
            "bottom": null,
            "display": null,
            "flex": null,
            "flex_flow": null,
            "grid_area": null,
            "grid_auto_columns": null,
            "grid_auto_flow": null,
            "grid_auto_rows": null,
            "grid_column": null,
            "grid_gap": null,
            "grid_row": null,
            "grid_template_areas": null,
            "grid_template_columns": null,
            "grid_template_rows": null,
            "height": null,
            "justify_content": null,
            "justify_items": null,
            "left": null,
            "margin": null,
            "max_height": null,
            "max_width": null,
            "min_height": null,
            "min_width": null,
            "object_fit": null,
            "object_position": null,
            "order": null,
            "overflow": null,
            "overflow_x": null,
            "overflow_y": null,
            "padding": null,
            "right": null,
            "top": null,
            "visibility": null,
            "width": null
          }
        },
        "24c9419c574b49f79d47401212cd64e6": {
          "model_module": "@jupyter-widgets/controls",
          "model_module_version": "1.5.0",
          "model_name": "HTMLModel",
          "state": {
            "_dom_classes": [],
            "_model_module": "@jupyter-widgets/controls",
            "_model_module_version": "1.5.0",
            "_model_name": "HTMLModel",
            "_view_count": null,
            "_view_module": "@jupyter-widgets/controls",
            "_view_module_version": "1.5.0",
            "_view_name": "HTMLView",
            "description": "",
            "description_tooltip": null,
            "layout": "IPY_MODEL_3b2e71489a5549049e288acff4d51c93",
            "placeholder": "​",
            "style": "IPY_MODEL_a21772b1ff384717b110af0a1d35c157",
            "value": "100%"
          }
        },
        "27a1bc440aef49cbb58284fd6d3ffa59": {
          "model_module": "@jupyter-widgets/base",
          "model_module_version": "1.2.0",
          "model_name": "LayoutModel",
          "state": {
            "_model_module": "@jupyter-widgets/base",
            "_model_module_version": "1.2.0",
            "_model_name": "LayoutModel",
            "_view_count": null,
            "_view_module": "@jupyter-widgets/base",
            "_view_module_version": "1.2.0",
            "_view_name": "LayoutView",
            "align_content": null,
            "align_items": null,
            "align_self": null,
            "border": null,
            "bottom": null,
            "display": null,
            "flex": null,
            "flex_flow": null,
            "grid_area": null,
            "grid_auto_columns": null,
            "grid_auto_flow": null,
            "grid_auto_rows": null,
            "grid_column": null,
            "grid_gap": null,
            "grid_row": null,
            "grid_template_areas": null,
            "grid_template_columns": null,
            "grid_template_rows": null,
            "height": null,
            "justify_content": null,
            "justify_items": null,
            "left": null,
            "margin": null,
            "max_height": null,
            "max_width": null,
            "min_height": null,
            "min_width": null,
            "object_fit": null,
            "object_position": null,
            "order": null,
            "overflow": null,
            "overflow_x": null,
            "overflow_y": null,
            "padding": null,
            "right": null,
            "top": null,
            "visibility": null,
            "width": null
          }
        },
        "29e1589004824db3a2999f87fd331c8d": {
          "model_module": "@jupyter-widgets/base",
          "model_module_version": "1.2.0",
          "model_name": "LayoutModel",
          "state": {
            "_model_module": "@jupyter-widgets/base",
            "_model_module_version": "1.2.0",
            "_model_name": "LayoutModel",
            "_view_count": null,
            "_view_module": "@jupyter-widgets/base",
            "_view_module_version": "1.2.0",
            "_view_name": "LayoutView",
            "align_content": null,
            "align_items": null,
            "align_self": null,
            "border": null,
            "bottom": null,
            "display": null,
            "flex": null,
            "flex_flow": null,
            "grid_area": null,
            "grid_auto_columns": null,
            "grid_auto_flow": null,
            "grid_auto_rows": null,
            "grid_column": null,
            "grid_gap": null,
            "grid_row": null,
            "grid_template_areas": null,
            "grid_template_columns": null,
            "grid_template_rows": null,
            "height": null,
            "justify_content": null,
            "justify_items": null,
            "left": null,
            "margin": null,
            "max_height": null,
            "max_width": null,
            "min_height": null,
            "min_width": null,
            "object_fit": null,
            "object_position": null,
            "order": null,
            "overflow": null,
            "overflow_x": null,
            "overflow_y": null,
            "padding": null,
            "right": null,
            "top": null,
            "visibility": null,
            "width": null
          }
        },
        "2ee096c6005142f6b4cba07c197cee98": {
          "model_module": "@jupyter-widgets/controls",
          "model_module_version": "1.5.0",
          "model_name": "ProgressStyleModel",
          "state": {
            "_model_module": "@jupyter-widgets/controls",
            "_model_module_version": "1.5.0",
            "_model_name": "ProgressStyleModel",
            "_view_count": null,
            "_view_module": "@jupyter-widgets/base",
            "_view_module_version": "1.2.0",
            "_view_name": "StyleView",
            "bar_color": null,
            "description_width": ""
          }
        },
        "347dc45507bf42d98d9f329b1690f9f7": {
          "model_module": "@jupyter-widgets/controls",
          "model_module_version": "1.5.0",
          "model_name": "DescriptionStyleModel",
          "state": {
            "_model_module": "@jupyter-widgets/controls",
            "_model_module_version": "1.5.0",
            "_model_name": "DescriptionStyleModel",
            "_view_count": null,
            "_view_module": "@jupyter-widgets/base",
            "_view_module_version": "1.2.0",
            "_view_name": "StyleView",
            "description_width": ""
          }
        },
        "35307da0cc344e62b60f318ced677c29": {
          "model_module": "@jupyter-widgets/controls",
          "model_module_version": "1.5.0",
          "model_name": "HBoxModel",
          "state": {
            "_dom_classes": [],
            "_model_module": "@jupyter-widgets/controls",
            "_model_module_version": "1.5.0",
            "_model_name": "HBoxModel",
            "_view_count": null,
            "_view_module": "@jupyter-widgets/controls",
            "_view_module_version": "1.5.0",
            "_view_name": "HBoxView",
            "box_style": "",
            "children": [
              "IPY_MODEL_24c9419c574b49f79d47401212cd64e6",
              "IPY_MODEL_806422ba841b4e9ab69c6ef6370e48b2",
              "IPY_MODEL_0deec2e8b2bb451d91ee50083fbfbb8c"
            ],
            "layout": "IPY_MODEL_8302f73b99e044d2b99c1d5ed13ef04d"
          }
        },
        "3ac72f62bcc94a70bfe9e730bd5fc652": {
          "model_module": "@jupyter-widgets/controls",
          "model_module_version": "1.5.0",
          "model_name": "HTMLModel",
          "state": {
            "_dom_classes": [],
            "_model_module": "@jupyter-widgets/controls",
            "_model_module_version": "1.5.0",
            "_model_name": "HTMLModel",
            "_view_count": null,
            "_view_module": "@jupyter-widgets/controls",
            "_view_module_version": "1.5.0",
            "_view_name": "HTMLView",
            "description": "",
            "description_tooltip": null,
            "layout": "IPY_MODEL_9b0e41158b56435c961a6c27da6ae3c9",
            "placeholder": "​",
            "style": "IPY_MODEL_347dc45507bf42d98d9f329b1690f9f7",
            "value": "100%"
          }
        },
        "3b2e71489a5549049e288acff4d51c93": {
          "model_module": "@jupyter-widgets/base",
          "model_module_version": "1.2.0",
          "model_name": "LayoutModel",
          "state": {
            "_model_module": "@jupyter-widgets/base",
            "_model_module_version": "1.2.0",
            "_model_name": "LayoutModel",
            "_view_count": null,
            "_view_module": "@jupyter-widgets/base",
            "_view_module_version": "1.2.0",
            "_view_name": "LayoutView",
            "align_content": null,
            "align_items": null,
            "align_self": null,
            "border": null,
            "bottom": null,
            "display": null,
            "flex": null,
            "flex_flow": null,
            "grid_area": null,
            "grid_auto_columns": null,
            "grid_auto_flow": null,
            "grid_auto_rows": null,
            "grid_column": null,
            "grid_gap": null,
            "grid_row": null,
            "grid_template_areas": null,
            "grid_template_columns": null,
            "grid_template_rows": null,
            "height": null,
            "justify_content": null,
            "justify_items": null,
            "left": null,
            "margin": null,
            "max_height": null,
            "max_width": null,
            "min_height": null,
            "min_width": null,
            "object_fit": null,
            "object_position": null,
            "order": null,
            "overflow": null,
            "overflow_x": null,
            "overflow_y": null,
            "padding": null,
            "right": null,
            "top": null,
            "visibility": null,
            "width": null
          }
        },
        "40b514ef00774bdc9ffc4f4532f7fee5": {
          "model_module": "@jupyter-widgets/controls",
          "model_module_version": "1.5.0",
          "model_name": "ProgressStyleModel",
          "state": {
            "_model_module": "@jupyter-widgets/controls",
            "_model_module_version": "1.5.0",
            "_model_name": "ProgressStyleModel",
            "_view_count": null,
            "_view_module": "@jupyter-widgets/base",
            "_view_module_version": "1.2.0",
            "_view_name": "StyleView",
            "bar_color": null,
            "description_width": ""
          }
        },
        "4129c1bd66bb4c16a58272bfc0d16e80": {
          "model_module": "@jupyter-widgets/controls",
          "model_module_version": "1.5.0",
          "model_name": "FloatProgressModel",
          "state": {
            "_dom_classes": [],
            "_model_module": "@jupyter-widgets/controls",
            "_model_module_version": "1.5.0",
            "_model_name": "FloatProgressModel",
            "_view_count": null,
            "_view_module": "@jupyter-widgets/controls",
            "_view_module_version": "1.5.0",
            "_view_name": "ProgressView",
            "bar_style": "success",
            "description": "",
            "description_tooltip": null,
            "layout": "IPY_MODEL_13fddf3d4fc143218939f30579b422dd",
            "max": 4542,
            "min": 0,
            "orientation": "horizontal",
            "style": "IPY_MODEL_40b514ef00774bdc9ffc4f4532f7fee5",
            "value": 4542
          }
        },
        "435346b946754687af671f2cdfbef395": {
          "model_module": "@jupyter-widgets/base",
          "model_module_version": "1.2.0",
          "model_name": "LayoutModel",
          "state": {
            "_model_module": "@jupyter-widgets/base",
            "_model_module_version": "1.2.0",
            "_model_name": "LayoutModel",
            "_view_count": null,
            "_view_module": "@jupyter-widgets/base",
            "_view_module_version": "1.2.0",
            "_view_name": "LayoutView",
            "align_content": null,
            "align_items": null,
            "align_self": null,
            "border": null,
            "bottom": null,
            "display": null,
            "flex": null,
            "flex_flow": null,
            "grid_area": null,
            "grid_auto_columns": null,
            "grid_auto_flow": null,
            "grid_auto_rows": null,
            "grid_column": null,
            "grid_gap": null,
            "grid_row": null,
            "grid_template_areas": null,
            "grid_template_columns": null,
            "grid_template_rows": null,
            "height": null,
            "justify_content": null,
            "justify_items": null,
            "left": null,
            "margin": null,
            "max_height": null,
            "max_width": null,
            "min_height": null,
            "min_width": null,
            "object_fit": null,
            "object_position": null,
            "order": null,
            "overflow": null,
            "overflow_x": null,
            "overflow_y": null,
            "padding": null,
            "right": null,
            "top": null,
            "visibility": null,
            "width": null
          }
        },
        "59918c8f3cfd43e6aaa171662927838d": {
          "model_module": "@jupyter-widgets/controls",
          "model_module_version": "1.5.0",
          "model_name": "HBoxModel",
          "state": {
            "_dom_classes": [],
            "_model_module": "@jupyter-widgets/controls",
            "_model_module_version": "1.5.0",
            "_model_name": "HBoxModel",
            "_view_count": null,
            "_view_module": "@jupyter-widgets/controls",
            "_view_module_version": "1.5.0",
            "_view_name": "HBoxView",
            "box_style": "",
            "children": [
              "IPY_MODEL_3ac72f62bcc94a70bfe9e730bd5fc652",
              "IPY_MODEL_982fe1925c644bd6b7c3e1cc4e185793",
              "IPY_MODEL_8edbe0152b0847c9aae1d5583f777b9d"
            ],
            "layout": "IPY_MODEL_5fc7162fa2b74425a00a2321421e590f"
          }
        },
        "5fc7162fa2b74425a00a2321421e590f": {
          "model_module": "@jupyter-widgets/base",
          "model_module_version": "1.2.0",
          "model_name": "LayoutModel",
          "state": {
            "_model_module": "@jupyter-widgets/base",
            "_model_module_version": "1.2.0",
            "_model_name": "LayoutModel",
            "_view_count": null,
            "_view_module": "@jupyter-widgets/base",
            "_view_module_version": "1.2.0",
            "_view_name": "LayoutView",
            "align_content": null,
            "align_items": null,
            "align_self": null,
            "border": null,
            "bottom": null,
            "display": null,
            "flex": null,
            "flex_flow": null,
            "grid_area": null,
            "grid_auto_columns": null,
            "grid_auto_flow": null,
            "grid_auto_rows": null,
            "grid_column": null,
            "grid_gap": null,
            "grid_row": null,
            "grid_template_areas": null,
            "grid_template_columns": null,
            "grid_template_rows": null,
            "height": null,
            "justify_content": null,
            "justify_items": null,
            "left": null,
            "margin": null,
            "max_height": null,
            "max_width": null,
            "min_height": null,
            "min_width": null,
            "object_fit": null,
            "object_position": null,
            "order": null,
            "overflow": null,
            "overflow_x": null,
            "overflow_y": null,
            "padding": null,
            "right": null,
            "top": null,
            "visibility": null,
            "width": null
          }
        },
        "659d798918974c4bb7b42f5cfcf6dc33": {
          "model_module": "@jupyter-widgets/controls",
          "model_module_version": "1.5.0",
          "model_name": "DescriptionStyleModel",
          "state": {
            "_model_module": "@jupyter-widgets/controls",
            "_model_module_version": "1.5.0",
            "_model_name": "DescriptionStyleModel",
            "_view_count": null,
            "_view_module": "@jupyter-widgets/base",
            "_view_module_version": "1.2.0",
            "_view_name": "StyleView",
            "description_width": ""
          }
        },
        "6ce9e69535cb4084a8b6ca6cbe37c00b": {
          "model_module": "@jupyter-widgets/controls",
          "model_module_version": "1.5.0",
          "model_name": "DescriptionStyleModel",
          "state": {
            "_model_module": "@jupyter-widgets/controls",
            "_model_module_version": "1.5.0",
            "_model_name": "DescriptionStyleModel",
            "_view_count": null,
            "_view_module": "@jupyter-widgets/base",
            "_view_module_version": "1.2.0",
            "_view_name": "StyleView",
            "description_width": ""
          }
        },
        "6f2ebc9f289647adbb6e1259c5770002": {
          "model_module": "@jupyter-widgets/controls",
          "model_module_version": "1.5.0",
          "model_name": "ProgressStyleModel",
          "state": {
            "_model_module": "@jupyter-widgets/controls",
            "_model_module_version": "1.5.0",
            "_model_name": "ProgressStyleModel",
            "_view_count": null,
            "_view_module": "@jupyter-widgets/base",
            "_view_module_version": "1.2.0",
            "_view_name": "StyleView",
            "bar_color": null,
            "description_width": ""
          }
        },
        "74717db091a643628e86d154fad53926": {
          "model_module": "@jupyter-widgets/controls",
          "model_module_version": "1.5.0",
          "model_name": "DescriptionStyleModel",
          "state": {
            "_model_module": "@jupyter-widgets/controls",
            "_model_module_version": "1.5.0",
            "_model_name": "DescriptionStyleModel",
            "_view_count": null,
            "_view_module": "@jupyter-widgets/base",
            "_view_module_version": "1.2.0",
            "_view_name": "StyleView",
            "description_width": ""
          }
        },
        "74c45832ec8941c3b6812b22cab5f262": {
          "model_module": "@jupyter-widgets/controls",
          "model_module_version": "1.5.0",
          "model_name": "HTMLModel",
          "state": {
            "_dom_classes": [],
            "_model_module": "@jupyter-widgets/controls",
            "_model_module_version": "1.5.0",
            "_model_name": "HTMLModel",
            "_view_count": null,
            "_view_module": "@jupyter-widgets/controls",
            "_view_module_version": "1.5.0",
            "_view_name": "HTMLView",
            "description": "",
            "description_tooltip": null,
            "layout": "IPY_MODEL_dd227a4b119d43aa8ff69d781666cda4",
            "placeholder": "​",
            "style": "IPY_MODEL_d4386661057d4e26a4768cbffc9d37b8",
            "value": "100%"
          }
        },
        "8053f1a5c3144f3296708cf29c1b7403": {
          "model_module": "@jupyter-widgets/controls",
          "model_module_version": "1.5.0",
          "model_name": "DescriptionStyleModel",
          "state": {
            "_model_module": "@jupyter-widgets/controls",
            "_model_module_version": "1.5.0",
            "_model_name": "DescriptionStyleModel",
            "_view_count": null,
            "_view_module": "@jupyter-widgets/base",
            "_view_module_version": "1.2.0",
            "_view_name": "StyleView",
            "description_width": ""
          }
        },
        "806422ba841b4e9ab69c6ef6370e48b2": {
          "model_module": "@jupyter-widgets/controls",
          "model_module_version": "1.5.0",
          "model_name": "FloatProgressModel",
          "state": {
            "_dom_classes": [],
            "_model_module": "@jupyter-widgets/controls",
            "_model_module_version": "1.5.0",
            "_model_name": "FloatProgressModel",
            "_view_count": null,
            "_view_module": "@jupyter-widgets/controls",
            "_view_module_version": "1.5.0",
            "_view_name": "ProgressView",
            "bar_style": "success",
            "description": "",
            "description_tooltip": null,
            "layout": "IPY_MODEL_dd9666a4f8d94e879ac4bee769beef17",
            "max": 1648877,
            "min": 0,
            "orientation": "horizontal",
            "style": "IPY_MODEL_2ee096c6005142f6b4cba07c197cee98",
            "value": 1648877
          }
        },
        "8302f73b99e044d2b99c1d5ed13ef04d": {
          "model_module": "@jupyter-widgets/base",
          "model_module_version": "1.2.0",
          "model_name": "LayoutModel",
          "state": {
            "_model_module": "@jupyter-widgets/base",
            "_model_module_version": "1.2.0",
            "_model_name": "LayoutModel",
            "_view_count": null,
            "_view_module": "@jupyter-widgets/base",
            "_view_module_version": "1.2.0",
            "_view_name": "LayoutView",
            "align_content": null,
            "align_items": null,
            "align_self": null,
            "border": null,
            "bottom": null,
            "display": null,
            "flex": null,
            "flex_flow": null,
            "grid_area": null,
            "grid_auto_columns": null,
            "grid_auto_flow": null,
            "grid_auto_rows": null,
            "grid_column": null,
            "grid_gap": null,
            "grid_row": null,
            "grid_template_areas": null,
            "grid_template_columns": null,
            "grid_template_rows": null,
            "height": null,
            "justify_content": null,
            "justify_items": null,
            "left": null,
            "margin": null,
            "max_height": null,
            "max_width": null,
            "min_height": null,
            "min_width": null,
            "object_fit": null,
            "object_position": null,
            "order": null,
            "overflow": null,
            "overflow_x": null,
            "overflow_y": null,
            "padding": null,
            "right": null,
            "top": null,
            "visibility": null,
            "width": null
          }
        },
        "842680c9dd484c96868680275d9702c5": {
          "model_module": "@jupyter-widgets/controls",
          "model_module_version": "1.5.0",
          "model_name": "HTMLModel",
          "state": {
            "_dom_classes": [],
            "_model_module": "@jupyter-widgets/controls",
            "_model_module_version": "1.5.0",
            "_model_name": "HTMLModel",
            "_view_count": null,
            "_view_module": "@jupyter-widgets/controls",
            "_view_module_version": "1.5.0",
            "_view_name": "HTMLView",
            "description": "",
            "description_tooltip": null,
            "layout": "IPY_MODEL_27a1bc440aef49cbb58284fd6d3ffa59",
            "placeholder": "​",
            "style": "IPY_MODEL_74717db091a643628e86d154fad53926",
            "value": " 4542/4542 [00:00&lt;00:00, 198250.95it/s]"
          }
        },
        "86d2acf293d340ea91bb87d88f435e17": {
          "model_module": "@jupyter-widgets/controls",
          "model_module_version": "1.5.0",
          "model_name": "ProgressStyleModel",
          "state": {
            "_model_module": "@jupyter-widgets/controls",
            "_model_module_version": "1.5.0",
            "_model_name": "ProgressStyleModel",
            "_view_count": null,
            "_view_module": "@jupyter-widgets/base",
            "_view_module_version": "1.2.0",
            "_view_name": "StyleView",
            "bar_color": null,
            "description_width": ""
          }
        },
        "8c2476b7576a4b07afe9b149cad55468": {
          "model_module": "@jupyter-widgets/controls",
          "model_module_version": "1.5.0",
          "model_name": "HBoxModel",
          "state": {
            "_dom_classes": [],
            "_model_module": "@jupyter-widgets/controls",
            "_model_module_version": "1.5.0",
            "_model_name": "HBoxModel",
            "_view_count": null,
            "_view_module": "@jupyter-widgets/controls",
            "_view_module_version": "1.5.0",
            "_view_name": "HBoxView",
            "box_style": "",
            "children": [
              "IPY_MODEL_74c45832ec8941c3b6812b22cab5f262",
              "IPY_MODEL_4129c1bd66bb4c16a58272bfc0d16e80",
              "IPY_MODEL_842680c9dd484c96868680275d9702c5"
            ],
            "layout": "IPY_MODEL_c86bcd591fac41dbbb2c35a09de7d368"
          }
        },
        "8edbe0152b0847c9aae1d5583f777b9d": {
          "model_module": "@jupyter-widgets/controls",
          "model_module_version": "1.5.0",
          "model_name": "HTMLModel",
          "state": {
            "_dom_classes": [],
            "_model_module": "@jupyter-widgets/controls",
            "_model_module_version": "1.5.0",
            "_model_name": "HTMLModel",
            "_view_count": null,
            "_view_module": "@jupyter-widgets/controls",
            "_view_module_version": "1.5.0",
            "_view_name": "HTMLView",
            "description": "",
            "description_tooltip": null,
            "layout": "IPY_MODEL_a5b5fd473c204d7a85b8b0f83501684d",
            "placeholder": "​",
            "style": "IPY_MODEL_6ce9e69535cb4084a8b6ca6cbe37c00b",
            "value": " 9912422/9912422 [00:00&lt;00:00, 63214719.32it/s]"
          }
        },
        "982fe1925c644bd6b7c3e1cc4e185793": {
          "model_module": "@jupyter-widgets/controls",
          "model_module_version": "1.5.0",
          "model_name": "FloatProgressModel",
          "state": {
            "_dom_classes": [],
            "_model_module": "@jupyter-widgets/controls",
            "_model_module_version": "1.5.0",
            "_model_name": "FloatProgressModel",
            "_view_count": null,
            "_view_module": "@jupyter-widgets/controls",
            "_view_module_version": "1.5.0",
            "_view_name": "ProgressView",
            "bar_style": "success",
            "description": "",
            "description_tooltip": null,
            "layout": "IPY_MODEL_b24bcbbf442a4ab491b1eefe7aba770f",
            "max": 9912422,
            "min": 0,
            "orientation": "horizontal",
            "style": "IPY_MODEL_86d2acf293d340ea91bb87d88f435e17",
            "value": 9912422
          }
        },
        "9b0e41158b56435c961a6c27da6ae3c9": {
          "model_module": "@jupyter-widgets/base",
          "model_module_version": "1.2.0",
          "model_name": "LayoutModel",
          "state": {
            "_model_module": "@jupyter-widgets/base",
            "_model_module_version": "1.2.0",
            "_model_name": "LayoutModel",
            "_view_count": null,
            "_view_module": "@jupyter-widgets/base",
            "_view_module_version": "1.2.0",
            "_view_name": "LayoutView",
            "align_content": null,
            "align_items": null,
            "align_self": null,
            "border": null,
            "bottom": null,
            "display": null,
            "flex": null,
            "flex_flow": null,
            "grid_area": null,
            "grid_auto_columns": null,
            "grid_auto_flow": null,
            "grid_auto_rows": null,
            "grid_column": null,
            "grid_gap": null,
            "grid_row": null,
            "grid_template_areas": null,
            "grid_template_columns": null,
            "grid_template_rows": null,
            "height": null,
            "justify_content": null,
            "justify_items": null,
            "left": null,
            "margin": null,
            "max_height": null,
            "max_width": null,
            "min_height": null,
            "min_width": null,
            "object_fit": null,
            "object_position": null,
            "order": null,
            "overflow": null,
            "overflow_x": null,
            "overflow_y": null,
            "padding": null,
            "right": null,
            "top": null,
            "visibility": null,
            "width": null
          }
        },
        "a21772b1ff384717b110af0a1d35c157": {
          "model_module": "@jupyter-widgets/controls",
          "model_module_version": "1.5.0",
          "model_name": "DescriptionStyleModel",
          "state": {
            "_model_module": "@jupyter-widgets/controls",
            "_model_module_version": "1.5.0",
            "_model_name": "DescriptionStyleModel",
            "_view_count": null,
            "_view_module": "@jupyter-widgets/base",
            "_view_module_version": "1.2.0",
            "_view_name": "StyleView",
            "description_width": ""
          }
        },
        "a5b5fd473c204d7a85b8b0f83501684d": {
          "model_module": "@jupyter-widgets/base",
          "model_module_version": "1.2.0",
          "model_name": "LayoutModel",
          "state": {
            "_model_module": "@jupyter-widgets/base",
            "_model_module_version": "1.2.0",
            "_model_name": "LayoutModel",
            "_view_count": null,
            "_view_module": "@jupyter-widgets/base",
            "_view_module_version": "1.2.0",
            "_view_name": "LayoutView",
            "align_content": null,
            "align_items": null,
            "align_self": null,
            "border": null,
            "bottom": null,
            "display": null,
            "flex": null,
            "flex_flow": null,
            "grid_area": null,
            "grid_auto_columns": null,
            "grid_auto_flow": null,
            "grid_auto_rows": null,
            "grid_column": null,
            "grid_gap": null,
            "grid_row": null,
            "grid_template_areas": null,
            "grid_template_columns": null,
            "grid_template_rows": null,
            "height": null,
            "justify_content": null,
            "justify_items": null,
            "left": null,
            "margin": null,
            "max_height": null,
            "max_width": null,
            "min_height": null,
            "min_width": null,
            "object_fit": null,
            "object_position": null,
            "order": null,
            "overflow": null,
            "overflow_x": null,
            "overflow_y": null,
            "padding": null,
            "right": null,
            "top": null,
            "visibility": null,
            "width": null
          }
        },
        "a9949e203e834fecbaf848618a578685": {
          "model_module": "@jupyter-widgets/controls",
          "model_module_version": "1.5.0",
          "model_name": "HTMLModel",
          "state": {
            "_dom_classes": [],
            "_model_module": "@jupyter-widgets/controls",
            "_model_module_version": "1.5.0",
            "_model_name": "HTMLModel",
            "_view_count": null,
            "_view_module": "@jupyter-widgets/controls",
            "_view_module_version": "1.5.0",
            "_view_name": "HTMLView",
            "description": "",
            "description_tooltip": null,
            "layout": "IPY_MODEL_dffa01a6dbce4b0d90a1d85b4873adb9",
            "placeholder": "​",
            "style": "IPY_MODEL_8053f1a5c3144f3296708cf29c1b7403",
            "value": "100%"
          }
        },
        "b24bcbbf442a4ab491b1eefe7aba770f": {
          "model_module": "@jupyter-widgets/base",
          "model_module_version": "1.2.0",
          "model_name": "LayoutModel",
          "state": {
            "_model_module": "@jupyter-widgets/base",
            "_model_module_version": "1.2.0",
            "_model_name": "LayoutModel",
            "_view_count": null,
            "_view_module": "@jupyter-widgets/base",
            "_view_module_version": "1.2.0",
            "_view_name": "LayoutView",
            "align_content": null,
            "align_items": null,
            "align_self": null,
            "border": null,
            "bottom": null,
            "display": null,
            "flex": null,
            "flex_flow": null,
            "grid_area": null,
            "grid_auto_columns": null,
            "grid_auto_flow": null,
            "grid_auto_rows": null,
            "grid_column": null,
            "grid_gap": null,
            "grid_row": null,
            "grid_template_areas": null,
            "grid_template_columns": null,
            "grid_template_rows": null,
            "height": null,
            "justify_content": null,
            "justify_items": null,
            "left": null,
            "margin": null,
            "max_height": null,
            "max_width": null,
            "min_height": null,
            "min_width": null,
            "object_fit": null,
            "object_position": null,
            "order": null,
            "overflow": null,
            "overflow_x": null,
            "overflow_y": null,
            "padding": null,
            "right": null,
            "top": null,
            "visibility": null,
            "width": null
          }
        },
        "b5c5df290fbd4ebe822e31626e69ec79": {
          "model_module": "@jupyter-widgets/controls",
          "model_module_version": "1.5.0",
          "model_name": "DescriptionStyleModel",
          "state": {
            "_model_module": "@jupyter-widgets/controls",
            "_model_module_version": "1.5.0",
            "_model_name": "DescriptionStyleModel",
            "_view_count": null,
            "_view_module": "@jupyter-widgets/base",
            "_view_module_version": "1.2.0",
            "_view_name": "StyleView",
            "description_width": ""
          }
        },
        "c5128da34a0647bb850a9543fb14700e": {
          "model_module": "@jupyter-widgets/controls",
          "model_module_version": "1.5.0",
          "model_name": "HBoxModel",
          "state": {
            "_dom_classes": [],
            "_model_module": "@jupyter-widgets/controls",
            "_model_module_version": "1.5.0",
            "_model_name": "HBoxModel",
            "_view_count": null,
            "_view_module": "@jupyter-widgets/controls",
            "_view_module_version": "1.5.0",
            "_view_name": "HBoxView",
            "box_style": "",
            "children": [
              "IPY_MODEL_a9949e203e834fecbaf848618a578685",
              "IPY_MODEL_e8229d97af0249ba9a7928872f12de8f",
              "IPY_MODEL_fe459a7f0a344aad8a08392e2587d640"
            ],
            "layout": "IPY_MODEL_eca57698e36144c08d9dedc2b2efdf9e"
          }
        },
        "c86bcd591fac41dbbb2c35a09de7d368": {
          "model_module": "@jupyter-widgets/base",
          "model_module_version": "1.2.0",
          "model_name": "LayoutModel",
          "state": {
            "_model_module": "@jupyter-widgets/base",
            "_model_module_version": "1.2.0",
            "_model_name": "LayoutModel",
            "_view_count": null,
            "_view_module": "@jupyter-widgets/base",
            "_view_module_version": "1.2.0",
            "_view_name": "LayoutView",
            "align_content": null,
            "align_items": null,
            "align_self": null,
            "border": null,
            "bottom": null,
            "display": null,
            "flex": null,
            "flex_flow": null,
            "grid_area": null,
            "grid_auto_columns": null,
            "grid_auto_flow": null,
            "grid_auto_rows": null,
            "grid_column": null,
            "grid_gap": null,
            "grid_row": null,
            "grid_template_areas": null,
            "grid_template_columns": null,
            "grid_template_rows": null,
            "height": null,
            "justify_content": null,
            "justify_items": null,
            "left": null,
            "margin": null,
            "max_height": null,
            "max_width": null,
            "min_height": null,
            "min_width": null,
            "object_fit": null,
            "object_position": null,
            "order": null,
            "overflow": null,
            "overflow_x": null,
            "overflow_y": null,
            "padding": null,
            "right": null,
            "top": null,
            "visibility": null,
            "width": null
          }
        },
        "d4386661057d4e26a4768cbffc9d37b8": {
          "model_module": "@jupyter-widgets/controls",
          "model_module_version": "1.5.0",
          "model_name": "DescriptionStyleModel",
          "state": {
            "_model_module": "@jupyter-widgets/controls",
            "_model_module_version": "1.5.0",
            "_model_name": "DescriptionStyleModel",
            "_view_count": null,
            "_view_module": "@jupyter-widgets/base",
            "_view_module_version": "1.2.0",
            "_view_name": "StyleView",
            "description_width": ""
          }
        },
        "dd227a4b119d43aa8ff69d781666cda4": {
          "model_module": "@jupyter-widgets/base",
          "model_module_version": "1.2.0",
          "model_name": "LayoutModel",
          "state": {
            "_model_module": "@jupyter-widgets/base",
            "_model_module_version": "1.2.0",
            "_model_name": "LayoutModel",
            "_view_count": null,
            "_view_module": "@jupyter-widgets/base",
            "_view_module_version": "1.2.0",
            "_view_name": "LayoutView",
            "align_content": null,
            "align_items": null,
            "align_self": null,
            "border": null,
            "bottom": null,
            "display": null,
            "flex": null,
            "flex_flow": null,
            "grid_area": null,
            "grid_auto_columns": null,
            "grid_auto_flow": null,
            "grid_auto_rows": null,
            "grid_column": null,
            "grid_gap": null,
            "grid_row": null,
            "grid_template_areas": null,
            "grid_template_columns": null,
            "grid_template_rows": null,
            "height": null,
            "justify_content": null,
            "justify_items": null,
            "left": null,
            "margin": null,
            "max_height": null,
            "max_width": null,
            "min_height": null,
            "min_width": null,
            "object_fit": null,
            "object_position": null,
            "order": null,
            "overflow": null,
            "overflow_x": null,
            "overflow_y": null,
            "padding": null,
            "right": null,
            "top": null,
            "visibility": null,
            "width": null
          }
        },
        "dd9666a4f8d94e879ac4bee769beef17": {
          "model_module": "@jupyter-widgets/base",
          "model_module_version": "1.2.0",
          "model_name": "LayoutModel",
          "state": {
            "_model_module": "@jupyter-widgets/base",
            "_model_module_version": "1.2.0",
            "_model_name": "LayoutModel",
            "_view_count": null,
            "_view_module": "@jupyter-widgets/base",
            "_view_module_version": "1.2.0",
            "_view_name": "LayoutView",
            "align_content": null,
            "align_items": null,
            "align_self": null,
            "border": null,
            "bottom": null,
            "display": null,
            "flex": null,
            "flex_flow": null,
            "grid_area": null,
            "grid_auto_columns": null,
            "grid_auto_flow": null,
            "grid_auto_rows": null,
            "grid_column": null,
            "grid_gap": null,
            "grid_row": null,
            "grid_template_areas": null,
            "grid_template_columns": null,
            "grid_template_rows": null,
            "height": null,
            "justify_content": null,
            "justify_items": null,
            "left": null,
            "margin": null,
            "max_height": null,
            "max_width": null,
            "min_height": null,
            "min_width": null,
            "object_fit": null,
            "object_position": null,
            "order": null,
            "overflow": null,
            "overflow_x": null,
            "overflow_y": null,
            "padding": null,
            "right": null,
            "top": null,
            "visibility": null,
            "width": null
          }
        },
        "dffa01a6dbce4b0d90a1d85b4873adb9": {
          "model_module": "@jupyter-widgets/base",
          "model_module_version": "1.2.0",
          "model_name": "LayoutModel",
          "state": {
            "_model_module": "@jupyter-widgets/base",
            "_model_module_version": "1.2.0",
            "_model_name": "LayoutModel",
            "_view_count": null,
            "_view_module": "@jupyter-widgets/base",
            "_view_module_version": "1.2.0",
            "_view_name": "LayoutView",
            "align_content": null,
            "align_items": null,
            "align_self": null,
            "border": null,
            "bottom": null,
            "display": null,
            "flex": null,
            "flex_flow": null,
            "grid_area": null,
            "grid_auto_columns": null,
            "grid_auto_flow": null,
            "grid_auto_rows": null,
            "grid_column": null,
            "grid_gap": null,
            "grid_row": null,
            "grid_template_areas": null,
            "grid_template_columns": null,
            "grid_template_rows": null,
            "height": null,
            "justify_content": null,
            "justify_items": null,
            "left": null,
            "margin": null,
            "max_height": null,
            "max_width": null,
            "min_height": null,
            "min_width": null,
            "object_fit": null,
            "object_position": null,
            "order": null,
            "overflow": null,
            "overflow_x": null,
            "overflow_y": null,
            "padding": null,
            "right": null,
            "top": null,
            "visibility": null,
            "width": null
          }
        },
        "e8229d97af0249ba9a7928872f12de8f": {
          "model_module": "@jupyter-widgets/controls",
          "model_module_version": "1.5.0",
          "model_name": "FloatProgressModel",
          "state": {
            "_dom_classes": [],
            "_model_module": "@jupyter-widgets/controls",
            "_model_module_version": "1.5.0",
            "_model_name": "FloatProgressModel",
            "_view_count": null,
            "_view_module": "@jupyter-widgets/controls",
            "_view_module_version": "1.5.0",
            "_view_name": "ProgressView",
            "bar_style": "success",
            "description": "",
            "description_tooltip": null,
            "layout": "IPY_MODEL_435346b946754687af671f2cdfbef395",
            "max": 28881,
            "min": 0,
            "orientation": "horizontal",
            "style": "IPY_MODEL_6f2ebc9f289647adbb6e1259c5770002",
            "value": 28881
          }
        },
        "eca57698e36144c08d9dedc2b2efdf9e": {
          "model_module": "@jupyter-widgets/base",
          "model_module_version": "1.2.0",
          "model_name": "LayoutModel",
          "state": {
            "_model_module": "@jupyter-widgets/base",
            "_model_module_version": "1.2.0",
            "_model_name": "LayoutModel",
            "_view_count": null,
            "_view_module": "@jupyter-widgets/base",
            "_view_module_version": "1.2.0",
            "_view_name": "LayoutView",
            "align_content": null,
            "align_items": null,
            "align_self": null,
            "border": null,
            "bottom": null,
            "display": null,
            "flex": null,
            "flex_flow": null,
            "grid_area": null,
            "grid_auto_columns": null,
            "grid_auto_flow": null,
            "grid_auto_rows": null,
            "grid_column": null,
            "grid_gap": null,
            "grid_row": null,
            "grid_template_areas": null,
            "grid_template_columns": null,
            "grid_template_rows": null,
            "height": null,
            "justify_content": null,
            "justify_items": null,
            "left": null,
            "margin": null,
            "max_height": null,
            "max_width": null,
            "min_height": null,
            "min_width": null,
            "object_fit": null,
            "object_position": null,
            "order": null,
            "overflow": null,
            "overflow_x": null,
            "overflow_y": null,
            "padding": null,
            "right": null,
            "top": null,
            "visibility": null,
            "width": null
          }
        },
        "fe459a7f0a344aad8a08392e2587d640": {
          "model_module": "@jupyter-widgets/controls",
          "model_module_version": "1.5.0",
          "model_name": "HTMLModel",
          "state": {
            "_dom_classes": [],
            "_model_module": "@jupyter-widgets/controls",
            "_model_module_version": "1.5.0",
            "_model_name": "HTMLModel",
            "_view_count": null,
            "_view_module": "@jupyter-widgets/controls",
            "_view_module_version": "1.5.0",
            "_view_name": "HTMLView",
            "description": "",
            "description_tooltip": null,
            "layout": "IPY_MODEL_29e1589004824db3a2999f87fd331c8d",
            "placeholder": "​",
            "style": "IPY_MODEL_659d798918974c4bb7b42f5cfcf6dc33",
            "value": " 28881/28881 [00:00&lt;00:00, 1326584.03it/s]"
          }
        }
      }
    }
  },
  "nbformat": 4,
  "nbformat_minor": 0
}
