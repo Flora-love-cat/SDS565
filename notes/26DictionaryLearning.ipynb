{
 "cells": [
  {
   "cell_type": "markdown",
   "metadata": {},
   "source": [
    "# outline"
   ]
  },
  {
   "cell_type": "markdown",
   "metadata": {},
   "source": [
    "- sparse coding (dictionary learning) 稀疏编码\n",
    "\n",
    "- deep unsupervised neural networks and sparse coding"
   ]
  },
  {
   "cell_type": "markdown",
   "metadata": {},
   "source": [
    "# dictionary learning"
   ]
  },
  {
   "attachments": {},
   "cell_type": "markdown",
   "metadata": {},
   "source": [
    "- roots in computational neuroscience (Olshausen and Field. 1996)\n",
    "\n",
    "\n",
    "- a type of non-orthogonal PCA\n",
    "\n",
    "\n",
    "- key components: redundancy, sparsity\n",
    "\n",
    "    we have seen sparsity in Regularization\n",
    "\n",
    "\n",
    "- together produce data-driven features that are localized, often interpretable\n",
    "\n",
    "\n",
    "- plays a role in deep learning"
   ]
  },
  {
   "cell_type": "markdown",
   "metadata": {},
   "source": [
    "## motivation"
   ]
  },
  {
   "attachments": {},
   "cell_type": "markdown",
   "metadata": {},
   "source": [
    "- neuroscience (Olshausen and Field. 1996)\n",
    "\n",
    "    \"Emergence of simple-cell receptive field properties by learning a sparse code for natural images\"\n",
    "\n",
    "    use math to model when human see an image, how neuron in brain get activated\n",
    "\n",
    "    not all neurons will be activated at the same time\n",
    "\n",
    "- 3 properties of receptive fields in visual cortex 视觉皮质的感受域:\n",
    "\n",
    "    these properties are comparable to function of **wavelet transform**\n",
    "\n",
    "    - spatially localized\n",
    "\n",
    "    - oriented\n",
    "\n",
    "    - bandpass (selective to structure at different spatial scales)\n",
    "\n",
    "\n",
    "\n",
    "- neuroscience -> image processing\n",
    "\n",
    "    an unsupervised learning algorithm that try to **find sparse linear codes for images that maximize sparseness** is sufficient to account for these properties\n",
    "\n",
    "    the resulting sparse image code provides an **efficient representation for image** for downstream analysis\n",
    "\n",
    "    coz its outputs have a higher degree of statistical independence"
   ]
  },
  {
   "cell_type": "markdown",
   "metadata": {},
   "source": [
    "## PCA vs. sparse coding"
   ]
  },
  {
   "attachments": {},
   "cell_type": "markdown",
   "metadata": {},
   "source": [
    "suppose we have a data set {$\\mathbf{y}_i \\in \\mathbb{R}^d$} $i=1,...,n$\n",
    "\n",
    "PCA finds the best $k$-term linear reconstruction of the data\n",
    "\n",
    "principal vectors $v_k$ are **orthogonal**"
   ]
  },
  {
   "attachments": {},
   "cell_type": "markdown",
   "metadata": {},
   "source": [
    "suppose $k=2$, choose mean of data and top 2 principal components $v_1, v_2$ to represent data:\n",
    "\n",
    "$$\n",
    "\\hat y = f(\\lambda) = \\bar y + \\lambda_1 v_1 + \\lambda_2 v_2\n",
    "$$"
   ]
  },
  {
   "cell_type": "markdown",
   "metadata": {},
   "source": [
    "**sparse coding change PCA in 2 ways**\n",
    "\n",
    "1. dictionary elements $v_j$ (columns) don't need to be orthogonal\n",
    "\n",
    "\n",
    "2. $\\lambda$ is sparse\n",
    "  \n",
    "$$\n",
    "\\hat {y}^{(\\lambda)} = \\sum_{j=1}^{|D|} \\lambda_j v_j\n",
    "$$\n",
    "\n",
    "where most of $\\lambda_j$ is 0\n",
    "\n",
    "$|D|$ is the size of dictionary, want $|D|$ to be large, so we can choose $v_j$ that represent data best\n",
    "\n"
   ]
  },
  {
   "attachments": {},
   "cell_type": "markdown",
   "metadata": {},
   "source": [
    "- PCA: \n",
    "\n",
    "    less informative, \n",
    "    \n",
    "    similar to sine function and Fourier Transformation 傅里叶变换\n",
    "\n",
    "\n",
    "- sparse coding (receptive field): \n",
    "\n",
    "    very informative, \n",
    "    \n",
    "    similar to Gabor wavelets 伽柏小波\n",
    "    \n",
    "    can detect edges at different scales and directions\n"
   ]
  },
  {
   "cell_type": "markdown",
   "metadata": {},
   "source": [
    "## formula"
   ]
  },
  {
   "attachments": {},
   "cell_type": "markdown",
   "metadata": {},
   "source": [
    "- goal: optimize over $\\beta$ and $X$ to minimize $l_2$ norm squared loss\n",
    "\n",
    "$$\n",
    "\\hat {\\beta}, \\hat X = \\underset{\\text{sparse } \\beta, X}{\\arg \\min} \\sum_{i=1}^n \\left \\|\\mathbf{y}_i -X\\beta_i \\right \\|_2^2\n",
    "$$"
   ]
  },
  {
   "attachments": {},
   "cell_type": "markdown",
   "metadata": {},
   "source": [
    "where dictionary elements $X_j$ are shared across all data (similar to principal vectors $v_j$)\n",
    "\n",
    "a dictionary element also called a codeword, is a column of matrix, a patch of an image\n",
    "\n",
    "coefficients  $\\beta_i$ are specific to each data point $X_i$ (similar to principal components $\\lambda_i$)\n",
    "\n",
    "\n"
   ]
  },
  {
   "attachments": {},
   "cell_type": "markdown",
   "metadata": {},
   "source": [
    "- spare coding vs. linear regression\n",
    "\n",
    "    linear regression: data $X$ is known, only optimize over $\\beta$"
   ]
  },
  {
   "cell_type": "markdown",
   "metadata": {},
   "source": [
    "## properties"
   ]
  },
  {
   "attachments": {},
   "cell_type": "markdown",
   "metadata": {},
   "source": [
    "- provide high dimensional, non-linear representation\n",
    "\n",
    "\n",
    "- sparsity enables codewords to specialize, isolate features\n",
    "\n",
    "\n",
    "- a type of topic modeling\n",
    "\n",
    "\n",
    "- variants succeed in image analysis"
   ]
  },
  {
   "cell_type": "markdown",
   "metadata": {},
   "source": [
    "## algorithm: alternative minimization"
   ]
  },
  {
   "attachments": {},
   "cell_type": "markdown",
   "metadata": {},
   "source": [
    "1. select a subset of data vectors $\\mathbf{y}_i$\n",
    "\n",
    "\n",
    "2. for the current dict (fixed $X$), solve for coefficients $\\beta_i$ using **sparse linear regression**\n",
    "\n",
    "$$\n",
    "\\hat \\beta_i=\\arg \\min_{\\beta_i}\\sum _i\\left \\|\\mathbf{y}_i -X\\beta_i \\right \\|_2^2\n",
    "$$\n",
    "\n",
    "3. solve for $X$ using stochastic gradient descent\n",
    "\n",
    "    compute gradient with respect to $X$\n",
    "\n",
    "\n",
    "4. solve for $\\beta_i$  again"
   ]
  },
  {
   "cell_type": "markdown",
   "metadata": {},
   "source": [
    "# deep learning: apply sparse coding hierarchically in layer"
   ]
  },
  {
   "cell_type": "markdown",
   "metadata": {},
   "source": [
    "# dict learning vs. topic modeling"
   ]
  },
  {
   "attachments": {},
   "cell_type": "markdown",
   "metadata": {},
   "source": [
    "- dict learning\n",
    "\n",
    "    1) Linear decomposition\n",
    "\n",
    "    2) sparsity from penalization of $\\beta$\n",
    "\n",
    "$$\n",
    "Y \\sim \\sum_j \\beta_j X_j\\\\[1em]\n",
    "\\text{with constraint for } X: 1^TX_j=1, X_j \\geq 0\n",
    "$$\n",
    "\n",
    "constraint is sum over $X$'s entries"
   ]
  },
  {
   "attachments": {},
   "cell_type": "markdown",
   "metadata": {},
   "source": [
    "- topic modeling\n",
    "\n",
    "    1) mixture model\n",
    "\n",
    "    2) sparsity from Dirichlet prior\n",
    "\n",
    "\n",
    "$$\n",
    "Y \\sim \\sum_{j=1}^K \\theta_j p(\\cdot |j)\n",
    "$$\n",
    "\n",
    "where $\\theta_j$ is probability of a word comes from a topic $j$\n",
    "\n",
    "$p(\\cdot |j)$ is distribution of word $i$ conditional on topic $j$\n"
   ]
  },
  {
   "attachments": {},
   "cell_type": "markdown",
   "metadata": {},
   "source": [
    "### similarity"
   ]
  },
  {
   "attachments": {},
   "cell_type": "markdown",
   "metadata": {},
   "source": [
    "- same linear model of dict learning and topic modelling: \n",
    "\n",
    "    the probability of word $i$ is in a doc is $Y_i$\n",
    "    \n",
    "$$\n",
    "\\begin{align}\n",
    "\\text{Dict learning  } Y_i \\sim \\sum_{j=1}^K \\beta_j [X_j]_{i}\\\\[1em]\n",
    "\\text{Topic modeling  } Y_i \\sim \\sum_{j=1}^K \\theta_j p(i |j)\n",
    "\\end{align}\n",
    "$$"
   ]
  },
  {
   "attachments": {},
   "cell_type": "markdown",
   "metadata": {},
   "source": [
    "$K$ is number of topics in a corpus\n",
    "\n",
    "dict element $X_j \\in [0, 1]^{|V|}$ is a topic distribution,\n",
    "    \n",
    "$|V|$ is vocabulary size\n",
    "\n",
    "$p(i|j) = [X_j]_{i} \\in [0, 1]$ is the probability that word $i$ occurs in topic $j$\n",
    "\n",
    "$\\beta_j = \\theta_j$ is probability that this topic distribution will affect $Y$"
   ]
  },
  {
   "attachments": {},
   "cell_type": "markdown",
   "metadata": {},
   "source": [
    "### difference"
   ]
  },
  {
   "attachments": {},
   "cell_type": "markdown",
   "metadata": {},
   "source": [
    "|             | dictionary learning | topic modelling  |\n",
    "|-------------|---------------------|------------------|\n",
    "| perspective | classical           | Bayesian         |\n",
    "| approach    | regularization      | latent variable  |\n",
    "| thinking    | sparsity            | generative model |\n",
    "| methods     | optimization        | simulation       |"
   ]
  },
  {
   "cell_type": "markdown",
   "metadata": {},
   "source": [
    "when we have specific $Y$\n",
    "\n",
    "- dict learning\n",
    "\n",
    "    some $\\beta_j$ naturally exist, \n",
    "    \n",
    "    pick $\\beta_j$ arbitrarily with **no** probability distribution\n",
    "\n",
    "\n",
    "- topic modeling\n",
    "\n",
    "    has a nice probalistic hierarchical structure,\n",
    "    \n",
    "    first pick $\\theta_j$ from some distribution (topic distribution for a specific doc)\n",
    "    \n",
    "    "
   ]
  },
  {
   "cell_type": "markdown",
   "metadata": {},
   "source": [
    "# alternative minimization"
   ]
  },
  {
   "cell_type": "markdown",
   "metadata": {},
   "source": [
    "**goal**: optimize over $A$ and $B$ to minimize $f$\n",
    "\n",
    "$$\n",
    "\\hat A, \\hat B = \\arg \\min_{A,B} f(A,B)\n",
    "$$"
   ]
  },
  {
   "attachments": {},
   "cell_type": "markdown",
   "metadata": {},
   "source": [
    "**problem**: it's hard to simultaneously optimize $A$ and $B$\n",
    "\n",
    "**solution**: once optimize one parameter ($A$) for a fixed parameter ($B$)\n",
    "\n",
    "**e.g**., K-means, dict learning"
   ]
  },
  {
   "attachments": {},
   "cell_type": "markdown",
   "metadata": {},
   "source": [
    "**algorithm**\n",
    "\n",
    "1. randomly initiate $A_0$ or a smart guess\n",
    "\n",
    "\n",
    "2. solve for $B_1$ for a fixed $A_0$, also called coordinate descent\n",
    "\n",
    "$$\n",
    "\\hat B_1 = \\arg \\min_{B} f(A_0,B)\n",
    "$$\n",
    "\n",
    "\n",
    "3. solve for $A_1$ for a fixed $B_1$\n",
    "\n",
    "$$\n",
    "\\hat A_1 = \\arg \\min_{A} f(A,B_1)\n",
    "$$\n",
    "\n",
    "\n",
    "4. repeat solving for $B_{k+1}$ and $A_{k+1}$\n",
    "\n",
    "$$\n",
    "\\hat B_{k+1} = \\arg \\min_{B} f(A_k,B) \\\\[1em]\n",
    "\n",
    "\\hat A_{k+1} = \\arg \\min_{A} f(A,B_{k+1})\n",
    "$$\n",
    "\n",
    "\n",
    "Note: can also add constraint to loss, which keeps new B (A) close to previous B (A)\n",
    "\n",
    "$$\n",
    "\\hat B_{k+1} = \\arg \\min_{B} f(A_k,B) + \\lambda \\left \\| B-B_k \\right \\|_2^2 \\\\[1em]\n",
    "\n",
    "\\hat A_{k+1} = \\arg \\min_{A} f(A,B_{k+1}) + \\lambda \\left \\| A-A_k \\right \\|_2^2\n",
    "$$"
   ]
  },
  {
   "cell_type": "markdown",
   "metadata": {},
   "source": [
    "## k-means"
   ]
  },
  {
   "attachments": {},
   "cell_type": "markdown",
   "metadata": {},
   "source": [
    "**Goal**: optimize over $\\mu^{(j)}$ and $\\pi(i)$ to minimize Euclidean distance between data point and centroid\n",
    "\n",
    "$$\n",
    "\\hat \\mu^{(j)}, \\hat \\pi(i)= \\underset{\\mu^{(j)}, \\pi(i)}{\\arg\\min} \\sum _{i=1}^n \\left \\| \\mathbf{y}_i - \\mu^{(\\pi(i))}\\right \\|_2^2\n",
    "$$\n",
    "\n",
    "where individual data point $\\mathbf{y}_i \\in \\mathbb{R}^d$\n",
    "\n",
    "a cluster centroid $\\mu^{(j)} \\in \\mathbb{R}^d$\n",
    "\n",
    "mapping function $\\pi(i): [n] \\mapsto [K]$\n",
    "\n",
    "$K$ is the number of clusters, $d$ is the dimension of data"
   ]
  },
  {
   "cell_type": "markdown",
   "metadata": {},
   "source": [
    "**problem**: computationally intractable\n",
    "\n",
    "**solution**: alternative minimizationn"
   ]
  },
  {
   "attachments": {},
   "cell_type": "markdown",
   "metadata": {},
   "source": [
    "**algorithm**\n",
    "\n",
    "1. smartly/randomly initialize $\\mu^{(j)}$ to be the mean of data points\n",
    "\n",
    "\n",
    "2. alternative solving for $\\pi(i)$ and $\\mu^{(j)}$\n",
    "\n",
    "$$\n",
    "\\hat \\pi(i)= \\arg\\min_{j \\in [K]} \\sum _{i=1}^n \\left \\| \\mathbf{y}_i - \\mu^{(j)}\\right \\|_2^2 \\\\[1em]\n",
    "\n",
    "\\mu^{(j)}= \\frac{1}{|C_j|}\\sum _{i \\in C_j} \\mathbf{y}_i\\ \\ \\ C_j=\\left \\{ i | \\pi^{(i)}=j \\right \\}\n",
    "$$\n",
    "\n",
    "where $|C_j|$ is the number of data points belong to cluster $j$"
   ]
  },
  {
   "cell_type": "markdown",
   "metadata": {},
   "source": [
    "## dict learning"
   ]
  },
  {
   "attachments": {},
   "cell_type": "markdown",
   "metadata": {},
   "source": [
    "Model:\n",
    "\n",
    "$$\n",
    "\\mathbf{y}_i = X \\beta_i\n",
    "$$"
   ]
  },
  {
   "cell_type": "markdown",
   "metadata": {},
   "source": [
    "- goal: optimize over $\\beta$ and $X$ to minimize $l_2$ norm squared loss\n",
    "\n",
    "$$\n",
    "\\hat {\\beta}, \\hat X = \\underset{\\text{sparse } \\beta, X}{\\arg \\min} \\sum_{i=1}^n \\left \\|\\mathbf{y}_i -X\\beta_i \\right \\|_2^2\n",
    "$$"
   ]
  },
  {
   "cell_type": "markdown",
   "metadata": {},
   "source": [
    "### special case"
   ]
  },
  {
   "attachments": {},
   "cell_type": "markdown",
   "metadata": {},
   "source": [
    "where data point $\\mathbf{y}_i \\in \\mathbb{R}^{d}$, matrix $X \\in \\mathbb{R}^{d \\times K}$\n",
    "\n",
    "column vector $\\beta_i \\in \\mathbb{R}^K$ is 1-hot encoding\n",
    "\n",
    "thus, the representation of $\\mathbf{y}_i$: $X\\beta_i$ is just a column of $X$\n",
    "\n",
    "suppose the jth entry of $\\beta_i$ is 1, then $\\mathbf{y}_i = x_j$,  the jth column of $X$\n",
    "\n",
    "$$\n",
    "\\begin{bmatrix}|\\\\ |\\\\ \\mathbf{y}_i\\\\ |\\\\ |\\end{bmatrix} = \\begin{bmatrix}—x_1^T—\\\\ \\cdots \\\\ —x_K^T—\\end{bmatrix} \\begin{bmatrix}0\\\\ \\vdots \\\\ 1\\\\ \\vdots \\\\ 0\\end{bmatrix}=\\begin{bmatrix}|\\\\ |\\\\ x_j\\\\ |\\\\ |\\end{bmatrix} \n",
    "$$"
   ]
  },
  {
   "cell_type": "markdown",
   "metadata": {},
   "source": [
    "### general case"
   ]
  },
  {
   "attachments": {},
   "cell_type": "markdown",
   "metadata": {},
   "source": [
    "1. select a subset of data vectors $\\mathbf{y}_i$\n",
    "\n",
    "\n",
    "2. initialize smartly/randomly a matrix $X \\in \\mathbb{R}^{d \\times D}$\n",
    "\n",
    "    where $D$ is the size of dict, usually $D \\gg d$, sometimes $d \\approx K^2 \\log(D)$\n",
    "\n",
    "    $K$ is the sparsity of $\\beta_i$, $K \\approx e^d$\n",
    "\n",
    "\n",
    "3. for the current dict (a fixed $X$), solve for coefficients $\\beta_i \\in \\mathbb{R}^D$ \n",
    "\n",
    "    using **forward selection or Lasso regression**\n",
    "\n",
    "$$\n",
    "\\hat \\beta_i=\\underset{\\text{sparse } \\beta_i}{\\arg \\min} \\sum _i^n\\left \\|\\mathbf{y}_i -X\\beta_i \\right \\|_2^2\n",
    "$$"
   ]
  },
  {
   "attachments": {},
   "cell_type": "markdown",
   "metadata": {},
   "source": [
    "- For Lasso regression, use a $l_1$ norm regularizer\n",
    "\n",
    "$$\n",
    "\\hat \\beta_i=\\underset{\\text{sparse } \\beta_i}{\\arg \\min}\\sum _i^n\\left \\|\\mathbf{y}_i -X\\beta_i \\right \\|_2^2 + \\lambda \\left \\| \\beta_i \\right \\|_1\n",
    "$$\n",
    "\n",
    "\n",
    "4. for a fixed $\\beta_i$, solve for $X$ using **linear regression**\n",
    "\n",
    "    solution is just least squares\n",
    "\n",
    "$$\n",
    "\\hat X=\\arg \\min_{X}\\sum _i^n\\left \\|\\mathbf{y}_i -X\\beta_i \\right \\|_2^2\n",
    "$$"
   ]
  },
  {
   "attachments": {},
   "cell_type": "markdown",
   "metadata": {},
   "source": [
    "- sometimes can add a **Ridge regularizer** ($l_2$ norm) for $X$: \n",
    "\n",
    "\n",
    "$$\n",
    "\\hat X=\\arg \\min_{X}\\sum _i^n\\left \\|\\mathbf{y}_i -X\\beta_i \\right \\|_2^2 + \\frac{\\mu}{2} \\left \\| X \\right \\|_F^2 \n",
    "$$\n",
    "\n",
    "Fobenius norm of a matrix is sum of squared entries of the matrix\n",
    "\n",
    "$$\n",
    "\\left \\| X \\right \\|_F^2 =  \\sum_{a=1}^d \\sum_{b=1}^DX_{(a,b)}^2\n",
    "$$\n",
    "\n",
    "\n",
    "5. solve for $\\beta_i$  again"
   ]
  },
  {
   "cell_type": "markdown",
   "metadata": {},
   "source": [
    "# gradient descent"
   ]
  },
  {
   "attachments": {},
   "cell_type": "markdown",
   "metadata": {},
   "source": [
    "Types of gradient descent \n",
    "\n",
    "1) number of parameters updated\n",
    "\n",
    "- full gradient descent: update both $X$ and $\\beta$\n",
    "\n",
    "\n",
    "- partial gradient descent: only update $X$\n",
    "\n",
    "\n",
    "2) number of samples used to calculate gradient\n",
    "\n",
    "- gradient descent: full data set (N=n)\n",
    "\n",
    "\n",
    "- mini-batch gradient descent: a subset of data: a subset of dataset (N=batch size)\n",
    "\n",
    "\n",
    "- stochastic gradient descent: only a data point (N=1)"
   ]
  },
  {
   "attachments": {},
   "cell_type": "markdown",
   "metadata": {},
   "source": [
    "Model:\n",
    "\n",
    "$$\n",
    "\\mathbf{y}_i = X \\beta_i\n",
    "$$"
   ]
  },
  {
   "attachments": {},
   "cell_type": "markdown",
   "metadata": {},
   "source": [
    "**Loss function**\n",
    "\n",
    "$$\n",
    "L(X,\\beta)=\\sum _i^n \\left \\|\\mathbf{y}_i -X\\beta_i \\right \\|_2^2\n",
    "$$\n",
    "\n",
    "\n",
    "**Goal**: optimize over $X$ and $\\beta$, minimize **loss function with elastic network** ($l_2$ norm for $X$ and $l_1$ norm for $\\beta$)\n",
    "\n",
    "$$\n",
    "\\hat X, \\hat \\beta= \\arg \\min_{X,\\beta} L(X,\\beta) + \\frac{\\mu}{2} \\left \\| X \\right \\|_F^2 + \\lambda \\sum _i^n \\left \\| \\beta_i \\right \\|_1\n",
    "$$\n",
    "\n",
    "   where data point is column vector $\\mathbf{y}_i \\in \\mathbb{R}^{d}$\n",
    "    \n",
    "   matrix $X \\in \\mathbb{R}^{d \\times D}$, \n",
    "    \n",
    "   coefficient column vector $\\beta_i \\in \\mathbb{R}^D$"
   ]
  },
  {
   "cell_type": "markdown",
   "metadata": {},
   "source": [
    "## full gradient descent"
   ]
  },
  {
   "attachments": {},
   "cell_type": "markdown",
   "metadata": {},
   "source": [
    "**algorithm**\n",
    "\n",
    "1. randomly initialize $X$ and $\\beta$\n",
    "\n",
    "\n",
    "2. **update both $X$ and $\\beta$**\n",
    "\n",
    "\n",
    "- use different learning rate $\\eta$ annd $\\gamma$ for $X$ and $\\beta$\n",
    "   \n",
    "\n",
    "- update $X$\n",
    "\n",
    "$$\n",
    "X^{(k+1)}=X^{(k)} - \\eta \\nabla_x L(X^{(k)} ,\\beta^{(k)})- \\eta \\mu X^{(k)}\n",
    "$$\n",
    "\n",
    "  neural net call $- \\eta \\mu X^{(k)}$ as **weight decay**\n",
    "\n",
    "\n",
    "- update $\\beta$\n",
    "\n",
    "    using $l_1$ norm will slow down update for $\\beta$, so we use **shrinkage** instead\n",
    "\n",
    "    regular gradient descent would be $\\tilde \\beta^{(k+1)}$:\n",
    "\n",
    "$$\n",
    "\\tilde \\beta^{(k+1)}=\\beta^{(k)} - \\gamma \\nabla_{\\beta}L(X^{(k)} ,\\beta^{(k)})\n",
    "$$"
   ]
  },
  {
   "cell_type": "markdown",
   "metadata": {},
   "source": [
    "   now updated $\\beta^{(k+1)}$ is:\n",
    "\n",
    "$$\n",
    "\\beta^{(k+1)}=S_{\\gamma^{(k)},\\lambda}\\left ( \\tilde \\beta^{(k+1)} \\right )=\\left\\{\\begin{matrix}\n",
    " \\tilde \\beta^{(k+1)} - \\lambda & (\\tilde \\beta^{(k+1)} > \\lambda) \\\\ \n",
    "0 & ( -\\lambda < \\tilde \\beta^{(k+1)} < \\lambda)\\\\ \n",
    "\\tilde \\beta^{(k+1)} + \\lambda & (\\tilde \\beta^{(k+1)} <- \\lambda) \n",
    "\\end{matrix}\\right.\n",
    "$$"
   ]
  },
  {
   "attachments": {},
   "cell_type": "markdown",
   "metadata": {},
   "source": [
    "where $S$ is the shrinkage function\n",
    "\n",
    "$$\n",
    "S_a(v)=\\text{sign}(v)\\cdot \\max(|v|-a, 0)=\\left\\{\\begin{matrix}\n",
    "v-a & (v > a)\\\\ \n",
    "0 & (-a <v<a)\\\\ \n",
    "v+a &(v <-a) \n",
    "\\end{matrix}\\right.\n",
    "$$"
   ]
  },
  {
   "attachments": {
    "image.png": {
     "image/png": "[encoded data removed]"
    }
   },
   "cell_type": "markdown",
   "metadata": {
    "cell_style": "split"
   },
   "source": [
    "![image.png](attachment:image.png)"
   ]
  },
  {
   "cell_type": "markdown",
   "metadata": {},
   "source": [
    "## partial gradient descent"
   ]
  },
  {
   "attachments": {},
   "cell_type": "markdown",
   "metadata": {},
   "source": [
    "**algorithm**\n",
    "\n",
    "1. randomly initialize $X$\n",
    "\n",
    "\n",
    "2. learn $\\beta$\n",
    "\n",
    "    for the current dict (a fixed $X$), solve for coefficients $\\beta_i \\in \\mathbb{R}^D$ \n",
    "\n",
    "    using **forward selection or Lasso regression**\n",
    "\n",
    "$$\n",
    "\\hat \\beta_i=\\underset{\\text{sparse } \\beta_i}{\\arg \\min}\\sum _i^n\\left \\|\\mathbf{y}_i -X\\beta_i \\right \\|_2^2\n",
    "$$\n",
    "\n",
    "- For Lasso regression, use a $l_1$ norm regularizer\n",
    "\n",
    "$$\n",
    "\\hat \\beta_i=\\underset{\\text{sparse } \\beta_i}{\\arg \\min}\\sum _i^n\\left \\|\\mathbf{y}_i -X\\beta_i \\right \\|_2^2 + \\lambda \\left \\| \\beta_i \\right \\|_1\n",
    "$$\n",
    "\n",
    "\n",
    "3. **only update** $X$ using gradient descent slowly\n",
    "\n",
    "$$\n",
    "X^{(k+1)}=X^{(k)} - \\eta \\nabla_x L(X^{(k)} ,\\beta)- \\eta \\mu X^{(k)}\n",
    "$$\n"
   ]
  }
 ],
 "metadata": {
  "hide_input": false,
  "kernelspec": {
   "display_name": "d2l",
   "language": "python",
   "name": "python3"
  },
  "language_info": {
   "codemirror_mode": {
    "name": "ipython",
    "version": 3
   },
   "file_extension": ".py",
   "mimetype": "text/x-python",
   "name": "python",
   "nbconvert_exporter": "python",
   "pygments_lexer": "ipython3",
   "version": "3.8.10"
  },
  "toc": {
   "base_numbering": 1,
   "nav_menu": {},
   "number_sections": true,
   "sideBar": true,
   "skip_h1_title": false,
   "title_cell": "Table of Contents",
   "title_sidebar": "Contents",
   "toc_cell": false,
   "toc_position": {},
   "toc_section_display": true,
   "toc_window_display": true
  },
  "varInspector": {
   "cols": {
    "lenName": 16,
    "lenType": 16,
    "lenVar": 40
   },
   "kernels_config": {
    "python": {
     "delete_cmd_postfix": "",
     "delete_cmd_prefix": "del ",
     "library": "var_list.py",
     "varRefreshCmd": "print(var_dic_list())"
    },
    "r": {
     "delete_cmd_postfix": ") ",
     "delete_cmd_prefix": "rm(",
     "library": "var_list.r",
     "varRefreshCmd": "cat(var_dic_list()) "
    }
   },
   "types_to_exclude": [
    "module",
    "function",
    "builtin_function_or_method",
    "instance",
    "_Feature"
   ],
   "window_display": false
  },
  "vscode": {
   "interpreter": {
    "hash": "15a162aef56c374f20e075fbc4add75b55bd097c903a763d3b0c4cccda1c0caf"
   }
  }
 },
 "nbformat": 4,
 "nbformat_minor": 4
}
